{
 "cells": [
  {
   "cell_type": "code",
   "execution_count": 1,
   "metadata": {},
   "outputs": [
    {
     "name": "stdout",
     "output_type": "stream",
     "text": [
      "importing Jupyter notebook from analysis_utils.ipynb\n"
     ]
    }
   ],
   "source": [
    "import pandas as pd\n",
    "import import_ipynb\n",
    "import analysis_utils as utils\n",
    "import matplotlib.pyplot as plt\n",
    "from sklearn.linear_model import LinearRegression\n",
    "from sklearn.model_selection import train_test_split\n",
    "from sklearn.metrics import r2_score, mean_squared_error"
   ]
  },
  {
   "cell_type": "code",
   "execution_count": 2,
   "metadata": {},
   "outputs": [],
   "source": [
    "# Set oandas formating options\n",
    "pd.options.display.float_format = '{:.2f}'.format\n",
    "pd.options.display.width = 2000\n",
    "pd.options.display.max_columns = 10"
   ]
  },
  {
   "cell_type": "code",
   "execution_count": 3,
   "metadata": {},
   "outputs": [],
   "source": [
    "# 1. load airbnb data using UDF\n",
    "data_type = ['calendar'\n",
    "             , 'listings'\n",
    "             , 'reviews']\n",
    "\n",
    "city_type = ['seattle'\n",
    "             , 'boston']\n",
    "\n",
    "city_dictionary = utils.load_csv(city_type, data_type, 'data')"
   ]
  },
  {
   "cell_type": "code",
   "execution_count": 4,
   "metadata": {
    "scrolled": true
   },
   "outputs": [],
   "source": [
    "# 2. create separate dataframes for each city and data set\n",
    "reviews_df = utils.concatenate_dataframes(city_dictionary, 'reviews')\n",
    "calendar_df = utils.concatenate_dataframes(city_dictionary, 'calendar')\n",
    "listings_df = utils.concatenate_dataframes(city_dictionary, 'listings')"
   ]
  },
  {
   "cell_type": "code",
   "execution_count": 5,
   "metadata": {},
   "outputs": [
    {
     "name": "stdout",
     "output_type": "stream",
     "text": [
      "(3585, 99)\n",
      "(3818, 99)\n"
     ]
    }
   ],
   "source": [
    "# 3.  check shape of the listings df\n",
    "print(listings_df[listings_df['boston'] == 1].shape)\n",
    "print(listings_df[listings_df['boston'] == 0].shape)\n",
    "# seattle has slighlty more observations"
   ]
  },
  {
   "cell_type": "code",
   "execution_count": 6,
   "metadata": {},
   "outputs": [
    {
     "name": "stdout",
     "output_type": "stream",
     "text": [
      "                            index  seattle  boston\n",
      "63                        license     1.00    1.00\n",
      "11             jurisdiction_names     0.00    1.00\n",
      "77   neighbourhood_group_cleansed     0.00    1.00\n",
      "81               has_availability     0.00    1.00\n",
      "41                    square_feet     0.97    0.98\n",
      "73            monthly_price_float     0.60    0.75\n",
      "85                  monthly_price     0.60    0.75\n",
      "14                   weekly_price     0.47    0.75\n",
      "67             weekly_price_float     0.47    0.75\n",
      "71               security_deposit     0.51    0.63\n",
      "27                          notes     0.42    0.55\n",
      "54          neighborhood_overview     0.27    0.39\n",
      "69                     host_about     0.22    0.37\n",
      "96                        transit     0.24    0.36\n",
      "52                   cleaning_fee     0.27    0.31\n",
      "65                          space     0.15    0.29\n",
      "86         review_scores_accuracy     0.17    0.23\n",
      "51         review_scores_location     0.17    0.23\n",
      "92            review_scores_value     0.17    0.23\n",
      "22          review_scores_checkin     0.17    0.23\n",
      "5       review_scores_cleanliness     0.17    0.23\n",
      "1     review_scores_communication     0.17    0.23\n",
      "83           review_scores_rating     0.17    0.23\n",
      "8               reviews_per_month     0.16    0.21\n",
      "26                    last_review     0.16    0.21\n",
      "82                   first_review     0.16    0.21\n",
      "33                     medium_url     0.08    0.17\n",
      "58                 xl_picture_url     0.08    0.17\n",
      "78                  thumbnail_url     0.08    0.17\n",
      "49                  neighbourhood     0.11    0.15\n",
      "70           host_acceptance_rate     0.20    0.13\n",
      "3              host_response_time     0.14    0.13\n",
      "61             host_response_rate     0.14    0.13\n",
      "37             host_neighbourhood     0.08    0.09\n",
      "12                        summary     0.05    0.04\n",
      "15                        zipcode     0.00    0.01\n",
      "93                      bathrooms     0.00    0.00\n",
      "56                         market     0.00    0.00\n",
      "74                  host_location     0.00    0.00\n",
      "4                        bedrooms     0.00    0.00\n",
      "89                           beds     0.00    0.00\n",
      "68                  property_type     0.00    0.00\n",
      "79                           city     0.00    0.00\n",
      "16              host_is_superhost     0.00    0.00\n",
      "17                     host_since     0.00    0.00\n",
      "23                      host_name     0.00    0.00\n",
      "35                 host_since_day     0.00    0.00\n",
      "40      host_total_listings_count     0.00    0.00\n",
      "47            host_listings_count     0.00    0.00\n",
      "59         host_identity_verified     0.00    0.00\n",
      "60           host_has_profile_pic     0.00    0.00\n",
      "66               host_since_month     0.00    0.00\n",
      "72               host_picture_url     0.00    0.00\n",
      "88                host_since_year     0.00    0.00\n",
      "97             host_thumbnail_url     0.00    0.00\n",
      "0                  smart_location     0.00    0.00\n",
      "2                         host_id     0.00    0.00\n",
      "6   require_guest_profile_picture     0.00    0.00\n",
      "7                     description     0.00    0.00\n",
      "9           calendar_last_scraped     0.00    0.00\n"
     ]
    }
   ],
   "source": [
    "# 4. check missing data\n",
    "# create a list of columns that have more than 50% of missing data to drop then later\n",
    "columns_with_missing_values = utils.check_missing_values(listings_df, 0.5)"
   ]
  },
  {
   "cell_type": "code",
   "execution_count": 7,
   "metadata": {},
   "outputs": [
    {
     "name": "stdout",
     "output_type": "stream",
     "text": [
      "                               index  seattle  boston\n",
      "11      neighbourhood_group_cleansed     0.00    1.00\n",
      "18                  has_availability     0.00    1.00\n",
      "32                jurisdiction_names     0.00    1.00\n",
      "21                     monthly_price     0.60    0.75\n",
      "37                      weekly_price     0.47    0.75\n",
      "1                   security_deposit     0.51    0.63\n",
      "0                              notes     0.42    0.55\n",
      "64             neighborhood_overview     0.27    0.39\n",
      "59                        host_about     0.22    0.37\n",
      "56                           transit     0.24    0.36\n",
      "61                      cleaning_fee     0.27    0.31\n",
      "38                             space     0.15    0.29\n",
      "20                      first_review     0.16    0.21\n",
      "22                       last_review     0.16    0.21\n",
      "9                     xl_picture_url     0.08    0.17\n",
      "12                     thumbnail_url     0.08    0.17\n",
      "25                        medium_url     0.08    0.17\n",
      "53                     neighbourhood     0.11    0.15\n",
      "62              host_acceptance_rate     0.20    0.13\n",
      "13                host_response_time     0.14    0.13\n",
      "26                host_response_rate     0.14    0.13\n",
      "31                host_neighbourhood     0.08    0.09\n",
      "33                           summary     0.05    0.04\n",
      "39                           zipcode     0.00    0.01\n",
      "8                             market     0.00    0.00\n",
      "5                      host_location     0.00    0.00\n",
      "50                     property_type     0.00    0.00\n",
      "14                              city     0.00    0.00\n",
      "3                   host_picture_url     0.00    0.00\n",
      "19            host_identity_verified     0.00    0.00\n",
      "23              host_has_profile_pic     0.00    0.00\n",
      "28                    host_since_day     0.00    0.00\n",
      "35                   host_since_year     0.00    0.00\n",
      "41                  host_since_month     0.00    0.00\n",
      "42                 host_is_superhost     0.00    0.00\n",
      "44                        host_since     0.00    0.00\n",
      "47                host_thumbnail_url     0.00    0.00\n",
      "57                         host_name     0.00    0.00\n",
      "2                     smart_location     0.00    0.00\n",
      "4                   instant_bookable     0.00    0.00\n",
      "6   require_guest_phone_verification     0.00    0.00\n",
      "7                        picture_url     0.00    0.00\n",
      "10                             state     0.00    0.00\n",
      "15                host_verifications     0.00    0.00\n",
      "16     require_guest_profile_picture     0.00    0.00\n",
      "17                       description     0.00    0.00\n",
      "24             calendar_last_scraped     0.00    0.00\n",
      "27                         room_type     0.00    0.00\n",
      "29                         amenities     0.00    0.00\n",
      "30                  requires_license     0.00    0.00\n",
      "34                           country     0.00    0.00\n",
      "36                 is_location_exact     0.00    0.00\n",
      "40                          host_url     0.00    0.00\n",
      "43            neighbourhood_cleansed     0.00    0.00\n",
      "45                             price     0.00    0.00\n",
      "46                      country_code     0.00    0.00\n",
      "48                       listing_url     0.00    0.00\n",
      "49               experiences_offered     0.00    0.00\n",
      "51                          bed_type     0.00    0.00\n",
      "52                      last_scraped     0.00    0.00\n"
     ]
    },
    {
     "data": {
      "text/plain": [
       "['neighbourhood_group_cleansed',\n",
       " 'has_availability',\n",
       " 'jurisdiction_names',\n",
       " 'monthly_price',\n",
       " 'weekly_price',\n",
       " 'security_deposit',\n",
       " 'notes']"
      ]
     },
     "execution_count": 7,
     "metadata": {},
     "output_type": "execute_result"
    }
   ],
   "source": [
    "# Check missing data in categorical series\n",
    "string_columns = list(set(listings_df.select_dtypes(include=['object']).columns)) + ['boston']\n",
    "utils.check_missing_values(listings_df[string_columns], 0.5)"
   ]
  },
  {
   "cell_type": "code",
   "execution_count": 8,
   "metadata": {},
   "outputs": [
    {
     "name": "stdout",
     "output_type": "stream",
     "text": [
      "                             index  seattle  boston\n",
      "16                         license     1.00    1.00\n",
      "22                     square_feet     0.97    0.98\n",
      "1              monthly_price_float     0.60    0.75\n",
      "28              weekly_price_float     0.47    0.75\n",
      "13          review_scores_accuracy     0.17    0.23\n",
      "33          review_scores_location     0.17    0.23\n",
      "27             review_scores_value     0.17    0.23\n",
      "32           review_scores_checkin     0.17    0.23\n",
      "8        review_scores_cleanliness     0.17    0.23\n",
      "3      review_scores_communication     0.17    0.23\n",
      "10            review_scores_rating     0.17    0.23\n",
      "12               reviews_per_month     0.16    0.21\n",
      "29                       bathrooms     0.00    0.00\n",
      "7                         bedrooms     0.00    0.00\n",
      "19                            beds     0.00    0.00\n",
      "21       host_total_listings_count     0.00    0.00\n",
      "30             host_listings_count     0.00    0.00\n",
      "0                number_of_reviews     0.00    0.00\n",
      "2                  availability_90     0.00    0.00\n",
      "4                   maximum_nights     0.00    0.00\n",
      "5                          host_id     0.00    0.00\n",
      "6   calculated_host_listings_count     0.00    0.00\n",
      "9                        longitude     0.00    0.00\n",
      "11                  minimum_nights     0.00    0.00\n",
      "14                 guests_included     0.00    0.00\n",
      "15                     price_float     0.00    0.00\n",
      "17                        latitude     0.00    0.00\n",
      "18                          boston     0.00    0.00\n",
      "20                 availability_30     0.00    0.00\n",
      "23                 availability_60     0.00    0.00\n",
      "24                       scrape_id     0.00    0.00\n",
      "25                              id     0.00    0.00\n",
      "26                availability_365     0.00    0.00\n",
      "31                    accommodates     0.00    0.00\n"
     ]
    },
    {
     "data": {
      "text/plain": [
       "['license', 'square_feet', 'monthly_price_float', 'weekly_price_float']"
      ]
     },
     "execution_count": 8,
     "metadata": {},
     "output_type": "execute_result"
    }
   ],
   "source": [
    "# Check missing data in numerical series\n",
    "numeric_columns = list(set(listings_df.select_dtypes(include=['int64','float64']).columns))\n",
    "utils.check_missing_values(listings_df[numeric_columns], 0.5)"
   ]
  },
  {
   "cell_type": "code",
   "execution_count": 9,
   "metadata": {},
   "outputs": [],
   "source": [
    "# 5. drop url and scrapping related columns\n",
    "listings_df = utils.drop_specified_columns('url', listings_df)\n",
    "listings_df = utils.drop_specified_columns('scrap', listings_df)"
   ]
  },
  {
   "cell_type": "code",
   "execution_count": 10,
   "metadata": {},
   "outputs": [],
   "source": [
    "# 6. drop columns that have more than 50% of data missing\n",
    "listings_df = listings_df.drop(columns=columns_with_missing_values)"
   ]
  },
  {
   "cell_type": "code",
   "execution_count": 11,
   "metadata": {},
   "outputs": [
    {
     "data": {
      "text/plain": [
       "0"
      ]
     },
     "execution_count": 11,
     "metadata": {},
     "output_type": "execute_result"
    }
   ],
   "source": [
    "# 7. check if price_float has missing colums\n",
    "listings_df['price_float'].isnull().sum()"
   ]
  },
  {
   "cell_type": "code",
   "execution_count": 12,
   "metadata": {},
   "outputs": [],
   "source": [
    "# 8. drop non informative columns\n",
    "exclude_columns = ['id'\n",
    "                , 'host_id'\n",
    "                , 'host_listings_count'\n",
    "                , 'host_total_listings_count'\n",
    "                , 'latitude'\n",
    "                , 'longitude'\n",
    "                , 'last_review'\n",
    "                , 'first_review'\n",
    "                , 'summary'\n",
    "                , 'zipcode'\n",
    "                , 'host_location'\n",
    "                , 'state'\n",
    "                , 'country'\n",
    "                , 'market']\n",
    "listings_df = listings_df.drop(columns=exclude_columns)"
   ]
  },
  {
   "cell_type": "code",
   "execution_count": 13,
   "metadata": {},
   "outputs": [
    {
     "name": "stdout",
     "output_type": "stream",
     "text": [
      "                               index  seattle  boston\n",
      "34             neighborhood_overview     0.27    0.39\n",
      "45                        host_about     0.22    0.37\n",
      "61                           transit     0.24    0.36\n",
      "32                      cleaning_fee     0.27    0.31\n",
      "42                             space     0.15    0.29\n",
      "52            review_scores_accuracy     0.17    0.23\n",
      "31            review_scores_location     0.17    0.23\n",
      "57               review_scores_value     0.17    0.23\n",
      "14             review_scores_checkin     0.17    0.23\n",
      "4          review_scores_cleanliness     0.17    0.23\n",
      "1        review_scores_communication     0.17    0.23\n",
      "50              review_scores_rating     0.17    0.23\n",
      "7                  reviews_per_month     0.16    0.21\n",
      "29                     neighbourhood     0.11    0.15\n",
      "46              host_acceptance_rate     0.20    0.13\n",
      "2                 host_response_time     0.14    0.13\n",
      "39                host_response_rate     0.14    0.13\n",
      "24                host_neighbourhood     0.08    0.09\n",
      "58                         bathrooms     0.00    0.00\n",
      "3                           bedrooms     0.00    0.00\n",
      "55                              beds     0.00    0.00\n",
      "44                     property_type     0.00    0.00\n",
      "48                              city     0.00    0.00\n",
      "9                  host_is_superhost     0.00    0.00\n",
      "10                        host_since     0.00    0.00\n",
      "15                         host_name     0.00    0.00\n",
      "22                    host_since_day     0.00    0.00\n",
      "37            host_identity_verified     0.00    0.00\n",
      "38              host_has_profile_pic     0.00    0.00\n",
      "43                  host_since_month     0.00    0.00\n",
      "54                   host_since_year     0.00    0.00\n",
      "0                     smart_location     0.00    0.00\n",
      "5      require_guest_profile_picture     0.00    0.00\n",
      "6                        description     0.00    0.00\n",
      "8                        price_float     0.00    0.00\n",
      "11                             price     0.00    0.00\n",
      "12               experiences_offered     0.00    0.00\n",
      "13                      accommodates     0.00    0.00\n",
      "16                  calendar_updated     0.00    0.00\n",
      "17                      extra_people     0.00    0.00\n",
      "18                 number_of_reviews     0.00    0.00\n",
      "19  require_guest_phone_verification     0.00    0.00\n",
      "20    calculated_host_listings_count     0.00    0.00\n",
      "21                         room_type     0.00    0.00\n",
      "23                  requires_license     0.00    0.00\n",
      "25                   availability_60     0.00    0.00\n",
      "26                  availability_365     0.00    0.00\n",
      "27            neighbourhood_cleansed     0.00    0.00\n",
      "28                      country_code     0.00    0.00\n",
      "30                              name     0.00    0.00\n",
      "33               cancellation_policy     0.00    0.00\n",
      "35                  instant_bookable     0.00    0.00\n",
      "36                   availability_90     0.00    0.00\n",
      "40                   guests_included     0.00    0.00\n",
      "41                            boston     0.00    0.00\n",
      "47                    maximum_nights     0.00    0.00\n",
      "49                host_verifications     0.00    0.00\n",
      "51                    minimum_nights     0.00    0.00\n",
      "53                         amenities     0.00    0.00\n",
      "56                   availability_30     0.00    0.00\n"
     ]
    }
   ],
   "source": [
    "# 8. check missing values after droping missing values\n",
    "columns_with_missing_values = utils.check_missing_values(listings_df, 0.5)"
   ]
  },
  {
   "cell_type": "code",
   "execution_count": 14,
   "metadata": {},
   "outputs": [],
   "source": [
    "# 9. Convert host_since_year to numetic value\n",
    "listings_df['host_since_year'] = pd.to_numeric(listings_df['host_since_year'], errors='coerce')"
   ]
  },
  {
   "cell_type": "code",
   "execution_count": 15,
   "metadata": {},
   "outputs": [
    {
     "name": "stdout",
     "output_type": "stream",
     "text": [
      "\n",
      " Describe review_scores_communication\n",
      "   index  review_scores_communication_seattle  review_scores_communication-boston\n",
      "0  count                              3167.00                             2767.00\n",
      "1   mean                                 9.81                                9.65\n",
      "2    std                                 0.57                                0.74\n",
      "3    min                                 2.00                                4.00\n",
      "4    25%                                10.00                                9.00\n",
      "5    50%                                10.00                               10.00\n",
      "6    75%                                10.00                               10.00\n",
      "7    max                                10.00                               10.00\n",
      "\n",
      " Describe bedrooms\n",
      "   index  bedrooms_seattle  bedrooms-boston\n",
      "0  count           3812.00          3575.00\n",
      "1   mean              1.31             1.26\n",
      "2    std              0.88             0.75\n",
      "3    min              0.00             0.00\n",
      "4    25%              1.00             1.00\n",
      "5    50%              1.00             1.00\n",
      "6    75%              2.00             2.00\n",
      "7    max              7.00             5.00\n",
      "\n",
      " Describe review_scores_cleanliness\n",
      "   index  review_scores_cleanliness_seattle  review_scores_cleanliness-boston\n",
      "0  count                            3165.00                           2767.00\n",
      "1   mean                               9.56                              9.26\n",
      "2    std                               0.80                              1.17\n",
      "3    min                               3.00                              2.00\n",
      "4    25%                               9.00                              9.00\n",
      "5    50%                              10.00                             10.00\n",
      "6    75%                              10.00                             10.00\n",
      "7    max                              10.00                             10.00\n",
      "\n",
      " Describe reviews_per_month\n",
      "   index  reviews_per_month_seattle  reviews_per_month-boston\n",
      "0  count                    3191.00                   2829.00\n",
      "1   mean                       2.08                      1.97\n",
      "2    std                       1.82                      2.12\n",
      "3    min                       0.02                      0.01\n",
      "4    25%                       0.69                      0.48\n",
      "5    50%                       1.54                      1.17\n",
      "6    75%                       3.00                      2.72\n",
      "7    max                      12.15                     19.15\n",
      "\n",
      " Describe price_float\n",
      "   index  price_float_seattle  price_float-boston\n",
      "0  count              3818.00             3585.00\n",
      "1   mean               127.98              173.93\n",
      "2    std                90.25              148.33\n",
      "3    min                20.00               10.00\n",
      "4    25%                75.00               85.00\n",
      "5    50%               100.00              150.00\n",
      "6    75%               150.00              220.00\n",
      "7    max              1000.00             4000.00\n",
      "\n",
      " Describe accommodates\n",
      "   index  accommodates_seattle  accommodates-boston\n",
      "0  count               3818.00              3585.00\n",
      "1   mean                  3.35                 3.04\n",
      "2    std                  1.98                 1.78\n",
      "3    min                  1.00                 1.00\n",
      "4    25%                  2.00                 2.00\n",
      "5    50%                  3.00                 2.00\n",
      "6    75%                  4.00                 4.00\n",
      "7    max                 16.00                16.00\n",
      "\n",
      " Describe review_scores_checkin\n",
      "   index  review_scores_checkin_seattle  review_scores_checkin-boston\n",
      "0  count                        3160.00                       2765.00\n",
      "1   mean                           9.79                          9.65\n",
      "2    std                           0.60                          0.76\n",
      "3    min                           2.00                          2.00\n",
      "4    25%                          10.00                          9.00\n",
      "5    50%                          10.00                         10.00\n",
      "6    75%                          10.00                         10.00\n",
      "7    max                          10.00                         10.00\n",
      "\n",
      " Describe number_of_reviews\n",
      "   index  number_of_reviews_seattle  number_of_reviews-boston\n",
      "0  count                    3818.00                   3585.00\n",
      "1   mean                      22.22                     19.04\n",
      "2    std                      37.73                     35.57\n",
      "3    min                       0.00                      0.00\n",
      "4    25%                       2.00                      1.00\n",
      "5    50%                       9.00                      5.00\n",
      "6    75%                      26.00                     21.00\n",
      "7    max                     474.00                    404.00\n",
      "\n",
      " Describe calculated_host_listings_count\n",
      "   index  calculated_host_listings_count_seattle  calculated_host_listings_count-boston\n",
      "0  count                                 3818.00                                3585.00\n",
      "1   mean                                    2.95                                  12.73\n",
      "2    std                                    5.89                                  29.42\n",
      "3    min                                    1.00                                   1.00\n",
      "4    25%                                    1.00                                   1.00\n",
      "5    50%                                    1.00                                   2.00\n",
      "6    75%                                    2.00                                   6.00\n",
      "7    max                                   37.00                                 136.00\n",
      "\n",
      " Describe availability_60\n",
      "   index  availability_60_seattle  availability_60-boston\n",
      "0  count                  3818.00                 3585.00\n",
      "1   mean                    36.81                   21.83\n",
      "2    std                    23.34                   21.86\n",
      "3    min                     0.00                    0.00\n",
      "4    25%                    13.00                    0.00\n",
      "5    50%                    46.00                   16.00\n",
      "6    75%                    59.00                   40.00\n",
      "7    max                    60.00                   60.00\n",
      "\n",
      " Describe availability_365\n",
      "   index  availability_365_seattle  availability_365-boston\n",
      "0  count                   3818.00                  3585.00\n",
      "1   mean                    244.77                   179.35\n",
      "2    std                    126.77                   142.14\n",
      "3    min                      0.00                     0.00\n",
      "4    25%                    124.00                    19.00\n",
      "5    50%                    308.00                   179.00\n",
      "6    75%                    360.00                   325.00\n",
      "7    max                    365.00                   365.00\n",
      "\n",
      " Describe review_scores_location\n",
      "   index  review_scores_location_seattle  review_scores_location-boston\n",
      "0  count                         3163.00                        2763.00\n",
      "1   mean                            9.61                           9.41\n",
      "2    std                            0.63                           0.90\n",
      "3    min                            4.00                           2.00\n",
      "4    25%                            9.00                           9.00\n",
      "5    50%                           10.00                          10.00\n",
      "6    75%                           10.00                          10.00\n",
      "7    max                           10.00                          10.00\n",
      "\n",
      " Describe availability_90\n",
      "   index  availability_90_seattle  availability_90-boston\n",
      "0  count                  3818.00                 3585.00\n",
      "1   mean                    58.08                   38.56\n",
      "2    std                    34.06                   33.16\n",
      "3    min                     0.00                    0.00\n",
      "4    25%                    28.00                    0.00\n",
      "5    50%                    73.00                   37.00\n",
      "6    75%                    89.00                   68.00\n",
      "7    max                    90.00                   90.00\n",
      "\n",
      " Describe guests_included\n",
      "   index  guests_included_seattle  guests_included-boston\n",
      "0  count                  3818.00                 3585.00\n",
      "1   mean                     1.67                    1.43\n",
      "2    std                     1.31                    1.06\n",
      "3    min                     0.00                    0.00\n",
      "4    25%                     1.00                    1.00\n",
      "5    50%                     1.00                    1.00\n",
      "6    75%                     2.00                    1.00\n",
      "7    max                    15.00                   14.00\n",
      "\n",
      " Describe boston\n",
      "   index  boston_seattle  boston-boston\n",
      "0  count         3818.00        3585.00\n",
      "1   mean            0.00           1.00\n",
      "2    std            0.00           0.00\n",
      "3    min            0.00           1.00\n",
      "4    25%            0.00           1.00\n",
      "5    50%            0.00           1.00\n",
      "6    75%            0.00           1.00\n",
      "7    max            0.00           1.00\n",
      "\n",
      " Describe maximum_nights\n",
      "   index  maximum_nights_seattle  maximum_nights-boston\n",
      "0  count                 3818.00                3585.00\n",
      "1   mean                  780.45               28725.84\n",
      "2    std                 1683.59             1670135.94\n",
      "3    min                    1.00                   1.00\n",
      "4    25%                   60.00                 365.00\n",
      "5    50%                 1125.00                1125.00\n",
      "6    75%                 1125.00                1125.00\n",
      "7    max               100000.00            99999999.00\n",
      "\n",
      " Describe review_scores_rating\n",
      "   index  review_scores_rating_seattle  review_scores_rating-boston\n",
      "0  count                       3171.00                      2772.00\n",
      "1   mean                         94.54                        91.92\n",
      "2    std                          6.61                         9.53\n",
      "3    min                         20.00                        20.00\n",
      "4    25%                         93.00                        89.00\n",
      "5    50%                         96.00                        94.00\n",
      "6    75%                         99.00                        98.25\n",
      "7    max                        100.00                       100.00\n",
      "\n",
      " Describe minimum_nights\n",
      "   index  minimum_nights_seattle  minimum_nights-boston\n",
      "0  count                 3818.00                3585.00\n",
      "1   mean                    2.37                   3.17\n",
      "2    std                   16.31                   8.87\n",
      "3    min                    1.00                   1.00\n",
      "4    25%                    1.00                   1.00\n",
      "5    50%                    2.00                   2.00\n",
      "6    75%                    2.00                   3.00\n",
      "7    max                 1000.00                 300.00\n",
      "\n",
      " Describe review_scores_accuracy\n",
      "   index  review_scores_accuracy_seattle  review_scores_accuracy-boston\n",
      "0  count                         3160.00                        2762.00\n",
      "1   mean                            9.64                           9.43\n",
      "2    std                            0.70                           0.93\n",
      "3    min                            2.00                           2.00\n",
      "4    25%                            9.00                           9.00\n",
      "5    50%                           10.00                          10.00\n",
      "6    75%                           10.00                          10.00\n",
      "7    max                           10.00                          10.00\n",
      "\n",
      " Describe host_since_year\n",
      "   index  host_since_year_seattle  host_since_year-boston\n",
      "0  count                  3816.00                 3585.00\n",
      "1   mean                  2013.21                 2013.75\n",
      "2    std                     1.56                    1.72\n",
      "3    min                  2008.00                 2008.00\n",
      "4    25%                  2012.00                 2013.00\n",
      "5    50%                  2013.00                 2014.00\n",
      "6    75%                  2015.00                 2015.00\n",
      "7    max                  2016.00                 2016.00\n",
      "\n",
      " Describe beds\n",
      "   index  beds_seattle  beds-boston\n",
      "0  count       3817.00      3576.00\n",
      "1   mean          1.74         1.61\n",
      "2    std          1.14         1.01\n",
      "3    min          1.00         0.00\n",
      "4    25%          1.00         1.00\n",
      "5    50%          1.00         1.00\n",
      "6    75%          2.00         2.00\n",
      "7    max         15.00        16.00\n",
      "\n",
      " Describe availability_30\n",
      "   index  availability_30_seattle  availability_30-boston\n",
      "0  count                  3818.00                 3585.00\n",
      "1   mean                    16.79                    8.65\n",
      "2    std                    12.17                   10.44\n",
      "3    min                     0.00                    0.00\n",
      "4    25%                     2.00                    0.00\n",
      "5    50%                    20.00                    4.00\n",
      "6    75%                    30.00                   15.00\n",
      "7    max                    30.00                   30.00\n",
      "\n",
      " Describe review_scores_value\n",
      "   index  review_scores_value_seattle  review_scores_value-boston\n",
      "0  count                      3162.00                     2764.00\n",
      "1   mean                         9.45                        9.17\n",
      "2    std                         0.75                        1.01\n",
      "3    min                         2.00                        2.00\n",
      "4    25%                         9.00                        9.00\n",
      "5    50%                        10.00                        9.00\n",
      "6    75%                        10.00                       10.00\n",
      "7    max                        10.00                       10.00\n",
      "\n",
      " Describe bathrooms\n",
      "   index  bathrooms_seattle  bathrooms-boston\n",
      "0  count            3802.00           3571.00\n",
      "1   mean               1.26              1.22\n",
      "2    std               0.59              0.50\n",
      "3    min               0.00              0.00\n",
      "4    25%               1.00              1.00\n",
      "5    50%               1.00              1.00\n",
      "6    75%               1.00              1.00\n",
      "7    max               8.00              6.00\n"
     ]
    }
   ],
   "source": [
    "# 10. describe float columns in both cities\n",
    "utils.compare_all_float_columns(listings_df)\n",
    "#Boston has larger minimum_nights mean\n",
    "#Boston has lower review scores mean\n",
    "#Boston has higher mean price\n",
    "#Boston has less beds mean"
   ]
  },
  {
   "cell_type": "code",
   "execution_count": 16,
   "metadata": {
    "scrolled": true
   },
   "outputs": [
    {
     "name": "stdout",
     "output_type": "stream",
     "text": [
      "                             mean-seattle  mean-boston\n",
      "minimum_nights                       2.37         3.17\n",
      "bedrooms                             1.31         1.26\n",
      "bathrooms                            1.26         1.22\n",
      "guests_included                      1.67         1.43\n",
      "accommodates                         3.35         3.04\n",
      "review_scores_communication          9.81         9.65\n",
      "review_scores_cleanliness            9.56         9.26\n",
      "reviews_per_month                    2.08         1.97\n",
      "review_scores_checkin                9.79         9.65\n",
      "number_of_reviews                   22.22        19.04\n",
      "review_scores_location               9.61         9.41\n",
      "review_scores_accuracy               9.64         9.43\n",
      "review_scores_value                  9.45         9.17\n"
     ]
    },
    {
     "data": {
      "image/png": "[encoded data removed]",
      "text/plain": [
       "<Figure size 432x288 with 1 Axes>"
      ]
     },
     "metadata": {
      "needs_background": "light"
     },
     "output_type": "display_data"
    },
    {
     "name": "stdout",
     "output_type": "stream",
     "text": [
      "             mean-seattle  mean-boston\n",
      "price_float        127.98       173.93\n"
     ]
    },
    {
     "data": {
      "image/png": "[encoded data removed]",
      "text/plain": [
       "<Figure size 432x288 with 1 Axes>"
      ]
     },
     "metadata": {
      "needs_background": "light"
     },
     "output_type": "display_data"
    },
    {
     "name": "stdout",
     "output_type": "stream",
     "text": [
      "                      mean-seattle  mean-boston\n",
      "review_scores_rating         94.54        91.92\n"
     ]
    },
    {
     "data": {
      "image/png": "[encoded data removed]",
      "text/plain": [
       "<Figure size 432x288 with 1 Axes>"
      ]
     },
     "metadata": {
      "needs_background": "light"
     },
     "output_type": "display_data"
    }
   ],
   "source": [
    "# 11. summarize price, reviews and property attributes in a single summary\n",
    "review_columns = [col for col in listings_df.columns if 'review' in col] \n",
    "specific_columns = ['minimum_nights'\n",
    "                   , 'bedrooms'\n",
    "                   , 'bathrooms'\n",
    "                   , 'guests_included'\n",
    "                   , 'accommodates']\n",
    "numeric_columns_to_describe = specific_columns + review_columns\n",
    "numeric_columns_to_describe.remove('review_scores_rating')\n",
    "utils.compare_specified_float_columns(listings_df, numeric_columns_to_describe, 'mean')\n",
    "utils.compare_specified_float_columns(listings_df, ['price_float'], 'mean')\n",
    "utils.compare_specified_float_columns(listings_df, ['review_scores_rating'], 'mean')\n",
    "# create list of numeric columns to use in analysis\n",
    "numeric_columns_to_describe = numeric_columns_to_describe + ['host_since_year', 'review_scores_rating']\n",
    "# Price mean is higher in Boston but raitings mean is higher in Seattle"
   ]
  },
  {
   "cell_type": "code",
   "execution_count": 17,
   "metadata": {},
   "outputs": [
    {
     "name": "stdout",
     "output_type": "stream",
     "text": [
      "                          index  seattle  boston\n",
      "13       review_scores_accuracy     0.17    0.23\n",
      "12       review_scores_location     0.17    0.23\n",
      "14          review_scores_value     0.17    0.23\n",
      "10        review_scores_checkin     0.17    0.23\n",
      "8     review_scores_cleanliness     0.17    0.23\n",
      "7   review_scores_communication     0.17    0.23\n",
      "16         review_scores_rating     0.17    0.23\n",
      "9             reviews_per_month     0.16    0.21\n",
      "4                     bathrooms     0.00    0.00\n",
      "3                      bedrooms     0.00    0.00\n",
      "15              host_since_year     0.00    0.00\n",
      "0                        boston     0.00    0.00\n",
      "1                   price_float     0.00    0.00\n",
      "2                minimum_nights     0.00    0.00\n",
      "5               guests_included     0.00    0.00\n",
      "6                  accommodates     0.00    0.00\n",
      "11            number_of_reviews     0.00    0.00\n"
     ]
    },
    {
     "data": {
      "text/plain": [
       "[]"
      ]
     },
     "execution_count": 17,
     "metadata": {},
     "output_type": "execute_result"
    }
   ],
   "source": [
    "# 12. check missing values in particular columns\n",
    "utils.check_missing_values(listings_df[['boston', 'price_float'] + numeric_columns_to_describe], 0.5)\n",
    "# there is at most 23% if missing values in boston and 17 in seattle \n",
    "# so it is reasonable to cure this data with mean values"
   ]
  },
  {
   "cell_type": "code",
   "execution_count": 100,
   "metadata": {},
   "outputs": [],
   "source": [
    "# 13. replace missing numeric values with mean values for each city\n",
    "numeric_columns = listings_df.select_dtypes(include=['float64','int64']).columns\n",
    "boston_listing_df = listings_df[listings_df['boston'] == 1].reset_index(drop=True)\n",
    "seattle_listing_df = listings_df[listings_df['boston'] == 0].reset_index(drop=True)\n",
    "\n",
    "def fillna_with_mean(numeric_series):\n",
    "    \"\"\"\n",
    "    Function to fill nans of numeric series with its mean\n",
    "    :param data: numeric series\n",
    "    :return: numeric series with nans replaced by its mean\n",
    "    \"\"\"\n",
    "    numeric_series = numeric_series.fillna(numeric_series.mean())\n",
    "    return numeric_series\n",
    "\n",
    "for col in numeric_columns:\n",
    "    boston_listing_df[col] = fillna_with_mean(boston_listing_df[col])\n",
    "    seattle_listing_df[col] = fillna_with_mean(seattle_listing_df[col])\n",
    "filled_listings_df = pd.concat([boston_listing_df, seattle_listing_df]).reset_index(drop=True)"
   ]
  },
  {
   "cell_type": "code",
   "execution_count": 101,
   "metadata": {},
   "outputs": [
    {
     "name": "stdout",
     "output_type": "stream",
     "text": [
      "                          index  seattle  boston\n",
      "0                        boston     0.00    0.00\n",
      "1                   price_float     0.00    0.00\n",
      "2                minimum_nights     0.00    0.00\n",
      "3                      bedrooms     0.00    0.00\n",
      "4                     bathrooms     0.00    0.00\n",
      "5               guests_included     0.00    0.00\n",
      "6                  accommodates     0.00    0.00\n",
      "7   review_scores_communication     0.00    0.00\n",
      "8     review_scores_cleanliness     0.00    0.00\n",
      "9             reviews_per_month     0.00    0.00\n",
      "10        review_scores_checkin     0.00    0.00\n",
      "11            number_of_reviews     0.00    0.00\n",
      "12       review_scores_location     0.00    0.00\n",
      "13       review_scores_accuracy     0.00    0.00\n",
      "14          review_scores_value     0.00    0.00\n",
      "15              host_since_year     0.00    0.00\n",
      "16         review_scores_rating     0.00    0.00\n"
     ]
    },
    {
     "data": {
      "text/plain": [
       "[]"
      ]
     },
     "execution_count": 101,
     "metadata": {},
     "output_type": "execute_result"
    }
   ],
   "source": [
    "# 14. check that columns of interest have nulls filled\n",
    "utils.check_missing_values(filled_listings_df[['boston', 'price_float'] + numeric_columns_to_describe], 0.5)  "
   ]
  },
  {
   "cell_type": "code",
   "execution_count": 102,
   "metadata": {},
   "outputs": [
    {
     "name": "stdout",
     "output_type": "stream",
     "text": [
      "{'experiences_offered': 1, 'requires_license': 1, 'country_code': 1, 'require_guest_profile_picture': 2, 'require_guest_phone_verification': 2, 'instant_bookable': 2, 'is_location_exact': 2, 'host_is_superhost': 3, 'room_type': 3, 'host_identity_verified': 3, 'host_has_profile_pic': 3, 'cancellation_policy': 4, 'host_response_time': 5, 'bed_type': 5, 'host_since_month': 13, 'property_type': 20, 'host_since_day': 32, 'calendar_updated': 38, 'smart_location': 46, 'city': 46, 'host_response_rate': 59, 'extra_people': 62, 'host_acceptance_rate': 73, 'neighbourhood_cleansed': 111, 'neighbourhood': 112, 'cleaning_fee': 133, 'host_verifications': 136, 'host_neighbourhood': 152, 'price': 366, 'host_since': 1846, 'host_name': 2348, 'street': 2681, 'host_about': 3251, 'neighborhood_overview': 4234, 'transit': 4433, 'space': 5388, 'amenities': 6310, 'description': 7165, 'name': 7296}\n",
      "{'room_type', 'bed_type', 'host_response_time', 'require_guest_profile_picture', 'instant_bookable', 'host_identity_verified', 'require_guest_phone_verification', 'host_has_profile_pic', 'host_is_superhost', 'is_location_exact', 'cancellation_policy'}\n"
     ]
    }
   ],
   "source": [
    "# 15. create list of string columns that have up to 6 different values in oder to make categorical predictors\n",
    "values_freq = {}\n",
    "for col in filled_listings_df.select_dtypes(include=['object']):\n",
    "    values_freq[col] = len(filled_listings_df[col].drop_duplicates())\n",
    "values_freq = {k: v for k, v in sorted(values_freq.items(), key=lambda item: item[1], reverse=False)}\n",
    "print(values_freq)\n",
    "# judjing by the amount of the distinct values in the categorical columns it makes sense to use only those with\n",
    "# less of 6 distinct values as columns with more distinct values would create \n",
    "# a large amount of dimentions while not adding much to explanatory power\n",
    "values_freq = {k: v for k, v in filter(lambda item: 1 < item[1] < 6, values_freq.items())}\n",
    "categorical_columns_to_describe = set(values_freq.keys())\n",
    "print(categorical_columns_to_describe)"
   ]
  },
  {
   "cell_type": "code",
   "execution_count": 22,
   "metadata": {},
   "outputs": [
    {
     "data": {
      "image/png": "[encoded data removed]",
      "text/plain": [
       "<Figure size 432x288 with 1 Axes>"
      ]
     },
     "metadata": {
      "needs_background": "light"
     },
     "output_type": "display_data"
    },
    {
     "data": {
      "image/png": "[encoded data removed]",
      "text/plain": [
       "<Figure size 432x288 with 1 Axes>"
      ]
     },
     "metadata": {
      "needs_background": "light"
     },
     "output_type": "display_data"
    },
    {
     "data": {
      "image/png": "[encoded data removed]",
      "text/plain": [
       "<Figure size 432x288 with 1 Axes>"
      ]
     },
     "metadata": {
      "needs_background": "light"
     },
     "output_type": "display_data"
    },
    {
     "data": {
      "image/png": "[encoded data removed]",
      "text/plain": [
       "<Figure size 432x288 with 1 Axes>"
      ]
     },
     "metadata": {
      "needs_background": "light"
     },
     "output_type": "display_data"
    },
    {
     "data": {
      "image/png": "[encoded data removed]",
      "text/plain": [
       "<Figure size 432x288 with 1 Axes>"
      ]
     },
     "metadata": {
      "needs_background": "light"
     },
     "output_type": "display_data"
    },
    {
     "data": {
      "image/png": "[encoded data removed]",
      "text/plain": [
       "<Figure size 432x288 with 1 Axes>"
      ]
     },
     "metadata": {
      "needs_background": "light"
     },
     "output_type": "display_data"
    },
    {
     "data": {
      "image/png": "[encoded data removed]",
      "text/plain": [
       "<Figure size 432x288 with 1 Axes>"
      ]
     },
     "metadata": {
      "needs_background": "light"
     },
     "output_type": "display_data"
    },
    {
     "data": {
      "image/png": "[encoded data removed]",
      "text/plain": [
       "<Figure size 432x288 with 1 Axes>"
      ]
     },
     "metadata": {
      "needs_background": "light"
     },
     "output_type": "display_data"
    },
    {
     "data": {
      "image/png": "[encoded data removed]",
      "text/plain": [
       "<Figure size 432x288 with 1 Axes>"
      ]
     },
     "metadata": {
      "needs_background": "light"
     },
     "output_type": "display_data"
    },
    {
     "data": {
      "image/png": "[encoded data removed]",
      "text/plain": [
       "<Figure size 432x288 with 1 Axes>"
      ]
     },
     "metadata": {
      "needs_background": "light"
     },
     "output_type": "display_data"
    },
    {
     "data": {
      "image/png": "[encoded data removed]",
      "text/plain": [
       "<Figure size 432x288 with 1 Axes>"
      ]
     },
     "metadata": {
      "needs_background": "light"
     },
     "output_type": "display_data"
    }
   ],
   "source": [
    "# 16. Compare numeric data across 2 cities grouping on each categorical column of interest\n",
    "for col in categorical_columns_to_describe:\n",
    "    utils.compare_grouby_results(filled_listings_df, [col], ['price_float'], 'mean')\n",
    "#Boston has a premium for fast responses but not for the fastest\n",
    "#Boston has super stric policy -> the stricter the policy the more expensive\n",
    "#Super host has little effect\n",
    "#Airbeds in seattle seem to be more appreciated than couches"
   ]
  },
  {
   "cell_type": "code",
   "execution_count": 96,
   "metadata": {},
   "outputs": [],
   "source": [
    "# 17. keep only the columns of interest\n",
    "filled_listings_df = filled_listings_df[['boston', 'price_float'] + list(numeric_columns_to_describe) + list(categorical_columns_to_describe)]"
   ]
  },
  {
   "cell_type": "code",
   "execution_count": 97,
   "metadata": {},
   "outputs": [
    {
     "name": "stdout",
     "output_type": "stream",
     "text": [
      "                               index  seattle  boston\n",
      "19                host_response_time     0.14    0.13\n",
      "22            host_identity_verified     0.00    0.00\n",
      "24              host_has_profile_pic     0.00    0.00\n",
      "25                 host_is_superhost     0.00    0.00\n",
      "0                             boston     0.00    0.00\n",
      "1                        price_float     0.00    0.00\n",
      "2                     minimum_nights     0.00    0.00\n",
      "3                           bedrooms     0.00    0.00\n",
      "4                          bathrooms     0.00    0.00\n",
      "5                    guests_included     0.00    0.00\n",
      "6                       accommodates     0.00    0.00\n",
      "7        review_scores_communication     0.00    0.00\n",
      "8          review_scores_cleanliness     0.00    0.00\n",
      "9                  reviews_per_month     0.00    0.00\n",
      "10             review_scores_checkin     0.00    0.00\n",
      "11                 number_of_reviews     0.00    0.00\n",
      "12            review_scores_location     0.00    0.00\n",
      "13            review_scores_accuracy     0.00    0.00\n",
      "14               review_scores_value     0.00    0.00\n",
      "15                   host_since_year     0.00    0.00\n",
      "16              review_scores_rating     0.00    0.00\n",
      "17                         room_type     0.00    0.00\n",
      "18                          bed_type     0.00    0.00\n",
      "20     require_guest_profile_picture     0.00    0.00\n",
      "21                  instant_bookable     0.00    0.00\n",
      "23  require_guest_phone_verification     0.00    0.00\n",
      "26                 is_location_exact     0.00    0.00\n",
      "27               cancellation_policy     0.00    0.00\n"
     ]
    },
    {
     "data": {
      "text/plain": [
       "(6409, 28)"
      ]
     },
     "execution_count": 97,
     "metadata": {},
     "output_type": "execute_result"
    }
   ],
   "source": [
    "#Check the amount of.missing values\n",
    "utils.check_missing_values(filled_listings_df, 0.5) \n",
    "# The only column that has missing values is host_response_time\n",
    "# Only about 14% is missing from each city data\n",
    "# Since I am interested in the impact of this variable in the price and there are only 14% of missing data \n",
    "# I can drop the records with missing data without loosing a lot of variation in the data\n",
    "filled_cleaned_listings_df = filled_listings_df.dropna()\n",
    "filled_cleaned_listings_df.shape"
   ]
  },
  {
   "cell_type": "code",
   "execution_count": 24,
   "metadata": {},
   "outputs": [
    {
     "name": "stdout",
     "output_type": "stream",
     "text": [
      "                                    index  seattle  boston\n",
      "0                                  boston     0.00    0.00\n",
      "1                             price_float     0.00    0.00\n",
      "2                          minimum_nights     0.00    0.00\n",
      "3                                bedrooms     0.00    0.00\n",
      "4                               bathrooms     0.00    0.00\n",
      "5                         guests_included     0.00    0.00\n",
      "6                            accommodates     0.00    0.00\n",
      "7             review_scores_communication     0.00    0.00\n",
      "8               review_scores_cleanliness     0.00    0.00\n",
      "9                       reviews_per_month     0.00    0.00\n",
      "10                  review_scores_checkin     0.00    0.00\n",
      "11                      number_of_reviews     0.00    0.00\n",
      "12                 review_scores_location     0.00    0.00\n",
      "13                 review_scores_accuracy     0.00    0.00\n",
      "14                    review_scores_value     0.00    0.00\n",
      "15                        host_since_year     0.00    0.00\n",
      "16                   review_scores_rating     0.00    0.00\n",
      "17                 room_type_Private room     0.00    0.00\n",
      "18                  room_type_Shared room     0.00    0.00\n",
      "19                         bed_type_Couch     0.00    0.00\n",
      "20                         bed_type_Futon     0.00    0.00\n",
      "21                 bed_type_Pull-out Sofa     0.00    0.00\n",
      "22                      bed_type_Real Bed     0.00    0.00\n",
      "23        host_response_time_within a day     0.00    0.00\n",
      "24  host_response_time_within a few hours     0.00    0.00\n",
      "25      host_response_time_within an hour     0.00    0.00\n",
      "26        require_guest_profile_picture_t     0.00    0.00\n",
      "27                     instant_bookable_t     0.00    0.00\n",
      "28               host_identity_verified_t     0.00    0.00\n",
      "29     require_guest_phone_verification_t     0.00    0.00\n",
      "30                 host_has_profile_pic_t     0.00    0.00\n",
      "31                    host_is_superhost_t     0.00    0.00\n",
      "32                    is_location_exact_t     0.00    0.00\n",
      "33           cancellation_policy_moderate     0.00    0.00\n",
      "34             cancellation_policy_strict     0.00    0.00\n"
     ]
    },
    {
     "data": {
      "text/plain": [
       "[]"
      ]
     },
     "execution_count": 24,
     "metadata": {},
     "output_type": "execute_result"
    }
   ],
   "source": [
    "#18. create dummies for selected categorical variables\n",
    "for col in categorical_columns_to_describe:\n",
    "    # for each cat add dummy var, drop original column\n",
    "    filled_cleaned_listings_df = pd.concat([filled_cleaned_listings_df.drop(col, axis=1)\n",
    "                                        , pd.get_dummies(filled_cleaned_listings_df[col]\n",
    "                                                         , prefix=col, prefix_sep='_', drop_first=True)], axis=1)\n",
    "#drop super stric cancelation policy because it is only in boston\n",
    "filled_cleaned_listings_df = filled_cleaned_listings_df.drop(columns=['cancellation_policy_super_strict_30'])\n",
    "utils.check_missing_values(filled_cleaned_listings_df, 0.5) \n"
   ]
  },
  {
   "cell_type": "code",
   "execution_count": 91,
   "metadata": {},
   "outputs": [
    {
     "data": {
      "text/html": [
       "<div>\n",
       "<style scoped>\n",
       "    .dataframe tbody tr th:only-of-type {\n",
       "        vertical-align: middle;\n",
       "    }\n",
       "\n",
       "    .dataframe tbody tr th {\n",
       "        vertical-align: top;\n",
       "    }\n",
       "\n",
       "    .dataframe thead th {\n",
       "        text-align: right;\n",
       "    }\n",
       "</style>\n",
       "<table border=\"1\" class=\"dataframe\">\n",
       "  <thead>\n",
       "    <tr style=\"text-align: right;\">\n",
       "      <th></th>\n",
       "      <th>price_float</th>\n",
       "      <th>minimum_nights</th>\n",
       "      <th>bedrooms</th>\n",
       "      <th>bathrooms</th>\n",
       "      <th>guests_included</th>\n",
       "      <th>...</th>\n",
       "      <th>host_has_profile_pic_t</th>\n",
       "      <th>host_is_superhost_t</th>\n",
       "      <th>is_location_exact_t</th>\n",
       "      <th>cancellation_policy_moderate</th>\n",
       "      <th>cancellation_policy_strict</th>\n",
       "    </tr>\n",
       "    <tr>\n",
       "      <th>boston</th>\n",
       "      <th></th>\n",
       "      <th></th>\n",
       "      <th></th>\n",
       "      <th></th>\n",
       "      <th></th>\n",
       "      <th></th>\n",
       "      <th></th>\n",
       "      <th></th>\n",
       "      <th></th>\n",
       "      <th></th>\n",
       "      <th></th>\n",
       "    </tr>\n",
       "  </thead>\n",
       "  <tbody>\n",
       "    <tr>\n",
       "      <th>0</th>\n",
       "      <td>3295</td>\n",
       "      <td>3295</td>\n",
       "      <td>3295</td>\n",
       "      <td>3295</td>\n",
       "      <td>3295</td>\n",
       "      <td>...</td>\n",
       "      <td>3295</td>\n",
       "      <td>3295</td>\n",
       "      <td>3295</td>\n",
       "      <td>3295</td>\n",
       "      <td>3295</td>\n",
       "    </tr>\n",
       "    <tr>\n",
       "      <th>1</th>\n",
       "      <td>3114</td>\n",
       "      <td>3114</td>\n",
       "      <td>3114</td>\n",
       "      <td>3114</td>\n",
       "      <td>3114</td>\n",
       "      <td>...</td>\n",
       "      <td>3114</td>\n",
       "      <td>3114</td>\n",
       "      <td>3114</td>\n",
       "      <td>3114</td>\n",
       "      <td>3114</td>\n",
       "    </tr>\n",
       "  </tbody>\n",
       "</table>\n",
       "<p>2 rows × 34 columns</p>\n",
       "</div>"
      ],
      "text/plain": [
       "        price_float  minimum_nights  bedrooms  bathrooms  guests_included  ...  host_has_profile_pic_t  host_is_superhost_t  is_location_exact_t  cancellation_policy_moderate  cancellation_policy_strict\n",
       "boston                                                                     ...                                                                                                                            \n",
       "0              3295            3295      3295       3295             3295  ...                    3295                 3295                 3295                          3295                        3295\n",
       "1              3114            3114      3114       3114             3114  ...                    3114                 3114                 3114                          3114                        3114\n",
       "\n",
       "[2 rows x 34 columns]"
      ]
     },
     "execution_count": 91,
     "metadata": {},
     "output_type": "execute_result"
    }
   ],
   "source": [
    "filled_cleaned_listings_df.groupby(['boston']).count()"
   ]
  },
  {
   "cell_type": "code",
   "execution_count": 25,
   "metadata": {},
   "outputs": [
    {
     "data": {
      "text/html": [
       "<div>\n",
       "<style scoped>\n",
       "    .dataframe tbody tr th:only-of-type {\n",
       "        vertical-align: middle;\n",
       "    }\n",
       "\n",
       "    .dataframe tbody tr th {\n",
       "        vertical-align: top;\n",
       "    }\n",
       "\n",
       "    .dataframe thead th {\n",
       "        text-align: right;\n",
       "    }\n",
       "</style>\n",
       "<table border=\"1\" class=\"dataframe\">\n",
       "  <thead>\n",
       "    <tr style=\"text-align: right;\">\n",
       "      <th></th>\n",
       "      <th>Coefficient</th>\n",
       "    </tr>\n",
       "  </thead>\n",
       "  <tbody>\n",
       "    <tr>\n",
       "      <th>boston</th>\n",
       "      <td>46.92</td>\n",
       "    </tr>\n",
       "  </tbody>\n",
       "</table>\n",
       "</div>"
      ],
      "text/plain": [
       "        Coefficient\n",
       "boston        46.92"
      ]
     },
     "execution_count": 25,
     "metadata": {},
     "output_type": "execute_result"
    }
   ],
   "source": [
    "# 19. Check what city is on average more expensive\n",
    "city_results = utils.run_linear_regression(filled_cleaned_listings_df, ['price_float'], ['boston'])\n",
    "city_results['coefficients'].head()\n",
    "#Boston is more expensive"
   ]
  },
  {
   "cell_type": "code",
   "execution_count": 26,
   "metadata": {
    "scrolled": true
   },
   "outputs": [
    {
     "name": "stdout",
     "output_type": "stream",
     "text": [
      "0.047836900268108606\n"
     ]
    }
   ],
   "source": [
    "print(city_results['r2_test'])\n",
    "# Boston seem to be a more expensive city but just having one regressor does not explain much of price volatility"
   ]
  },
  {
   "cell_type": "code",
   "execution_count": 27,
   "metadata": {},
   "outputs": [
    {
     "data": {
      "text/html": [
       "<div>\n",
       "<style scoped>\n",
       "    .dataframe tbody tr th:only-of-type {\n",
       "        vertical-align: middle;\n",
       "    }\n",
       "\n",
       "    .dataframe tbody tr th {\n",
       "        vertical-align: top;\n",
       "    }\n",
       "\n",
       "    .dataframe thead th {\n",
       "        text-align: right;\n",
       "    }\n",
       "</style>\n",
       "<table border=\"1\" class=\"dataframe\">\n",
       "  <thead>\n",
       "    <tr style=\"text-align: right;\">\n",
       "      <th></th>\n",
       "      <th>Coefficient</th>\n",
       "    </tr>\n",
       "  </thead>\n",
       "  <tbody>\n",
       "    <tr>\n",
       "      <th>boston</th>\n",
       "      <td>58.88</td>\n",
       "    </tr>\n",
       "    <tr>\n",
       "      <th>review_scores_location</th>\n",
       "      <td>25.09</td>\n",
       "    </tr>\n",
       "    <tr>\n",
       "      <th>bedrooms</th>\n",
       "      <td>21.99</td>\n",
       "    </tr>\n",
       "    <tr>\n",
       "      <th>accommodates</th>\n",
       "      <td>21.03</td>\n",
       "    </tr>\n",
       "    <tr>\n",
       "      <th>bathrooms</th>\n",
       "      <td>19.88</td>\n",
       "    </tr>\n",
       "    <tr>\n",
       "      <th>review_scores_cleanliness</th>\n",
       "      <td>8.83</td>\n",
       "    </tr>\n",
       "    <tr>\n",
       "      <th>guests_included</th>\n",
       "      <td>1.43</td>\n",
       "    </tr>\n",
       "    <tr>\n",
       "      <th>review_scores_rating</th>\n",
       "      <td>0.99</td>\n",
       "    </tr>\n",
       "    <tr>\n",
       "      <th>minimum_nights</th>\n",
       "      <td>0.15</td>\n",
       "    </tr>\n",
       "    <tr>\n",
       "      <th>number_of_reviews</th>\n",
       "      <td>-0.12</td>\n",
       "    </tr>\n",
       "    <tr>\n",
       "      <th>review_scores_accuracy</th>\n",
       "      <td>-0.36</td>\n",
       "    </tr>\n",
       "    <tr>\n",
       "      <th>review_scores_communication</th>\n",
       "      <td>-2.22</td>\n",
       "    </tr>\n",
       "    <tr>\n",
       "      <th>host_since_year</th>\n",
       "      <td>-2.30</td>\n",
       "    </tr>\n",
       "    <tr>\n",
       "      <th>reviews_per_month</th>\n",
       "      <td>-3.64</td>\n",
       "    </tr>\n",
       "    <tr>\n",
       "      <th>review_scores_checkin</th>\n",
       "      <td>-4.64</td>\n",
       "    </tr>\n",
       "    <tr>\n",
       "      <th>review_scores_value</th>\n",
       "      <td>-17.47</td>\n",
       "    </tr>\n",
       "  </tbody>\n",
       "</table>\n",
       "</div>"
      ],
      "text/plain": [
       "                             Coefficient\n",
       "boston                             58.88\n",
       "review_scores_location             25.09\n",
       "bedrooms                           21.99\n",
       "accommodates                       21.03\n",
       "bathrooms                          19.88\n",
       "review_scores_cleanliness           8.83\n",
       "guests_included                     1.43\n",
       "review_scores_rating                0.99\n",
       "minimum_nights                      0.15\n",
       "number_of_reviews                  -0.12\n",
       "review_scores_accuracy             -0.36\n",
       "review_scores_communication        -2.22\n",
       "host_since_year                    -2.30\n",
       "reviews_per_month                  -3.64\n",
       "review_scores_checkin              -4.64\n",
       "review_scores_value               -17.47"
      ]
     },
     "execution_count": 27,
     "metadata": {},
     "output_type": "execute_result"
    }
   ],
   "source": [
    "# 20. Check if reviews are stronger price predictors than bed and bathrooms\n",
    "numeric_results = utils.run_linear_regression(filled_cleaned_listings_df, ['price_float'], ['boston'] + numeric_columns_to_describe)\n",
    "numeric_results['coefficients'].head(len(numeric_columns_to_describe) + 1)\n",
    "# Boston remains a strong predictor of price even holding everything else constant\n",
    "# Bedrooms, accomodates and bathrooms are as stronger predictors than reviews but score of location matters a lot as well\n",
    "# Raiting does not matter\n",
    "# Value score is negaative as expected because if signals a good deal\n",
    "# Having a host with longer experience does not increase prices"
   ]
  },
  {
   "cell_type": "code",
   "execution_count": 28,
   "metadata": {},
   "outputs": [
    {
     "name": "stdout",
     "output_type": "stream",
     "text": [
      "0.5005846237898237\n"
     ]
    }
   ],
   "source": [
    "print(numeric_results['r2_test'])\n",
    "# Boston is a strong predictor of price, quality of location is also important as well as size of the appartment"
   ]
  },
  {
   "cell_type": "code",
   "execution_count": 29,
   "metadata": {},
   "outputs": [
    {
     "data": {
      "text/html": [
       "<div>\n",
       "<style scoped>\n",
       "    .dataframe tbody tr th:only-of-type {\n",
       "        vertical-align: middle;\n",
       "    }\n",
       "\n",
       "    .dataframe tbody tr th {\n",
       "        vertical-align: top;\n",
       "    }\n",
       "\n",
       "    .dataframe thead th {\n",
       "        text-align: right;\n",
       "    }\n",
       "</style>\n",
       "<table border=\"1\" class=\"dataframe\">\n",
       "  <thead>\n",
       "    <tr style=\"text-align: right;\">\n",
       "      <th></th>\n",
       "      <th>Coefficient</th>\n",
       "    </tr>\n",
       "  </thead>\n",
       "  <tbody>\n",
       "    <tr>\n",
       "      <th>boston</th>\n",
       "      <td>57.09</td>\n",
       "    </tr>\n",
       "    <tr>\n",
       "      <th>require_guest_phone_verification_t</th>\n",
       "      <td>49.01</td>\n",
       "    </tr>\n",
       "    <tr>\n",
       "      <th>bedrooms</th>\n",
       "      <td>29.90</td>\n",
       "    </tr>\n",
       "    <tr>\n",
       "      <th>bathrooms</th>\n",
       "      <td>25.84</td>\n",
       "    </tr>\n",
       "    <tr>\n",
       "      <th>bed_type_Couch</th>\n",
       "      <td>21.67</td>\n",
       "    </tr>\n",
       "    <tr>\n",
       "      <th>review_scores_location</th>\n",
       "      <td>16.68</td>\n",
       "    </tr>\n",
       "    <tr>\n",
       "      <th>bed_type_Real Bed</th>\n",
       "      <td>13.73</td>\n",
       "    </tr>\n",
       "    <tr>\n",
       "      <th>host_is_superhost_t</th>\n",
       "      <td>10.96</td>\n",
       "    </tr>\n",
       "    <tr>\n",
       "      <th>accommodates</th>\n",
       "      <td>10.06</td>\n",
       "    </tr>\n",
       "    <tr>\n",
       "      <th>bed_type_Pull-out Sofa</th>\n",
       "      <td>8.11</td>\n",
       "    </tr>\n",
       "    <tr>\n",
       "      <th>review_scores_cleanliness</th>\n",
       "      <td>2.94</td>\n",
       "    </tr>\n",
       "    <tr>\n",
       "      <th>bed_type_Futon</th>\n",
       "      <td>2.78</td>\n",
       "    </tr>\n",
       "    <tr>\n",
       "      <th>is_location_exact_t</th>\n",
       "      <td>2.53</td>\n",
       "    </tr>\n",
       "    <tr>\n",
       "      <th>guests_included</th>\n",
       "      <td>1.45</td>\n",
       "    </tr>\n",
       "    <tr>\n",
       "      <th>review_scores_rating</th>\n",
       "      <td>1.15</td>\n",
       "    </tr>\n",
       "    <tr>\n",
       "      <th>host_response_time_within a few hours</th>\n",
       "      <td>1.13</td>\n",
       "    </tr>\n",
       "    <tr>\n",
       "      <th>host_since_year</th>\n",
       "      <td>0.73</td>\n",
       "    </tr>\n",
       "    <tr>\n",
       "      <th>review_scores_accuracy</th>\n",
       "      <td>0.27</td>\n",
       "    </tr>\n",
       "    <tr>\n",
       "      <th>host_identity_verified_t</th>\n",
       "      <td>0.11</td>\n",
       "    </tr>\n",
       "    <tr>\n",
       "      <th>minimum_nights</th>\n",
       "      <td>0.09</td>\n",
       "    </tr>\n",
       "    <tr>\n",
       "      <th>number_of_reviews</th>\n",
       "      <td>-0.13</td>\n",
       "    </tr>\n",
       "    <tr>\n",
       "      <th>review_scores_communication</th>\n",
       "      <td>-1.14</td>\n",
       "    </tr>\n",
       "    <tr>\n",
       "      <th>instant_bookable_t</th>\n",
       "      <td>-1.63</td>\n",
       "    </tr>\n",
       "    <tr>\n",
       "      <th>cancellation_policy_strict</th>\n",
       "      <td>-1.95</td>\n",
       "    </tr>\n",
       "    <tr>\n",
       "      <th>reviews_per_month</th>\n",
       "      <td>-2.32</td>\n",
       "    </tr>\n",
       "    <tr>\n",
       "      <th>cancellation_policy_moderate</th>\n",
       "      <td>-3.48</td>\n",
       "    </tr>\n",
       "    <tr>\n",
       "      <th>review_scores_checkin</th>\n",
       "      <td>-3.51</td>\n",
       "    </tr>\n",
       "    <tr>\n",
       "      <th>host_response_time_within an hour</th>\n",
       "      <td>-5.88</td>\n",
       "    </tr>\n",
       "    <tr>\n",
       "      <th>host_has_profile_pic_t</th>\n",
       "      <td>-7.24</td>\n",
       "    </tr>\n",
       "    <tr>\n",
       "      <th>host_response_time_within a day</th>\n",
       "      <td>-11.26</td>\n",
       "    </tr>\n",
       "    <tr>\n",
       "      <th>review_scores_value</th>\n",
       "      <td>-13.02</td>\n",
       "    </tr>\n",
       "    <tr>\n",
       "      <th>require_guest_profile_picture_t</th>\n",
       "      <td>-29.00</td>\n",
       "    </tr>\n",
       "    <tr>\n",
       "      <th>room_type_Private room</th>\n",
       "      <td>-62.58</td>\n",
       "    </tr>\n",
       "    <tr>\n",
       "      <th>room_type_Shared room</th>\n",
       "      <td>-67.33</td>\n",
       "    </tr>\n",
       "  </tbody>\n",
       "</table>\n",
       "</div>"
      ],
      "text/plain": [
       "                                       Coefficient\n",
       "boston                                       57.09\n",
       "require_guest_phone_verification_t           49.01\n",
       "bedrooms                                     29.90\n",
       "bathrooms                                    25.84\n",
       "bed_type_Couch                               21.67\n",
       "review_scores_location                       16.68\n",
       "bed_type_Real Bed                            13.73\n",
       "host_is_superhost_t                          10.96\n",
       "accommodates                                 10.06\n",
       "bed_type_Pull-out Sofa                        8.11\n",
       "review_scores_cleanliness                     2.94\n",
       "bed_type_Futon                                2.78\n",
       "is_location_exact_t                           2.53\n",
       "guests_included                               1.45\n",
       "review_scores_rating                          1.15\n",
       "host_response_time_within a few hours         1.13\n",
       "host_since_year                               0.73\n",
       "review_scores_accuracy                        0.27\n",
       "host_identity_verified_t                      0.11\n",
       "minimum_nights                                0.09\n",
       "number_of_reviews                            -0.13\n",
       "review_scores_communication                  -1.14\n",
       "instant_bookable_t                           -1.63\n",
       "cancellation_policy_strict                   -1.95\n",
       "reviews_per_month                            -2.32\n",
       "cancellation_policy_moderate                 -3.48\n",
       "review_scores_checkin                        -3.51\n",
       "host_response_time_within an hour            -5.88\n",
       "host_has_profile_pic_t                       -7.24\n",
       "host_response_time_within a day             -11.26\n",
       "review_scores_value                         -13.02\n",
       "require_guest_profile_picture_t             -29.00\n",
       "room_type_Private room                      -62.58\n",
       "room_type_Shared room                       -67.33"
      ]
     },
     "execution_count": 29,
     "metadata": {},
     "output_type": "execute_result"
    }
   ],
   "source": [
    "# 21. Check if categorical values are stronger predictors than numeric predictors\n",
    "columns_of_interest = list(filled_cleaned_listings_df.columns)\n",
    "columns_of_interest.remove('price_float')\n",
    "total_results = utils.run_linear_regression(filled_cleaned_listings_df, ['price_float'], columns_of_interest)\n",
    "total_results['coefficients'].head(len(columns_of_interest)+1)\n",
    "# Phone verification is associated with more expensive accomodations\n",
    "# Couch is more expensive than a real bed\n",
    "# Host that replies in couple of hours earns more than host replyiong within an hour? \n",
    "# Number of reviews have negative effect on price"
   ]
  },
  {
   "cell_type": "code",
   "execution_count": 30,
   "metadata": {},
   "outputs": [
    {
     "name": "stdout",
     "output_type": "stream",
     "text": [
      "0.5678415968873327\n"
     ]
    }
   ],
   "source": [
    "print(total_results['r2_test'])"
   ]
  },
  {
   "cell_type": "code",
   "execution_count": 34,
   "metadata": {
    "scrolled": true
   },
   "outputs": [
    {
     "ename": "KeyError",
     "evalue": "\"['listing_id' 'date_day' 'date' 'available' 'price'] not found in axis\"",
     "output_type": "error",
     "traceback": [
      "\u001b[0;31m---------------------------------------------------------------------------\u001b[0m",
      "\u001b[0;31mKeyError\u001b[0m                                  Traceback (most recent call last)",
      "\u001b[0;32m<ipython-input-34-149d43e5349d>\u001b[0m in \u001b[0;36m<module>\u001b[0;34m\u001b[0m\n\u001b[1;32m      1\u001b[0m \u001b[0;31m# 22. Check missing values in calendar df\u001b[0m\u001b[0;34m\u001b[0m\u001b[0;34m\u001b[0m\u001b[0;34m\u001b[0m\u001b[0m\n\u001b[0;32m----> 2\u001b[0;31m \u001b[0mcalendar_df\u001b[0m \u001b[0;34m=\u001b[0m \u001b[0mcalendar_df\u001b[0m\u001b[0;34m.\u001b[0m\u001b[0mdrop\u001b[0m\u001b[0;34m(\u001b[0m\u001b[0mcolumns\u001b[0m\u001b[0;34m=\u001b[0m\u001b[0;34m[\u001b[0m\u001b[0;34m'listing_id'\u001b[0m\u001b[0;34m,\u001b[0m\u001b[0;34m'date_day'\u001b[0m\u001b[0;34m,\u001b[0m\u001b[0;34m'date'\u001b[0m\u001b[0;34m,\u001b[0m\u001b[0;34m'available'\u001b[0m\u001b[0;34m,\u001b[0m\u001b[0;34m'price'\u001b[0m\u001b[0;34m]\u001b[0m\u001b[0;34m)\u001b[0m\u001b[0;34m\u001b[0m\u001b[0;34m\u001b[0m\u001b[0m\n\u001b[0m\u001b[1;32m      3\u001b[0m \u001b[0mutils\u001b[0m\u001b[0;34m.\u001b[0m\u001b[0mcheck_missing_values\u001b[0m\u001b[0;34m(\u001b[0m\u001b[0mcalendar_df\u001b[0m\u001b[0;34m,\u001b[0m \u001b[0;36m0.5\u001b[0m\u001b[0;34m)\u001b[0m\u001b[0;34m\u001b[0m\u001b[0;34m\u001b[0m\u001b[0m\n\u001b[1;32m      4\u001b[0m \u001b[0mcalendar_df\u001b[0m \u001b[0;34m=\u001b[0m \u001b[0mcalendar_df\u001b[0m\u001b[0;34m.\u001b[0m\u001b[0mdropna\u001b[0m\u001b[0;34m(\u001b[0m\u001b[0;34m)\u001b[0m\u001b[0;34m.\u001b[0m\u001b[0mreset_index\u001b[0m\u001b[0;34m(\u001b[0m\u001b[0mdrop\u001b[0m\u001b[0;34m=\u001b[0m\u001b[0;32mTrue\u001b[0m\u001b[0;34m)\u001b[0m\u001b[0;34m\u001b[0m\u001b[0;34m\u001b[0m\u001b[0m\n",
      "\u001b[0;32m/Library/Frameworks/Python.framework/Versions/3.6/lib/python3.6/site-packages/pandas/core/frame.py\u001b[0m in \u001b[0;36mdrop\u001b[0;34m(self, labels, axis, index, columns, level, inplace, errors)\u001b[0m\n\u001b[1;32m   4172\u001b[0m             \u001b[0mlevel\u001b[0m\u001b[0;34m=\u001b[0m\u001b[0mlevel\u001b[0m\u001b[0;34m,\u001b[0m\u001b[0;34m\u001b[0m\u001b[0;34m\u001b[0m\u001b[0m\n\u001b[1;32m   4173\u001b[0m             \u001b[0minplace\u001b[0m\u001b[0;34m=\u001b[0m\u001b[0minplace\u001b[0m\u001b[0;34m,\u001b[0m\u001b[0;34m\u001b[0m\u001b[0;34m\u001b[0m\u001b[0m\n\u001b[0;32m-> 4174\u001b[0;31m             \u001b[0merrors\u001b[0m\u001b[0;34m=\u001b[0m\u001b[0merrors\u001b[0m\u001b[0;34m,\u001b[0m\u001b[0;34m\u001b[0m\u001b[0;34m\u001b[0m\u001b[0m\n\u001b[0m\u001b[1;32m   4175\u001b[0m         )\n\u001b[1;32m   4176\u001b[0m \u001b[0;34m\u001b[0m\u001b[0m\n",
      "\u001b[0;32m/Library/Frameworks/Python.framework/Versions/3.6/lib/python3.6/site-packages/pandas/core/generic.py\u001b[0m in \u001b[0;36mdrop\u001b[0;34m(self, labels, axis, index, columns, level, inplace, errors)\u001b[0m\n\u001b[1;32m   3887\u001b[0m         \u001b[0;32mfor\u001b[0m \u001b[0maxis\u001b[0m\u001b[0;34m,\u001b[0m \u001b[0mlabels\u001b[0m \u001b[0;32min\u001b[0m \u001b[0maxes\u001b[0m\u001b[0;34m.\u001b[0m\u001b[0mitems\u001b[0m\u001b[0;34m(\u001b[0m\u001b[0;34m)\u001b[0m\u001b[0;34m:\u001b[0m\u001b[0;34m\u001b[0m\u001b[0;34m\u001b[0m\u001b[0m\n\u001b[1;32m   3888\u001b[0m             \u001b[0;32mif\u001b[0m \u001b[0mlabels\u001b[0m \u001b[0;32mis\u001b[0m \u001b[0;32mnot\u001b[0m \u001b[0;32mNone\u001b[0m\u001b[0;34m:\u001b[0m\u001b[0;34m\u001b[0m\u001b[0;34m\u001b[0m\u001b[0m\n\u001b[0;32m-> 3889\u001b[0;31m                 \u001b[0mobj\u001b[0m \u001b[0;34m=\u001b[0m \u001b[0mobj\u001b[0m\u001b[0;34m.\u001b[0m\u001b[0m_drop_axis\u001b[0m\u001b[0;34m(\u001b[0m\u001b[0mlabels\u001b[0m\u001b[0;34m,\u001b[0m \u001b[0maxis\u001b[0m\u001b[0;34m,\u001b[0m \u001b[0mlevel\u001b[0m\u001b[0;34m=\u001b[0m\u001b[0mlevel\u001b[0m\u001b[0;34m,\u001b[0m \u001b[0merrors\u001b[0m\u001b[0;34m=\u001b[0m\u001b[0merrors\u001b[0m\u001b[0;34m)\u001b[0m\u001b[0;34m\u001b[0m\u001b[0;34m\u001b[0m\u001b[0m\n\u001b[0m\u001b[1;32m   3890\u001b[0m \u001b[0;34m\u001b[0m\u001b[0m\n\u001b[1;32m   3891\u001b[0m         \u001b[0;32mif\u001b[0m \u001b[0minplace\u001b[0m\u001b[0;34m:\u001b[0m\u001b[0;34m\u001b[0m\u001b[0;34m\u001b[0m\u001b[0m\n",
      "\u001b[0;32m/Library/Frameworks/Python.framework/Versions/3.6/lib/python3.6/site-packages/pandas/core/generic.py\u001b[0m in \u001b[0;36m_drop_axis\u001b[0;34m(self, labels, axis, level, errors)\u001b[0m\n\u001b[1;32m   3921\u001b[0m                 \u001b[0mnew_axis\u001b[0m \u001b[0;34m=\u001b[0m \u001b[0maxis\u001b[0m\u001b[0;34m.\u001b[0m\u001b[0mdrop\u001b[0m\u001b[0;34m(\u001b[0m\u001b[0mlabels\u001b[0m\u001b[0;34m,\u001b[0m \u001b[0mlevel\u001b[0m\u001b[0;34m=\u001b[0m\u001b[0mlevel\u001b[0m\u001b[0;34m,\u001b[0m \u001b[0merrors\u001b[0m\u001b[0;34m=\u001b[0m\u001b[0merrors\u001b[0m\u001b[0;34m)\u001b[0m\u001b[0;34m\u001b[0m\u001b[0;34m\u001b[0m\u001b[0m\n\u001b[1;32m   3922\u001b[0m             \u001b[0;32melse\u001b[0m\u001b[0;34m:\u001b[0m\u001b[0;34m\u001b[0m\u001b[0;34m\u001b[0m\u001b[0m\n\u001b[0;32m-> 3923\u001b[0;31m                 \u001b[0mnew_axis\u001b[0m \u001b[0;34m=\u001b[0m \u001b[0maxis\u001b[0m\u001b[0;34m.\u001b[0m\u001b[0mdrop\u001b[0m\u001b[0;34m(\u001b[0m\u001b[0mlabels\u001b[0m\u001b[0;34m,\u001b[0m \u001b[0merrors\u001b[0m\u001b[0;34m=\u001b[0m\u001b[0merrors\u001b[0m\u001b[0;34m)\u001b[0m\u001b[0;34m\u001b[0m\u001b[0;34m\u001b[0m\u001b[0m\n\u001b[0m\u001b[1;32m   3924\u001b[0m             \u001b[0mresult\u001b[0m \u001b[0;34m=\u001b[0m \u001b[0mself\u001b[0m\u001b[0;34m.\u001b[0m\u001b[0mreindex\u001b[0m\u001b[0;34m(\u001b[0m\u001b[0;34m**\u001b[0m\u001b[0;34m{\u001b[0m\u001b[0maxis_name\u001b[0m\u001b[0;34m:\u001b[0m \u001b[0mnew_axis\u001b[0m\u001b[0;34m}\u001b[0m\u001b[0;34m)\u001b[0m\u001b[0;34m\u001b[0m\u001b[0;34m\u001b[0m\u001b[0m\n\u001b[1;32m   3925\u001b[0m \u001b[0;34m\u001b[0m\u001b[0m\n",
      "\u001b[0;32m/Library/Frameworks/Python.framework/Versions/3.6/lib/python3.6/site-packages/pandas/core/indexes/base.py\u001b[0m in \u001b[0;36mdrop\u001b[0;34m(self, labels, errors)\u001b[0m\n\u001b[1;32m   5285\u001b[0m         \u001b[0;32mif\u001b[0m \u001b[0mmask\u001b[0m\u001b[0;34m.\u001b[0m\u001b[0many\u001b[0m\u001b[0;34m(\u001b[0m\u001b[0;34m)\u001b[0m\u001b[0;34m:\u001b[0m\u001b[0;34m\u001b[0m\u001b[0;34m\u001b[0m\u001b[0m\n\u001b[1;32m   5286\u001b[0m             \u001b[0;32mif\u001b[0m \u001b[0merrors\u001b[0m \u001b[0;34m!=\u001b[0m \u001b[0;34m\"ignore\"\u001b[0m\u001b[0;34m:\u001b[0m\u001b[0;34m\u001b[0m\u001b[0;34m\u001b[0m\u001b[0m\n\u001b[0;32m-> 5287\u001b[0;31m                 \u001b[0;32mraise\u001b[0m \u001b[0mKeyError\u001b[0m\u001b[0;34m(\u001b[0m\u001b[0;34mf\"{labels[mask]} not found in axis\"\u001b[0m\u001b[0;34m)\u001b[0m\u001b[0;34m\u001b[0m\u001b[0;34m\u001b[0m\u001b[0m\n\u001b[0m\u001b[1;32m   5288\u001b[0m             \u001b[0mindexer\u001b[0m \u001b[0;34m=\u001b[0m \u001b[0mindexer\u001b[0m\u001b[0;34m[\u001b[0m\u001b[0;34m~\u001b[0m\u001b[0mmask\u001b[0m\u001b[0;34m]\u001b[0m\u001b[0;34m\u001b[0m\u001b[0;34m\u001b[0m\u001b[0m\n\u001b[1;32m   5289\u001b[0m         \u001b[0;32mreturn\u001b[0m \u001b[0mself\u001b[0m\u001b[0;34m.\u001b[0m\u001b[0mdelete\u001b[0m\u001b[0;34m(\u001b[0m\u001b[0mindexer\u001b[0m\u001b[0;34m)\u001b[0m\u001b[0;34m\u001b[0m\u001b[0;34m\u001b[0m\u001b[0m\n",
      "\u001b[0;31mKeyError\u001b[0m: \"['listing_id' 'date_day' 'date' 'available' 'price'] not found in axis\""
     ]
    }
   ],
   "source": [
    "# 22. Check missing values in calendar df\n",
    "calendar_df = calendar_df.drop(columns=['listing_id','date_day','date','available','price'])\n",
    "utils.check_missing_values(calendar_df, 0.5) \n",
    "calendar_df = calendar_df.dropna().reset_index(drop=True)"
   ]
  },
  {
   "cell_type": "code",
   "execution_count": 32,
   "metadata": {
    "scrolled": true
   },
   "outputs": [
    {
     "name": "stdout",
     "output_type": "stream",
     "text": [
      "              index  seattle  boston\n",
      "0            boston     0.00    0.00\n",
      "1         date_year     0.00    0.00\n",
      "2        date_month     0.00    0.00\n",
      "3       price_float     0.00    0.00\n",
      "4         2017_year     0.00    0.00\n",
      "5  2017_year_boston     0.00    0.00\n"
     ]
    },
    {
     "data": {
      "text/plain": [
       "[]"
      ]
     },
     "execution_count": 32,
     "metadata": {},
     "output_type": "execute_result"
    }
   ],
   "source": [
    "# 23. Create city, year, city-year interaction dummies\n",
    "calendar_df['2017_year'] = np.where(calendar_df['date_year'] == '2017', 1, 0)\n",
    "calendar_df['2017_year_boston'] = calendar_df['2017_year'].multiply(calendar_df['boston'])\n",
    "utils.check_missing_values(calendar_df, 0.5) "
   ]
  },
  {
   "cell_type": "code",
   "execution_count": 35,
   "metadata": {},
   "outputs": [
    {
     "data": {
      "text/plain": [
       "(1577579, 6)"
      ]
     },
     "execution_count": 35,
     "metadata": {},
     "output_type": "execute_result"
    }
   ],
   "source": [
    "# even after dropping missing it is a large dataset\n",
    "calendar_df.shape"
   ]
  },
  {
   "cell_type": "code",
   "execution_count": 50,
   "metadata": {},
   "outputs": [
    {
     "data": {
      "text/html": [
       "<div>\n",
       "<style scoped>\n",
       "    .dataframe tbody tr th:only-of-type {\n",
       "        vertical-align: middle;\n",
       "    }\n",
       "\n",
       "    .dataframe tbody tr th {\n",
       "        vertical-align: top;\n",
       "    }\n",
       "\n",
       "    .dataframe thead th {\n",
       "        text-align: right;\n",
       "    }\n",
       "</style>\n",
       "<table border=\"1\" class=\"dataframe\">\n",
       "  <thead>\n",
       "    <tr style=\"text-align: right;\">\n",
       "      <th></th>\n",
       "      <th>Coefficient</th>\n",
       "    </tr>\n",
       "  </thead>\n",
       "  <tbody>\n",
       "    <tr>\n",
       "      <th>boston</th>\n",
       "      <td>75.32</td>\n",
       "    </tr>\n",
       "    <tr>\n",
       "      <th>2017_year</th>\n",
       "      <td>-1.94</td>\n",
       "    </tr>\n",
       "    <tr>\n",
       "      <th>2017_year_boston</th>\n",
       "      <td>-19.14</td>\n",
       "    </tr>\n",
       "  </tbody>\n",
       "</table>\n",
       "</div>"
      ],
      "text/plain": [
       "                  Coefficient\n",
       "boston                  75.32\n",
       "2017_year               -1.94\n",
       "2017_year_boston       -19.14"
      ]
     },
     "execution_count": 50,
     "metadata": {},
     "output_type": "execute_result"
    }
   ],
   "source": [
    "# 24. Check if prices decreased in 2017\n",
    "columns_of_interest = ['2017_year', 'boston', '2017_year_boston']\n",
    "trends_results = utils.run_linear_regression(calendar_df, ['price_float'], columns_of_interest)\n",
    "trends_results['coefficients'].head(len(columns_of_interest)+1)\n",
    "# Boson is +75 in 2016\n",
    "# seattle prices decreased by 2 dollars in 2017\n",
    "# Boston prices decreased  by about 21 dollars in 2017"
   ]
  },
  {
   "cell_type": "code",
   "execution_count": 48,
   "metadata": {},
   "outputs": [
    {
     "data": {
      "text/plain": [
       "boston  2017_year  date_month\n",
       "0       0          12            87061\n",
       "                   03            83938\n",
       "                   10            82438\n",
       "                   11            81780\n",
       "                   05            79971\n",
       "                   09            77246\n",
       "                   06            77244\n",
       "                   08            76347\n",
       "                   04            76037\n",
       "                   07            74222\n",
       "                   02            73321\n",
       "                   01            59239\n",
       "        1          01             5698\n",
       "1       0          12            60997\n",
       "                   11            58888\n",
       "                   10            46345\n",
       "                   09            24401\n",
       "        1          01            63181\n",
       "                   02            56810\n",
       "                   08            55561\n",
       "                   03            55181\n",
       "                   07            54963\n",
       "                   05            53600\n",
       "                   06            52731\n",
       "                   04            51382\n",
       "                   09             8997\n",
       "Name: date_month, dtype: int64"
      ]
     },
     "execution_count": 48,
     "metadata": {},
     "output_type": "execute_result"
    }
   ],
   "source": [
    "calendar_df.groupby(['boston','2017_year'])['date_month'].value_counts()"
   ]
  },
  {
   "cell_type": "code",
   "execution_count": 37,
   "metadata": {
    "scrolled": true
   },
   "outputs": [],
   "source": [
    "# 25. create monthly dummies to check what is the best month to com\n",
    "monthly_calendar_df = pd.concat([calendar_df.drop('date_month', axis=1)\n",
    "                            , pd.get_dummies(calendar_df['date_month']\n",
    "                                             , prefix='month', prefix_sep='_', drop_first=True)], axis=1)\n",
    "monthly_calendar_df = monthly_calendar_df.drop(columns=['date_year'])\n",
    "columns_of_interest = [col for col in monthly_calendar_df.columns if 'month_' in col] "
   ]
  },
  {
   "cell_type": "code",
   "execution_count": 43,
   "metadata": {},
   "outputs": [
    {
     "data": {
      "text/html": [
       "<div>\n",
       "<style scoped>\n",
       "    .dataframe tbody tr th:only-of-type {\n",
       "        vertical-align: middle;\n",
       "    }\n",
       "\n",
       "    .dataframe tbody tr th {\n",
       "        vertical-align: top;\n",
       "    }\n",
       "\n",
       "    .dataframe thead th {\n",
       "        text-align: right;\n",
       "    }\n",
       "</style>\n",
       "<table border=\"1\" class=\"dataframe\">\n",
       "  <thead>\n",
       "    <tr style=\"text-align: right;\">\n",
       "      <th></th>\n",
       "      <th>Coefficient</th>\n",
       "    </tr>\n",
       "  </thead>\n",
       "  <tbody>\n",
       "    <tr>\n",
       "      <th>boston</th>\n",
       "      <td>77.70</td>\n",
       "    </tr>\n",
       "    <tr>\n",
       "      <th>month_07</th>\n",
       "      <td>25.09</td>\n",
       "    </tr>\n",
       "    <tr>\n",
       "      <th>month_09</th>\n",
       "      <td>25.06</td>\n",
       "    </tr>\n",
       "    <tr>\n",
       "      <th>month_08</th>\n",
       "      <td>24.48</td>\n",
       "    </tr>\n",
       "    <tr>\n",
       "      <th>month_06</th>\n",
       "      <td>20.15</td>\n",
       "    </tr>\n",
       "    <tr>\n",
       "      <th>month_10</th>\n",
       "      <td>18.48</td>\n",
       "    </tr>\n",
       "    <tr>\n",
       "      <th>month_05</th>\n",
       "      <td>14.72</td>\n",
       "    </tr>\n",
       "    <tr>\n",
       "      <th>month_04</th>\n",
       "      <td>13.19</td>\n",
       "    </tr>\n",
       "    <tr>\n",
       "      <th>2017_year</th>\n",
       "      <td>10.95</td>\n",
       "    </tr>\n",
       "    <tr>\n",
       "      <th>month_11</th>\n",
       "      <td>6.23</td>\n",
       "    </tr>\n",
       "    <tr>\n",
       "      <th>month_03</th>\n",
       "      <td>3.29</td>\n",
       "    </tr>\n",
       "    <tr>\n",
       "      <th>month_12</th>\n",
       "      <td>2.80</td>\n",
       "    </tr>\n",
       "    <tr>\n",
       "      <th>month_02</th>\n",
       "      <td>0.26</td>\n",
       "    </tr>\n",
       "    <tr>\n",
       "      <th>2017_year_boston</th>\n",
       "      <td>-34.09</td>\n",
       "    </tr>\n",
       "  </tbody>\n",
       "</table>\n",
       "</div>"
      ],
      "text/plain": [
       "                  Coefficient\n",
       "boston                  77.70\n",
       "month_07                25.09\n",
       "month_09                25.06\n",
       "month_08                24.48\n",
       "month_06                20.15\n",
       "month_10                18.48\n",
       "month_05                14.72\n",
       "month_04                13.19\n",
       "2017_year               10.95\n",
       "month_11                 6.23\n",
       "month_03                 3.29\n",
       "month_12                 2.80\n",
       "month_02                 0.26\n",
       "2017_year_boston       -34.09"
      ]
     },
     "execution_count": 43,
     "metadata": {},
     "output_type": "execute_result"
    }
   ],
   "source": [
    "# 26. Check what month is cheapest for tourists\n",
    "monthly_results = utils.run_linear_regression(monthly_calendar_df, ['price_float']\n",
    "                                              , columns_of_interest + ['boston','2017_year','2017_year_boston'])\n",
    "monthly_results['coefficients'].head(len(columns_of_interest)+3)\n",
    "# The sign of 2017_year flips to positive \n",
    "# suggeting that seattle prices increased in 2017 in comparison to 2016 rather tahn dropped\n",
    "# the reason is that now we control for seasonality and previously we saw the effect of \n",
    "# having only relatively cheaper winter months for 2017 seattle dataset"
   ]
  },
  {
   "cell_type": "code",
   "execution_count": 53,
   "metadata": {},
   "outputs": [
    {
     "data": {
      "text/plain": [
       "Index(['boston', 'price_float', '2017_year', '2017_year_boston', 'month_02', 'month_03', 'month_04', 'month_05', 'month_06', 'month_07', 'month_08', 'month_09', 'month_10', 'month_11', 'month_12', 'boston_month_02', 'boston_month_03', 'boston_month_04', 'boston_month_05', 'boston_month_06', 'boston_month_07', 'boston_month_08', 'boston_month_09', 'boston_month_10', 'boston_month_11', 'boston_month_12'], dtype='object')"
      ]
     },
     "execution_count": 53,
     "metadata": {},
     "output_type": "execute_result"
    }
   ],
   "source": [
    "# 27. Check what month is cheapest for tourists separately in Boston and Seattle\n",
    "monthly_columns = [col for col in monthly_calendar_df.columns if 'month_' in col]\n",
    "for col in monthly_columns:\n",
    "    monthly_calendar_df['boston_' + col] = monthly_calendar_df['boston']*monthly_calendar_df[col]"
   ]
  },
  {
   "cell_type": "code",
   "execution_count": 56,
   "metadata": {},
   "outputs": [
    {
     "data": {
      "text/html": [
       "<div>\n",
       "<style scoped>\n",
       "    .dataframe tbody tr th:only-of-type {\n",
       "        vertical-align: middle;\n",
       "    }\n",
       "\n",
       "    .dataframe tbody tr th {\n",
       "        vertical-align: top;\n",
       "    }\n",
       "\n",
       "    .dataframe thead th {\n",
       "        text-align: right;\n",
       "    }\n",
       "</style>\n",
       "<table border=\"1\" class=\"dataframe\">\n",
       "  <thead>\n",
       "    <tr style=\"text-align: right;\">\n",
       "      <th></th>\n",
       "      <th>Coefficient</th>\n",
       "    </tr>\n",
       "  </thead>\n",
       "  <tbody>\n",
       "    <tr>\n",
       "      <th>boston</th>\n",
       "      <td>59.83</td>\n",
       "    </tr>\n",
       "    <tr>\n",
       "      <th>boston_month_10</th>\n",
       "      <td>36.93</td>\n",
       "    </tr>\n",
       "    <tr>\n",
       "      <th>boston_month_09</th>\n",
       "      <td>33.95</td>\n",
       "    </tr>\n",
       "    <tr>\n",
       "      <th>month_07</th>\n",
       "      <td>28.94</td>\n",
       "    </tr>\n",
       "    <tr>\n",
       "      <th>month_08</th>\n",
       "      <td>27.47</td>\n",
       "    </tr>\n",
       "    <tr>\n",
       "      <th>month_06</th>\n",
       "      <td>24.75</td>\n",
       "    </tr>\n",
       "    <tr>\n",
       "      <th>month_09</th>\n",
       "      <td>20.46</td>\n",
       "    </tr>\n",
       "    <tr>\n",
       "      <th>month_05</th>\n",
       "      <td>16.65</td>\n",
       "    </tr>\n",
       "    <tr>\n",
       "      <th>month_12</th>\n",
       "      <td>14.20</td>\n",
       "    </tr>\n",
       "    <tr>\n",
       "      <th>month_10</th>\n",
       "      <td>13.73</td>\n",
       "    </tr>\n",
       "    <tr>\n",
       "      <th>month_11</th>\n",
       "      <td>13.03</td>\n",
       "    </tr>\n",
       "    <tr>\n",
       "      <th>month_04</th>\n",
       "      <td>11.96</td>\n",
       "    </tr>\n",
       "    <tr>\n",
       "      <th>boston_month_11</th>\n",
       "      <td>6.65</td>\n",
       "    </tr>\n",
       "    <tr>\n",
       "      <th>month_03</th>\n",
       "      <td>5.82</td>\n",
       "    </tr>\n",
       "    <tr>\n",
       "      <th>boston_month_04</th>\n",
       "      <td>3.00</td>\n",
       "    </tr>\n",
       "    <tr>\n",
       "      <th>month_02</th>\n",
       "      <td>1.54</td>\n",
       "    </tr>\n",
       "    <tr>\n",
       "      <th>boston_month_02</th>\n",
       "      <td>-3.35</td>\n",
       "    </tr>\n",
       "    <tr>\n",
       "      <th>boston_month_12</th>\n",
       "      <td>-4.64</td>\n",
       "    </tr>\n",
       "    <tr>\n",
       "      <th>boston_month_05</th>\n",
       "      <td>-4.81</td>\n",
       "    </tr>\n",
       "    <tr>\n",
       "      <th>boston_month_03</th>\n",
       "      <td>-6.32</td>\n",
       "    </tr>\n",
       "    <tr>\n",
       "      <th>boston_month_08</th>\n",
       "      <td>-7.37</td>\n",
       "    </tr>\n",
       "    <tr>\n",
       "      <th>boston_month_07</th>\n",
       "      <td>-9.34</td>\n",
       "    </tr>\n",
       "    <tr>\n",
       "      <th>boston_month_06</th>\n",
       "      <td>-11.42</td>\n",
       "    </tr>\n",
       "  </tbody>\n",
       "</table>\n",
       "</div>"
      ],
      "text/plain": [
       "                 Coefficient\n",
       "boston                 59.83\n",
       "boston_month_10        36.93\n",
       "boston_month_09        33.95\n",
       "month_07               28.94\n",
       "month_08               27.47\n",
       "month_06               24.75\n",
       "month_09               20.46\n",
       "month_05               16.65\n",
       "month_12               14.20\n",
       "month_10               13.73\n",
       "month_11               13.03\n",
       "month_04               11.96\n",
       "boston_month_11         6.65\n",
       "month_03                5.82\n",
       "boston_month_04         3.00\n",
       "month_02                1.54\n",
       "boston_month_02        -3.35\n",
       "boston_month_12        -4.64\n",
       "boston_month_05        -4.81\n",
       "boston_month_03        -6.32\n",
       "boston_month_08        -7.37\n",
       "boston_month_07        -9.34\n",
       "boston_month_06       -11.42"
      ]
     },
     "execution_count": 56,
     "metadata": {},
     "output_type": "execute_result"
    }
   ],
   "source": [
    "monthly_interaction_columns = [col for col in monthly_calendar_df.columns if 'month_' in col]\n",
    "monthly_results = utils.run_linear_regression(monthly_calendar_df, ['price_float']\n",
    "                                              , monthly_interaction_columns + ['boston'])\n",
    "monthly_results['coefficients'].head(len(monthly_interaction_columns)+3)"
   ]
  },
  {
   "cell_type": "code",
   "execution_count": 81,
   "metadata": {},
   "outputs": [],
   "source": [
    "# 27. combine coefficients for Seattle and Boston to infere overall change of prices in Boston in comparison to January\n",
    "coefficients_df = monthly_results['coefficients'].sort_index()\n",
    "boston_coefficients_df = coefficients_df[coefficients_df.index.str.contains('boston') \n",
    "                                         & (coefficients_df.index != 'boston')].reset_index(drop=True)\n",
    "seattle_coefficients_df = coefficients_df[~coefficients_df.index.str.contains('boston')].reset_index(drop=True)"
   ]
  },
  {
   "cell_type": "code",
   "execution_count": 82,
   "metadata": {},
   "outputs": [],
   "source": [
    "seasonality_df = boston_coefficients_df.merge(seattle_coefficients_df, left_index=True, right_index=True)\n",
    "seasonality_df.index = ['Feb','March','April','May','June','July','Aug','Sep','Oct','Nov','Dec']"
   ]
  },
  {
   "cell_type": "code",
   "execution_count": 83,
   "metadata": {},
   "outputs": [],
   "source": [
    "seasonality_df.columns = ['Season_Impact_Boston', 'Season_Impact_Seattle']\n",
    "seasonality_df['Season_Impact_Boston'] = seasonality_df['Season_Impact_Boston'] + seasonality_df['Season_Impact_Seattle']"
   ]
  },
  {
   "cell_type": "code",
   "execution_count": 89,
   "metadata": {},
   "outputs": [
    {
     "data": {
      "text/html": [
       "<div>\n",
       "<style scoped>\n",
       "    .dataframe tbody tr th:only-of-type {\n",
       "        vertical-align: middle;\n",
       "    }\n",
       "\n",
       "    .dataframe tbody tr th {\n",
       "        vertical-align: top;\n",
       "    }\n",
       "\n",
       "    .dataframe thead th {\n",
       "        text-align: right;\n",
       "    }\n",
       "</style>\n",
       "<table border=\"1\" class=\"dataframe\">\n",
       "  <thead>\n",
       "    <tr style=\"text-align: right;\">\n",
       "      <th></th>\n",
       "      <th>Season_Impact_Boston</th>\n",
       "    </tr>\n",
       "  </thead>\n",
       "  <tbody>\n",
       "    <tr>\n",
       "      <th>Feb</th>\n",
       "      <td>-1.82</td>\n",
       "    </tr>\n",
       "    <tr>\n",
       "      <th>March</th>\n",
       "      <td>-0.50</td>\n",
       "    </tr>\n",
       "    <tr>\n",
       "      <th>Dec</th>\n",
       "      <td>9.55</td>\n",
       "    </tr>\n",
       "    <tr>\n",
       "      <th>May</th>\n",
       "      <td>11.84</td>\n",
       "    </tr>\n",
       "    <tr>\n",
       "      <th>June</th>\n",
       "      <td>13.33</td>\n",
       "    </tr>\n",
       "    <tr>\n",
       "      <th>April</th>\n",
       "      <td>14.97</td>\n",
       "    </tr>\n",
       "    <tr>\n",
       "      <th>July</th>\n",
       "      <td>19.60</td>\n",
       "    </tr>\n",
       "    <tr>\n",
       "      <th>Nov</th>\n",
       "      <td>19.68</td>\n",
       "    </tr>\n",
       "    <tr>\n",
       "      <th>Aug</th>\n",
       "      <td>20.11</td>\n",
       "    </tr>\n",
       "    <tr>\n",
       "      <th>Oct</th>\n",
       "      <td>50.67</td>\n",
       "    </tr>\n",
       "    <tr>\n",
       "      <th>Sep</th>\n",
       "      <td>54.42</td>\n",
       "    </tr>\n",
       "  </tbody>\n",
       "</table>\n",
       "</div>"
      ],
      "text/plain": [
       "       Season_Impact_Boston\n",
       "Feb                   -1.82\n",
       "March                 -0.50\n",
       "Dec                    9.55\n",
       "May                   11.84\n",
       "June                  13.33\n",
       "April                 14.97\n",
       "July                  19.60\n",
       "Nov                   19.68\n",
       "Aug                   20.11\n",
       "Oct                   50.67\n",
       "Sep                   54.42"
      ]
     },
     "execution_count": 89,
     "metadata": {},
     "output_type": "execute_result"
    }
   ],
   "source": [
    "# Sort values for Boston\n",
    "seasonality_df[['Season_Impact_Boston']].sort_values('Season_Impact_Boston').head(11)"
   ]
  },
  {
   "cell_type": "code",
   "execution_count": 90,
   "metadata": {},
   "outputs": [
    {
     "data": {
      "text/html": [
       "<div>\n",
       "<style scoped>\n",
       "    .dataframe tbody tr th:only-of-type {\n",
       "        vertical-align: middle;\n",
       "    }\n",
       "\n",
       "    .dataframe tbody tr th {\n",
       "        vertical-align: top;\n",
       "    }\n",
       "\n",
       "    .dataframe thead th {\n",
       "        text-align: right;\n",
       "    }\n",
       "</style>\n",
       "<table border=\"1\" class=\"dataframe\">\n",
       "  <thead>\n",
       "    <tr style=\"text-align: right;\">\n",
       "      <th></th>\n",
       "      <th>Season_Impact_Seattle</th>\n",
       "    </tr>\n",
       "  </thead>\n",
       "  <tbody>\n",
       "    <tr>\n",
       "      <th>Feb</th>\n",
       "      <td>1.54</td>\n",
       "    </tr>\n",
       "    <tr>\n",
       "      <th>March</th>\n",
       "      <td>5.82</td>\n",
       "    </tr>\n",
       "    <tr>\n",
       "      <th>April</th>\n",
       "      <td>11.96</td>\n",
       "    </tr>\n",
       "    <tr>\n",
       "      <th>Nov</th>\n",
       "      <td>13.03</td>\n",
       "    </tr>\n",
       "    <tr>\n",
       "      <th>Oct</th>\n",
       "      <td>13.73</td>\n",
       "    </tr>\n",
       "    <tr>\n",
       "      <th>Dec</th>\n",
       "      <td>14.20</td>\n",
       "    </tr>\n",
       "    <tr>\n",
       "      <th>May</th>\n",
       "      <td>16.65</td>\n",
       "    </tr>\n",
       "    <tr>\n",
       "      <th>Sep</th>\n",
       "      <td>20.46</td>\n",
       "    </tr>\n",
       "    <tr>\n",
       "      <th>June</th>\n",
       "      <td>24.75</td>\n",
       "    </tr>\n",
       "    <tr>\n",
       "      <th>Aug</th>\n",
       "      <td>27.47</td>\n",
       "    </tr>\n",
       "    <tr>\n",
       "      <th>July</th>\n",
       "      <td>28.94</td>\n",
       "    </tr>\n",
       "  </tbody>\n",
       "</table>\n",
       "</div>"
      ],
      "text/plain": [
       "       Season_Impact_Seattle\n",
       "Feb                     1.54\n",
       "March                   5.82\n",
       "April                  11.96\n",
       "Nov                    13.03\n",
       "Oct                    13.73\n",
       "Dec                    14.20\n",
       "May                    16.65\n",
       "Sep                    20.46\n",
       "June                   24.75\n",
       "Aug                    27.47\n",
       "July                   28.94"
      ]
     },
     "execution_count": 90,
     "metadata": {},
     "output_type": "execute_result"
    }
   ],
   "source": [
    "# Sort values for Seattle\n",
    "seasonality_df[['Season_Impact_Seattle']].sort_values('Season_Impact_Seattle').head(11)         "
   ]
  },
  {
   "cell_type": "code",
   "execution_count": null,
   "metadata": {},
   "outputs": [],
   "source": []
  }
 ],
 "metadata": {
  "kernelspec": {
   "display_name": "Python 3",
   "language": "python",
   "name": "python3"
  },
  "language_info": {
   "codemirror_mode": {
    "name": "ipython",
    "version": 3
   },
   "file_extension": ".py",
   "mimetype": "text/x-python",
   "name": "python",
   "nbconvert_exporter": "python",
   "pygments_lexer": "ipython3",
   "version": "3.6.8"
  }
 },
 "nbformat": 4,
 "nbformat_minor": 4
}
