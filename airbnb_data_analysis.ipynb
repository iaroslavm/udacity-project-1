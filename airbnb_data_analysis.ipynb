{
 "cells": [
  {
   "cell_type": "code",
   "execution_count": 1,
   "metadata": {},
   "outputs": [
    {
     "name": "stdout",
     "output_type": "stream",
     "text": [
      "importing Jupyter notebook from analysis_utils.ipynb\n"
     ]
    }
   ],
   "source": [
    "import pandas as pd\n",
    "import import_ipynb\n",
    "import analysis_utils as utils\n",
    "import matplotlib.pyplot as plt\n",
    "from sklearn.linear_model import LinearRegression\n",
    "from sklearn.model_selection import train_test_split\n",
    "from sklearn.metrics import r2_score, mean_squared_error"
   ]
  },
  {
   "cell_type": "code",
   "execution_count": 2,
   "metadata": {},
   "outputs": [],
   "source": [
    "# Set pandas formating options\n",
    "pd.options.display.float_format = '{:.2f}'.format\n",
    "pd.options.display.width = 2000\n",
    "pd.options.display.max_columns = 10"
   ]
  },
  {
   "cell_type": "markdown",
   "metadata": {},
   "source": [
    "#### Step 1. Load and clean Airbnb data for Seattle and Boston\n"
   ]
  },
  {
   "cell_type": "code",
   "execution_count": 3,
   "metadata": {},
   "outputs": [],
   "source": [
    "# 1.1. load airbnb data using UDF\n",
    "data_type = ['calendar'\n",
    "             , 'listings'\n",
    "             , 'reviews']\n",
    "\n",
    "city_type = ['seattle'\n",
    "             , 'boston']\n",
    "\n",
    "city_dictionary = utils.load_csv(city_type, data_type, 'data')"
   ]
  },
  {
   "cell_type": "code",
   "execution_count": 14,
   "metadata": {
    "scrolled": true
   },
   "outputs": [],
   "source": [
    "# 1.2. create separate dataframes for each city and data set\n",
    "reviews_df = utils.concatenate_dataframes(city_dictionary, 'reviews')\n",
    "calendar_df = utils.concatenate_dataframes(city_dictionary, 'calendar')\n",
    "listings_df = utils.concatenate_dataframes(city_dictionary, 'listings')\n",
    "\n",
    "# Convert host_since_year to numetic value\n",
    "listings_df['host_since_year'] = pd.to_numeric(listings_df['host_since_year'], errors='coerce')"
   ]
  },
  {
   "cell_type": "markdown",
   "metadata": {},
   "source": [
    "#### Step 2. Assess size of the data and the amount of missing data"
   ]
  },
  {
   "cell_type": "code",
   "execution_count": 15,
   "metadata": {},
   "outputs": [
    {
     "name": "stdout",
     "output_type": "stream",
     "text": [
      "(3585, 99)\n",
      "(3818, 99)\n"
     ]
    }
   ],
   "source": [
    "# 2.1.  check shape of the listings df\n",
    "print(listings_df[listings_df['boston'] == 1].shape)\n",
    "print(listings_df[listings_df['boston'] == 0].shape)\n",
    "# seattle has slighlty more observations"
   ]
  },
  {
   "cell_type": "code",
   "execution_count": 16,
   "metadata": {},
   "outputs": [
    {
     "name": "stdout",
     "output_type": "stream",
     "text": [
      "                           index  seattle  boston\n",
      "78                       license     1.00    1.00\n",
      "49            jurisdiction_names     0.00    1.00\n",
      "57              has_availability     0.00    1.00\n",
      "75  neighbourhood_group_cleansed     0.00    1.00\n",
      "81                   square_feet     0.97    0.98\n",
      "43           monthly_price_float     0.60    0.75\n",
      "80                 monthly_price     0.60    0.75\n",
      "87                  weekly_price     0.47    0.75\n",
      "92            weekly_price_float     0.47    0.75\n",
      "50              security_deposit     0.51    0.63\n",
      "32                         notes     0.42    0.55\n",
      "39         neighborhood_overview     0.27    0.39\n",
      "48                    host_about     0.22    0.37\n",
      "82                       transit     0.24    0.36\n",
      "25                  cleaning_fee     0.27    0.31\n",
      "22                         space     0.15    0.29\n",
      "58        review_scores_accuracy     0.17    0.23\n",
      "29        review_scores_location     0.17    0.23\n",
      "2            review_scores_value     0.17    0.23\n",
      "94         review_scores_checkin     0.17    0.23\n",
      "12     review_scores_cleanliness     0.17    0.23\n",
      "19   review_scores_communication     0.17    0.23\n",
      "10          review_scores_rating     0.17    0.23\n",
      "35             reviews_per_month     0.16    0.21\n",
      "61                  first_review     0.16    0.21\n",
      "84                   last_review     0.16    0.21\n",
      "28                 thumbnail_url     0.08    0.17\n",
      "41                    medium_url     0.08    0.17\n",
      "44                xl_picture_url     0.08    0.17\n",
      "64                 neighbourhood     0.11    0.15\n",
      "38          host_acceptance_rate     0.20    0.13\n",
      "21            host_response_rate     0.14    0.13\n",
      "59            host_response_time     0.14    0.13\n",
      "5             host_neighbourhood     0.08    0.09\n",
      "70                       summary     0.05    0.04\n",
      "18                       zipcode     0.00    0.01\n",
      "96                     bathrooms     0.00    0.00\n",
      "55                        market     0.00    0.00\n",
      "45                 host_location     0.00    0.00\n",
      "74                      bedrooms     0.00    0.00\n",
      "88                          beds     0.00    0.00\n",
      "6                  property_type     0.00    0.00\n",
      "62                          city     0.00    0.00\n",
      "0                host_since_year     0.00    0.00\n",
      "1                 host_since_day     0.00    0.00\n",
      "14          host_has_profile_pic     0.00    0.00\n",
      "23              host_picture_url     0.00    0.00\n",
      "24     host_total_listings_count     0.00    0.00\n",
      "36            host_thumbnail_url     0.00    0.00\n",
      "42                    host_since     0.00    0.00\n",
      "52             host_is_superhost     0.00    0.00\n",
      "60              host_since_month     0.00    0.00\n",
      "65           host_listings_count     0.00    0.00\n",
      "77                     host_name     0.00    0.00\n",
      "98        host_identity_verified     0.00    0.00\n",
      "3                    picture_url     0.00    0.00\n",
      "4              number_of_reviews     0.00    0.00\n",
      "7                       bed_type     0.00    0.00\n",
      "8             host_verifications     0.00    0.00\n",
      "9                   extra_people     0.00    0.00\n"
     ]
    }
   ],
   "source": [
    "# 2.2. check missing data in the whole data dataset\n",
    "# create a list of columns that have more than 50% of missing data to drop then later\n",
    "columns_with_missing_values = utils.check_missing_values(listings_df, 0.5)"
   ]
  },
  {
   "cell_type": "code",
   "execution_count": 17,
   "metadata": {},
   "outputs": [
    {
     "name": "stdout",
     "output_type": "stream",
     "text": [
      "                               index  seattle  boston\n",
      "3                 jurisdiction_names     0.00    1.00\n",
      "28                  has_availability     0.00    1.00\n",
      "62      neighbourhood_group_cleansed     0.00    1.00\n",
      "8                      monthly_price     0.60    0.75\n",
      "21                      weekly_price     0.47    0.75\n",
      "6                   security_deposit     0.51    0.63\n",
      "12                             notes     0.42    0.55\n",
      "35             neighborhood_overview     0.27    0.39\n",
      "0                         host_about     0.22    0.37\n",
      "9                            transit     0.24    0.36\n",
      "61                      cleaning_fee     0.27    0.31\n",
      "57                             space     0.15    0.29\n",
      "11                       last_review     0.16    0.21\n",
      "34                      first_review     0.16    0.21\n",
      "2                      thumbnail_url     0.08    0.17\n",
      "42                        medium_url     0.08    0.17\n",
      "51                    xl_picture_url     0.08    0.17\n",
      "45                     neighbourhood     0.11    0.15\n",
      "30              host_acceptance_rate     0.20    0.13\n",
      "32                host_response_time     0.14    0.13\n",
      "56                host_response_rate     0.14    0.13\n",
      "22                host_neighbourhood     0.08    0.09\n",
      "55                           summary     0.05    0.04\n",
      "48                           zipcode     0.00    0.01\n",
      "26                            market     0.00    0.00\n",
      "7                      host_location     0.00    0.00\n",
      "24                     property_type     0.00    0.00\n",
      "36                              city     0.00    0.00\n",
      "5                          host_name     0.00    0.00\n",
      "15                 host_is_superhost     0.00    0.00\n",
      "16                    host_since_day     0.00    0.00\n",
      "20                host_thumbnail_url     0.00    0.00\n",
      "33                  host_since_month     0.00    0.00\n",
      "43                        host_since     0.00    0.00\n",
      "44              host_has_profile_pic     0.00    0.00\n",
      "58                  host_picture_url     0.00    0.00\n",
      "63            host_identity_verified     0.00    0.00\n",
      "1                             street     0.00    0.00\n",
      "4                experiences_offered     0.00    0.00\n",
      "10                         room_type     0.00    0.00\n",
      "13                  requires_license     0.00    0.00\n",
      "14            neighbourhood_cleansed     0.00    0.00\n",
      "17  require_guest_phone_verification     0.00    0.00\n",
      "18                  calendar_updated     0.00    0.00\n",
      "19                       picture_url     0.00    0.00\n",
      "23                          bed_type     0.00    0.00\n",
      "25                host_verifications     0.00    0.00\n",
      "27                       description     0.00    0.00\n",
      "29                    smart_location     0.00    0.00\n",
      "31                      extra_people     0.00    0.00\n",
      "37                         amenities     0.00    0.00\n",
      "38                      country_code     0.00    0.00\n",
      "39                          host_url     0.00    0.00\n",
      "40                              name     0.00    0.00\n",
      "41     require_guest_profile_picture     0.00    0.00\n",
      "46                           country     0.00    0.00\n",
      "47                             price     0.00    0.00\n",
      "49                      last_scraped     0.00    0.00\n",
      "50             calendar_last_scraped     0.00    0.00\n",
      "52                  instant_bookable     0.00    0.00\n"
     ]
    },
    {
     "data": {
      "text/plain": [
       "['jurisdiction_names',\n",
       " 'has_availability',\n",
       " 'neighbourhood_group_cleansed',\n",
       " 'monthly_price',\n",
       " 'weekly_price',\n",
       " 'security_deposit',\n",
       " 'notes']"
      ]
     },
     "execution_count": 17,
     "metadata": {},
     "output_type": "execute_result"
    }
   ],
   "source": [
    "# 2.3. Check missing data in categorical series only\n",
    "string_columns = list(set(listings_df.select_dtypes(include=['object']).columns)) + ['boston']\n",
    "utils.check_missing_values(listings_df[string_columns], 0.5)"
   ]
  },
  {
   "cell_type": "code",
   "execution_count": 18,
   "metadata": {
    "scrolled": true
   },
   "outputs": [
    {
     "name": "stdout",
     "output_type": "stream",
     "text": [
      "                             index  seattle  boston\n",
      "2                          license     1.00    1.00\n",
      "8                      square_feet     0.97    0.98\n",
      "20             monthly_price_float     0.60    0.75\n",
      "21              weekly_price_float     0.47    0.75\n",
      "16          review_scores_accuracy     0.17    0.23\n",
      "1           review_scores_location     0.17    0.23\n",
      "9              review_scores_value     0.17    0.23\n",
      "24           review_scores_checkin     0.17    0.23\n",
      "18       review_scores_cleanliness     0.17    0.23\n",
      "27     review_scores_communication     0.17    0.23\n",
      "17            review_scores_rating     0.17    0.23\n",
      "12               reviews_per_month     0.16    0.21\n",
      "28                       bathrooms     0.00    0.00\n",
      "32                        bedrooms     0.00    0.00\n",
      "14                            beds     0.00    0.00\n",
      "7                  host_since_year     0.00    0.00\n",
      "23             host_listings_count     0.00    0.00\n",
      "30       host_total_listings_count     0.00    0.00\n",
      "0                          host_id     0.00    0.00\n",
      "3                        longitude     0.00    0.00\n",
      "4                               id     0.00    0.00\n",
      "5                     accommodates     0.00    0.00\n",
      "6   calculated_host_listings_count     0.00    0.00\n",
      "10                 availability_60     0.00    0.00\n",
      "11                  minimum_nights     0.00    0.00\n",
      "13               number_of_reviews     0.00    0.00\n",
      "15                 guests_included     0.00    0.00\n",
      "19                availability_365     0.00    0.00\n",
      "22                 availability_90     0.00    0.00\n",
      "25                        latitude     0.00    0.00\n",
      "26                     price_float     0.00    0.00\n",
      "29                          boston     0.00    0.00\n",
      "31                  maximum_nights     0.00    0.00\n",
      "33                       scrape_id     0.00    0.00\n",
      "34                 availability_30     0.00    0.00\n"
     ]
    },
    {
     "data": {
      "text/plain": [
       "['license', 'square_feet', 'monthly_price_float', 'weekly_price_float']"
      ]
     },
     "execution_count": 18,
     "metadata": {},
     "output_type": "execute_result"
    }
   ],
   "source": [
    "# 2.4. Check missing data in numerical series only\n",
    "numeric_columns = list(set(listings_df.select_dtypes(include=['int64','float64']).columns))\n",
    "utils.check_missing_values(listings_df[numeric_columns], 0.5)"
   ]
  },
  {
   "cell_type": "code",
   "execution_count": 19,
   "metadata": {},
   "outputs": [
    {
     "name": "stdout",
     "output_type": "stream",
     "text": [
      "                           index  seattle  boston\n",
      "78                       license     1.00    1.00\n",
      "49            jurisdiction_names     0.00    1.00\n",
      "57              has_availability     0.00    1.00\n",
      "75  neighbourhood_group_cleansed     0.00    1.00\n",
      "81                   square_feet     0.97    0.98\n",
      "43           monthly_price_float     0.60    0.75\n",
      "80                 monthly_price     0.60    0.75\n",
      "87                  weekly_price     0.47    0.75\n",
      "92            weekly_price_float     0.47    0.75\n",
      "50              security_deposit     0.51    0.63\n",
      "32                         notes     0.42    0.55\n",
      "39         neighborhood_overview     0.27    0.39\n",
      "48                    host_about     0.22    0.37\n",
      "82                       transit     0.24    0.36\n",
      "25                  cleaning_fee     0.27    0.31\n",
      "22                         space     0.15    0.29\n",
      "58        review_scores_accuracy     0.17    0.23\n",
      "29        review_scores_location     0.17    0.23\n",
      "2            review_scores_value     0.17    0.23\n",
      "94         review_scores_checkin     0.17    0.23\n",
      "12     review_scores_cleanliness     0.17    0.23\n",
      "19   review_scores_communication     0.17    0.23\n",
      "10          review_scores_rating     0.17    0.23\n",
      "35             reviews_per_month     0.16    0.21\n",
      "61                  first_review     0.16    0.21\n",
      "84                   last_review     0.16    0.21\n",
      "28                 thumbnail_url     0.08    0.17\n",
      "41                    medium_url     0.08    0.17\n",
      "44                xl_picture_url     0.08    0.17\n",
      "64                 neighbourhood     0.11    0.15\n",
      "38          host_acceptance_rate     0.20    0.13\n",
      "21            host_response_rate     0.14    0.13\n",
      "59            host_response_time     0.14    0.13\n",
      "5             host_neighbourhood     0.08    0.09\n",
      "70                       summary     0.05    0.04\n",
      "18                       zipcode     0.00    0.01\n",
      "96                     bathrooms     0.00    0.00\n",
      "55                        market     0.00    0.00\n",
      "45                 host_location     0.00    0.00\n",
      "74                      bedrooms     0.00    0.00\n",
      "88                          beds     0.00    0.00\n",
      "6                  property_type     0.00    0.00\n",
      "62                          city     0.00    0.00\n",
      "0                host_since_year     0.00    0.00\n",
      "1                 host_since_day     0.00    0.00\n",
      "14          host_has_profile_pic     0.00    0.00\n",
      "23              host_picture_url     0.00    0.00\n",
      "24     host_total_listings_count     0.00    0.00\n",
      "36            host_thumbnail_url     0.00    0.00\n",
      "42                    host_since     0.00    0.00\n",
      "52             host_is_superhost     0.00    0.00\n",
      "60              host_since_month     0.00    0.00\n",
      "65           host_listings_count     0.00    0.00\n",
      "77                     host_name     0.00    0.00\n",
      "98        host_identity_verified     0.00    0.00\n",
      "3                    picture_url     0.00    0.00\n",
      "4              number_of_reviews     0.00    0.00\n",
      "7                       bed_type     0.00    0.00\n",
      "8             host_verifications     0.00    0.00\n",
      "9                   extra_people     0.00    0.00\n"
     ]
    }
   ],
   "source": [
    "# 2.5. check missing values after droping columns with more than 50 percent of missing values\n",
    "columns_with_missing_values = utils.check_missing_values(listings_df, 0.5)"
   ]
  },
  {
   "cell_type": "markdown",
   "metadata": {},
   "source": [
    "#### Step 3. Clean data: \n",
    "**1.** Remove irrelevant columns and columns where missing values exceed 50 percent\n",
    "\n",
    "**2.** Replace missing values of numeric columns with its mean"
   ]
  },
  {
   "cell_type": "code",
   "execution_count": 20,
   "metadata": {},
   "outputs": [],
   "source": [
    "# 3.1. drop url and scrapping related columns\n",
    "listings_df = utils.drop_specified_columns('url', listings_df)\n",
    "listings_df = utils.drop_specified_columns('scrap', listings_df)"
   ]
  },
  {
   "cell_type": "code",
   "execution_count": 21,
   "metadata": {},
   "outputs": [],
   "source": [
    "# 3.2. drop non informative columns\n",
    "# exclude_colums is the list of columsn that contains information that is not useful in prediction of the price\n",
    "exclude_columns = ['id'\n",
    "                , 'host_id'\n",
    "                , 'host_listings_count'\n",
    "                , 'host_total_listings_count'\n",
    "                , 'neighborhood_overview'\n",
    "                , 'host_neighbourhood'\n",
    "                , 'host_about'\n",
    "                , 'transit'\n",
    "                , 'neighbourhood'\n",
    "                , 'latitude'\n",
    "                , 'longitude'\n",
    "                , 'last_review'\n",
    "                , 'first_review'\n",
    "                , 'summary'\n",
    "                , 'zipcode'\n",
    "                , 'host_location'\n",
    "                , 'state'\n",
    "                , 'country'\n",
    "                , 'market'\n",
    "                , 'space'\n",
    "                , 'cleaning_fee'\n",
    "                , 'host_acceptance_rate'\n",
    "                , 'host_response_rate']\n",
    "try:\n",
    "    listings_df = listings_df.drop(columns=exclude_columns)\n",
    "except KeyError:\n",
    "    print('Columns already deleted')"
   ]
  },
  {
   "cell_type": "code",
   "execution_count": 42,
   "metadata": {},
   "outputs": [
    {
     "name": "stdout",
     "output_type": "stream",
     "text": [
      "Columns already deleted\n"
     ]
    }
   ],
   "source": [
    "# 3.3. drop columns that have more than 50% of data missing\n",
    "try:\n",
    "    listings_df = listings_df.drop(columns=columns_with_missing_values)\n",
    "except KeyError:\n",
    "    print('Columns already deleted')"
   ]
  },
  {
   "cell_type": "code",
   "execution_count": 43,
   "metadata": {
    "scrolled": true
   },
   "outputs": [
    {
     "name": "stdout",
     "output_type": "stream",
     "text": [
      "                             index  seattle  boston\n",
      "0                  host_since_year     0.00    0.00\n",
      "1              review_scores_value     0.00    0.00\n",
      "2                number_of_reviews     0.00    0.00\n",
      "3             review_scores_rating     0.00    0.00\n",
      "4        review_scores_cleanliness     0.00    0.00\n",
      "5                 availability_365     0.00    0.00\n",
      "6                  availability_90     0.00    0.00\n",
      "7      review_scores_communication     0.00    0.00\n",
      "8                  availability_30     0.00    0.00\n",
      "9           review_scores_location     0.00    0.00\n",
      "10                 availability_60     0.00    0.00\n",
      "11               reviews_per_month     0.00    0.00\n",
      "12                 guests_included     0.00    0.00\n",
      "13  calculated_host_listings_count     0.00    0.00\n",
      "14                  minimum_nights     0.00    0.00\n",
      "15          review_scores_accuracy     0.00    0.00\n",
      "16                          boston     0.00    0.00\n",
      "17                  maximum_nights     0.00    0.00\n",
      "18                        bedrooms     0.00    0.00\n",
      "19                    accommodates     0.00    0.00\n",
      "20                            beds     0.00    0.00\n",
      "21           review_scores_checkin     0.00    0.00\n",
      "22                     price_float     0.00    0.00\n",
      "23                       bathrooms     0.00    0.00\n"
     ]
    },
    {
     "data": {
      "text/plain": [
       "[]"
      ]
     },
     "execution_count": 43,
     "metadata": {},
     "output_type": "execute_result"
    }
   ],
   "source": [
    "# 3.7. replace missing numeric values with mean values for each city\n",
    "numeric_columns = listings_df.select_dtypes(include=['float64','int64']).columns\n",
    "boston_listing_df = listings_df[listings_df['boston'] == 1].reset_index(drop=True)\n",
    "seattle_listing_df = listings_df[listings_df['boston'] == 0].reset_index(drop=True)\n",
    "\n",
    "def fillna_with_mean(numeric_series):\n",
    "    \"\"\"\n",
    "    Function to fill nans of numeric series with its mean\n",
    "    :param data: numeric series\n",
    "    :return: numeric series with nans replaced by its mean\n",
    "    \"\"\"\n",
    "    numeric_series = numeric_series.fillna(numeric_series.mean())\n",
    "    return numeric_series\n",
    "# fill numeric nans with means\n",
    "for col in numeric_columns:\n",
    "    boston_listing_df[col] = fillna_with_mean(boston_listing_df[col])\n",
    "    seattle_listing_df[col] = fillna_with_mean(seattle_listing_df[col])\n",
    "filled_listings_df = pd.concat([boston_listing_df, seattle_listing_df]).reset_index(drop=True)\n",
    "\n",
    "# check that numeric columns have nans filled\n",
    "utils.check_missing_values(filled_listings_df.select_dtypes(include=['float64','int64']), 0.5)  "
   ]
  },
  {
   "cell_type": "code",
   "execution_count": 56,
   "metadata": {},
   "outputs": [
    {
     "name": "stdout",
     "output_type": "stream",
     "text": [
      "                               index  seattle  boston\n",
      "8                 host_response_time     0.14    0.13\n",
      "0                  host_is_superhost     0.00    0.00\n",
      "7               host_has_profile_pic     0.00    0.00\n",
      "10            host_identity_verified     0.00    0.00\n",
      "1                   instant_bookable     0.00    0.00\n",
      "2   require_guest_phone_verification     0.00    0.00\n",
      "3                  is_location_exact     0.00    0.00\n",
      "4      require_guest_profile_picture     0.00    0.00\n",
      "5                cancellation_policy     0.00    0.00\n",
      "6                           bed_type     0.00    0.00\n",
      "9                          room_type     0.00    0.00\n",
      "11                            boston     0.00    0.00\n"
     ]
    },
    {
     "data": {
      "text/plain": [
       "(6409, 28)"
      ]
     },
     "execution_count": 56,
     "metadata": {},
     "output_type": "execute_result"
    }
   ],
   "source": [
    "# check what categorical variables have missing values\n",
    "utils.check_missing_values(filled_listings_df[list(filled_listings_df.select_dtypes(include=['object']).columns) + ['boston']], 0.5)  \n",
    "# The only column that has missing values is host_response_time\n",
    "# Only about 14% is missing from each city data\n",
    "# Since I am interested in the impact of this variable in the price and there are only 14% of missing data \n",
    "# I can drop the records with missing data without loosing a lot of variation in the data\n",
    "filled_cleaned_listings_df = filled_listings_df.dropna()\n",
    "filled_cleaned_listings_df.shape"
   ]
  },
  {
   "cell_type": "markdown",
   "metadata": {},
   "source": [
    "#### Step 4. Analyze and Visualize data: compare numeric and categorical columns between two cities"
   ]
  },
  {
   "cell_type": "code",
   "execution_count": 57,
   "metadata": {},
   "outputs": [
    {
     "name": "stdout",
     "output_type": "stream",
     "text": [
      "\n",
      " Describe host_since_year\n",
      "   index  host_since_year_seattle  host_since_year-boston\n",
      "0  count                  3816.00                 3585.00\n",
      "1   mean                  2013.21                 2013.75\n",
      "2    std                     1.56                    1.72\n",
      "3    min                  2008.00                 2008.00\n",
      "4    25%                  2012.00                 2013.00\n",
      "5    50%                  2013.00                 2014.00\n",
      "6    75%                  2015.00                 2015.00\n",
      "7    max                  2016.00                 2016.00\n",
      "\n",
      " Describe review_scores_value\n",
      "   index  review_scores_value_seattle  review_scores_value-boston\n",
      "0  count                      3162.00                     2764.00\n",
      "1   mean                         9.45                        9.17\n",
      "2    std                         0.75                        1.01\n",
      "3    min                         2.00                        2.00\n",
      "4    25%                         9.00                        9.00\n",
      "5    50%                        10.00                        9.00\n",
      "6    75%                        10.00                       10.00\n",
      "7    max                        10.00                       10.00\n",
      "\n",
      " Describe number_of_reviews\n",
      "   index  number_of_reviews_seattle  number_of_reviews-boston\n",
      "0  count                    3818.00                   3585.00\n",
      "1   mean                      22.22                     19.04\n",
      "2    std                      37.73                     35.57\n",
      "3    min                       0.00                      0.00\n",
      "4    25%                       2.00                      1.00\n",
      "5    50%                       9.00                      5.00\n",
      "6    75%                      26.00                     21.00\n",
      "7    max                     474.00                    404.00\n",
      "\n",
      " Describe review_scores_rating\n",
      "   index  review_scores_rating_seattle  review_scores_rating-boston\n",
      "0  count                       3171.00                      2772.00\n",
      "1   mean                         94.54                        91.92\n",
      "2    std                          6.61                         9.53\n",
      "3    min                         20.00                        20.00\n",
      "4    25%                         93.00                        89.00\n",
      "5    50%                         96.00                        94.00\n",
      "6    75%                         99.00                        98.25\n",
      "7    max                        100.00                       100.00\n",
      "\n",
      " Describe review_scores_cleanliness\n",
      "   index  review_scores_cleanliness_seattle  review_scores_cleanliness-boston\n",
      "0  count                            3165.00                           2767.00\n",
      "1   mean                               9.56                              9.26\n",
      "2    std                               0.80                              1.17\n",
      "3    min                               3.00                              2.00\n",
      "4    25%                               9.00                              9.00\n",
      "5    50%                              10.00                             10.00\n",
      "6    75%                              10.00                             10.00\n",
      "7    max                              10.00                             10.00\n",
      "\n",
      " Describe availability_365\n",
      "   index  availability_365_seattle  availability_365-boston\n",
      "0  count                   3818.00                  3585.00\n",
      "1   mean                    244.77                   179.35\n",
      "2    std                    126.77                   142.14\n",
      "3    min                      0.00                     0.00\n",
      "4    25%                    124.00                    19.00\n",
      "5    50%                    308.00                   179.00\n",
      "6    75%                    360.00                   325.00\n",
      "7    max                    365.00                   365.00\n",
      "\n",
      " Describe availability_90\n",
      "   index  availability_90_seattle  availability_90-boston\n",
      "0  count                  3818.00                 3585.00\n",
      "1   mean                    58.08                   38.56\n",
      "2    std                    34.06                   33.16\n",
      "3    min                     0.00                    0.00\n",
      "4    25%                    28.00                    0.00\n",
      "5    50%                    73.00                   37.00\n",
      "6    75%                    89.00                   68.00\n",
      "7    max                    90.00                   90.00\n",
      "\n",
      " Describe review_scores_communication\n",
      "   index  review_scores_communication_seattle  review_scores_communication-boston\n",
      "0  count                              3167.00                             2767.00\n",
      "1   mean                                 9.81                                9.65\n",
      "2    std                                 0.57                                0.74\n",
      "3    min                                 2.00                                4.00\n",
      "4    25%                                10.00                                9.00\n",
      "5    50%                                10.00                               10.00\n",
      "6    75%                                10.00                               10.00\n",
      "7    max                                10.00                               10.00\n",
      "\n",
      " Describe availability_30\n",
      "   index  availability_30_seattle  availability_30-boston\n",
      "0  count                  3818.00                 3585.00\n",
      "1   mean                    16.79                    8.65\n",
      "2    std                    12.17                   10.44\n",
      "3    min                     0.00                    0.00\n",
      "4    25%                     2.00                    0.00\n",
      "5    50%                    20.00                    4.00\n",
      "6    75%                    30.00                   15.00\n",
      "7    max                    30.00                   30.00\n",
      "\n",
      " Describe review_scores_location\n",
      "   index  review_scores_location_seattle  review_scores_location-boston\n",
      "0  count                         3163.00                        2763.00\n",
      "1   mean                            9.61                           9.41\n",
      "2    std                            0.63                           0.90\n",
      "3    min                            4.00                           2.00\n",
      "4    25%                            9.00                           9.00\n",
      "5    50%                           10.00                          10.00\n",
      "6    75%                           10.00                          10.00\n",
      "7    max                           10.00                          10.00\n",
      "\n",
      " Describe availability_60\n",
      "   index  availability_60_seattle  availability_60-boston\n",
      "0  count                  3818.00                 3585.00\n",
      "1   mean                    36.81                   21.83\n",
      "2    std                    23.34                   21.86\n",
      "3    min                     0.00                    0.00\n",
      "4    25%                    13.00                    0.00\n",
      "5    50%                    46.00                   16.00\n",
      "6    75%                    59.00                   40.00\n",
      "7    max                    60.00                   60.00\n",
      "\n",
      " Describe reviews_per_month\n",
      "   index  reviews_per_month_seattle  reviews_per_month-boston\n",
      "0  count                    3191.00                   2829.00\n",
      "1   mean                       2.08                      1.97\n",
      "2    std                       1.82                      2.12\n",
      "3    min                       0.02                      0.01\n",
      "4    25%                       0.69                      0.48\n",
      "5    50%                       1.54                      1.17\n",
      "6    75%                       3.00                      2.72\n",
      "7    max                      12.15                     19.15\n",
      "\n",
      " Describe guests_included\n",
      "   index  guests_included_seattle  guests_included-boston\n",
      "0  count                  3818.00                 3585.00\n",
      "1   mean                     1.67                    1.43\n",
      "2    std                     1.31                    1.06\n",
      "3    min                     0.00                    0.00\n",
      "4    25%                     1.00                    1.00\n",
      "5    50%                     1.00                    1.00\n",
      "6    75%                     2.00                    1.00\n",
      "7    max                    15.00                   14.00\n",
      "\n",
      " Describe calculated_host_listings_count\n",
      "   index  calculated_host_listings_count_seattle  calculated_host_listings_count-boston\n",
      "0  count                                 3818.00                                3585.00\n",
      "1   mean                                    2.95                                  12.73\n",
      "2    std                                    5.89                                  29.42\n",
      "3    min                                    1.00                                   1.00\n",
      "4    25%                                    1.00                                   1.00\n",
      "5    50%                                    1.00                                   2.00\n",
      "6    75%                                    2.00                                   6.00\n",
      "7    max                                   37.00                                 136.00\n",
      "\n",
      " Describe minimum_nights\n",
      "   index  minimum_nights_seattle  minimum_nights-boston\n",
      "0  count                 3818.00                3585.00\n",
      "1   mean                    2.37                   3.17\n",
      "2    std                   16.31                   8.87\n",
      "3    min                    1.00                   1.00\n",
      "4    25%                    1.00                   1.00\n",
      "5    50%                    2.00                   2.00\n",
      "6    75%                    2.00                   3.00\n",
      "7    max                 1000.00                 300.00\n",
      "\n",
      " Describe review_scores_accuracy\n",
      "   index  review_scores_accuracy_seattle  review_scores_accuracy-boston\n",
      "0  count                         3160.00                        2762.00\n",
      "1   mean                            9.64                           9.43\n",
      "2    std                            0.70                           0.93\n",
      "3    min                            2.00                           2.00\n",
      "4    25%                            9.00                           9.00\n",
      "5    50%                           10.00                          10.00\n",
      "6    75%                           10.00                          10.00\n",
      "7    max                           10.00                          10.00\n",
      "\n",
      " Describe boston\n",
      "   index  boston_seattle  boston-boston\n",
      "0  count         3818.00        3585.00\n",
      "1   mean            0.00           1.00\n",
      "2    std            0.00           0.00\n",
      "3    min            0.00           1.00\n",
      "4    25%            0.00           1.00\n",
      "5    50%            0.00           1.00\n",
      "6    75%            0.00           1.00\n",
      "7    max            0.00           1.00\n",
      "\n",
      " Describe maximum_nights\n",
      "   index  maximum_nights_seattle  maximum_nights-boston\n",
      "0  count                 3818.00                3585.00\n",
      "1   mean                  780.45               28725.84\n",
      "2    std                 1683.59             1670135.94\n",
      "3    min                    1.00                   1.00\n",
      "4    25%                   60.00                 365.00\n",
      "5    50%                 1125.00                1125.00\n",
      "6    75%                 1125.00                1125.00\n",
      "7    max               100000.00            99999999.00\n",
      "\n",
      " Describe bedrooms\n",
      "   index  bedrooms_seattle  bedrooms-boston\n",
      "0  count           3812.00          3575.00\n",
      "1   mean              1.31             1.26\n",
      "2    std              0.88             0.75\n",
      "3    min              0.00             0.00\n",
      "4    25%              1.00             1.00\n",
      "5    50%              1.00             1.00\n",
      "6    75%              2.00             2.00\n",
      "7    max              7.00             5.00\n",
      "\n",
      " Describe accommodates\n",
      "   index  accommodates_seattle  accommodates-boston\n",
      "0  count               3818.00              3585.00\n",
      "1   mean                  3.35                 3.04\n",
      "2    std                  1.98                 1.78\n",
      "3    min                  1.00                 1.00\n",
      "4    25%                  2.00                 2.00\n",
      "5    50%                  3.00                 2.00\n",
      "6    75%                  4.00                 4.00\n",
      "7    max                 16.00                16.00\n",
      "\n",
      " Describe beds\n",
      "   index  beds_seattle  beds-boston\n",
      "0  count       3817.00      3576.00\n",
      "1   mean          1.74         1.61\n",
      "2    std          1.14         1.01\n",
      "3    min          1.00         0.00\n",
      "4    25%          1.00         1.00\n",
      "5    50%          1.00         1.00\n",
      "6    75%          2.00         2.00\n",
      "7    max         15.00        16.00\n",
      "\n",
      " Describe review_scores_checkin\n",
      "   index  review_scores_checkin_seattle  review_scores_checkin-boston\n",
      "0  count                        3160.00                       2765.00\n",
      "1   mean                           9.79                          9.65\n",
      "2    std                           0.60                          0.76\n",
      "3    min                           2.00                          2.00\n",
      "4    25%                          10.00                          9.00\n",
      "5    50%                          10.00                         10.00\n",
      "6    75%                          10.00                         10.00\n",
      "7    max                          10.00                         10.00\n",
      "\n",
      " Describe price_float\n",
      "   index  price_float_seattle  price_float-boston\n",
      "0  count              3818.00             3585.00\n",
      "1   mean               127.98              173.93\n",
      "2    std                90.25              148.33\n",
      "3    min                20.00               10.00\n",
      "4    25%                75.00               85.00\n",
      "5    50%               100.00              150.00\n",
      "6    75%               150.00              220.00\n",
      "7    max              1000.00             4000.00\n",
      "\n",
      " Describe bathrooms\n",
      "   index  bathrooms_seattle  bathrooms-boston\n",
      "0  count            3802.00           3571.00\n",
      "1   mean               1.26              1.22\n",
      "2    std               0.59              0.50\n",
      "3    min               0.00              0.00\n",
      "4    25%               1.00              1.00\n",
      "5    50%               1.00              1.00\n",
      "6    75%               1.00              1.00\n",
      "7    max               8.00              6.00\n"
     ]
    }
   ],
   "source": [
    "# 4.1. describe all numeric columns in both cities\n",
    "utils.compare_all_float_columns(listings_df)\n",
    "#Boston has larger minimum_nights mean\n",
    "#Boston has lower review scores mean\n",
    "#Boston has higher mean price\n",
    "#Boston has less beds mean"
   ]
  },
  {
   "cell_type": "code",
   "execution_count": 58,
   "metadata": {
    "scrolled": true
   },
   "outputs": [
    {
     "name": "stdout",
     "output_type": "stream",
     "text": [
      "                             mean-seattle  mean-boston\n",
      "minimum_nights                       2.37         3.17\n",
      "bedrooms                             1.31         1.26\n",
      "bathrooms                            1.26         1.22\n",
      "guests_included                      1.67         1.43\n",
      "accommodates                         3.35         3.04\n",
      "review_scores_value                  9.45         9.17\n",
      "number_of_reviews                   22.22        19.04\n",
      "review_scores_cleanliness            9.56         9.26\n",
      "review_scores_communication          9.81         9.65\n",
      "review_scores_location               9.61         9.41\n",
      "reviews_per_month                    2.08         1.97\n",
      "review_scores_accuracy               9.64         9.43\n",
      "review_scores_checkin                9.79         9.65\n"
     ]
    },
    {
     "data": {
      "image/png": "[encoded data removed]",
      "text/plain": [
       "<Figure size 432x288 with 1 Axes>"
      ]
     },
     "metadata": {
      "needs_background": "light"
     },
     "output_type": "display_data"
    },
    {
     "name": "stdout",
     "output_type": "stream",
     "text": [
      "             mean-seattle  mean-boston\n",
      "price_float        127.98       173.93\n"
     ]
    },
    {
     "data": {
      "image/png": "[encoded data removed]",
      "text/plain": [
       "<Figure size 432x288 with 1 Axes>"
      ]
     },
     "metadata": {
      "needs_background": "light"
     },
     "output_type": "display_data"
    },
    {
     "name": "stdout",
     "output_type": "stream",
     "text": [
      "                      mean-seattle  mean-boston\n",
      "review_scores_rating         94.54        91.92\n"
     ]
    },
    {
     "data": {
      "image/png": "[encoded data removed]",
      "text/plain": [
       "<Figure size 432x288 with 1 Axes>"
      ]
     },
     "metadata": {
      "needs_background": "light"
     },
     "output_type": "display_data"
    }
   ],
   "source": [
    "# summarize price, reviews and property attributes in a single summary\n",
    "# create list of columns containing review string\n",
    "review_columns = [col for col in listings_df.columns if 'review' in col] \n",
    "\n",
    "# create list of additional columns of interest\n",
    "specific_columns = ['minimum_nights'\n",
    "                   , 'bedrooms'\n",
    "                   , 'bathrooms'\n",
    "                   , 'guests_included'\n",
    "                   , 'accommodates']\n",
    "\n",
    "# create a combine list of numeric columns of interest\n",
    "numeric_columns_to_describe = specific_columns + review_columns\n",
    "\n",
    "# review_scores_rating has different magnitude so should be plotted seprately\n",
    "numeric_columns_to_describe.remove('review_scores_rating')\n",
    "\n",
    "# compare selected numeric columns\n",
    "utils.compare_specified_float_columns(listings_df, numeric_columns_to_describe, 'mean')\n",
    "\n",
    "# compare price\n",
    "utils.compare_specified_float_columns(listings_df, ['price_float'], 'mean')\n",
    "\n",
    "# compare review score\n",
    "utils.compare_specified_float_columns(listings_df, ['review_scores_rating'], 'mean')\n",
    "\n",
    "# create list of numeric columns to use in analysis\n",
    "numeric_columns_to_describe = numeric_columns_to_describe + ['host_since_year', 'review_scores_rating']\n",
    "# Price mean is higher in Boston but raitings mean is higher in Seattle"
   ]
  },
  {
   "cell_type": "code",
   "execution_count": 59,
   "metadata": {},
   "outputs": [
    {
     "name": "stdout",
     "output_type": "stream",
     "text": [
      "{'instant_bookable': 2, 'require_guest_phone_verification': 2, 'is_location_exact': 2, 'require_guest_profile_picture': 2, 'host_is_superhost': 3, 'host_has_profile_pic': 3, 'room_type': 3, 'host_identity_verified': 3, 'cancellation_policy': 4, 'bed_type': 5, 'host_response_time': 5}\n",
      "{'host_is_superhost', 'instant_bookable', 'is_location_exact', 'require_guest_phone_verification', 'require_guest_profile_picture', 'cancellation_policy', 'bed_type', 'host_has_profile_pic', 'host_response_time', 'room_type', 'host_identity_verified'}\n"
     ]
    }
   ],
   "source": [
    "# 4.2. describe relationship between price and vaategorical values between two cities\n",
    "\n",
    "# create list of string columns that have up to 6 different values in oder to make categorical predictors\n",
    "values_freq = {}\n",
    "for col in filled_listings_df.select_dtypes(include=['object']):\n",
    "    values_freq[col] = len(filled_listings_df[col].drop_duplicates())\n",
    "values_freq = {k: v for k, v in sorted(values_freq.items(), key=lambda item: item[1], reverse=False)}\n",
    "print(values_freq)\n",
    "\n",
    "# judjing by the amount of the distinct values in the categorical columns it makes sense to use only those with\n",
    "# less of 6 distinct values as columns with more distinct values would create \n",
    "# a large amount of dimentions while not adding much to explanatory power\n",
    "values_freq = {k: v for k, v in filter(lambda item: 1 < item[1] < 6, values_freq.items())}\n",
    "categorical_columns_to_describe = set(values_freq.keys())\n",
    "print(categorical_columns_to_describe)"
   ]
  },
  {
   "cell_type": "code",
   "execution_count": 60,
   "metadata": {
    "scrolled": false
   },
   "outputs": [
    {
     "data": {
      "image/png": "[encoded data removed]",
      "text/plain": [
       "<Figure size 432x288 with 1 Axes>"
      ]
     },
     "metadata": {
      "needs_background": "light"
     },
     "output_type": "display_data"
    },
    {
     "data": {
      "image/png": "[encoded data removed]",
      "text/plain": [
       "<Figure size 432x288 with 1 Axes>"
      ]
     },
     "metadata": {
      "needs_background": "light"
     },
     "output_type": "display_data"
    },
    {
     "data": {
      "image/png": "[encoded data removed]",
      "text/plain": [
       "<Figure size 432x288 with 1 Axes>"
      ]
     },
     "metadata": {
      "needs_background": "light"
     },
     "output_type": "display_data"
    },
    {
     "data": {
      "image/png": "[encoded data removed]",
      "text/plain": [
       "<Figure size 432x288 with 1 Axes>"
      ]
     },
     "metadata": {
      "needs_background": "light"
     },
     "output_type": "display_data"
    },
    {
     "data": {
      "image/png": "[encoded data removed]",
      "text/plain": [
       "<Figure size 432x288 with 1 Axes>"
      ]
     },
     "metadata": {
      "needs_background": "light"
     },
     "output_type": "display_data"
    },
    {
     "data": {
      "image/png": "[encoded data removed]",
      "text/plain": [
       "<Figure size 432x288 with 1 Axes>"
      ]
     },
     "metadata": {
      "needs_background": "light"
     },
     "output_type": "display_data"
    },
    {
     "data": {
      "image/png": "[encoded data removed]",
      "text/plain": [
       "<Figure size 432x288 with 1 Axes>"
      ]
     },
     "metadata": {
      "needs_background": "light"
     },
     "output_type": "display_data"
    },
    {
     "data": {
      "image/png": "[encoded data removed]",
      "text/plain": [
       "<Figure size 432x288 with 1 Axes>"
      ]
     },
     "metadata": {
      "needs_background": "light"
     },
     "output_type": "display_data"
    },
    {
     "data": {
      "image/png": "[encoded data removed]",
      "text/plain": [
       "<Figure size 432x288 with 1 Axes>"
      ]
     },
     "metadata": {
      "needs_background": "light"
     },
     "output_type": "display_data"
    },
    {
     "data": {
      "image/png": "[encoded data removed]",
      "text/plain": [
       "<Figure size 432x288 with 1 Axes>"
      ]
     },
     "metadata": {
      "needs_background": "light"
     },
     "output_type": "display_data"
    },
    {
     "data": {
      "image/png": "[encoded data removed]",
      "text/plain": [
       "<Figure size 432x288 with 1 Axes>"
      ]
     },
     "metadata": {
      "needs_background": "light"
     },
     "output_type": "display_data"
    }
   ],
   "source": [
    "# compare numeric data across 2 cities grouping on each categorical column of interest\n",
    "for col in categorical_columns_to_describe:\n",
    "    utils.compare_grouby_results(filled_listings_df, [col], ['price_float'], 'mean')\n",
    "#Boston has a premium for fast responses but not for the fastest\n",
    "#Boston has super stric policy -> the stricter the policy the more expensive\n",
    "#Super host has little effect\n",
    "#Airbeds in seattle seem to be more appreciated than couches"
   ]
  },
  {
   "cell_type": "code",
   "execution_count": 61,
   "metadata": {},
   "outputs": [
    {
     "ename": "KeyError",
     "evalue": "\"['host_is_superhost', 'instant_bookable', 'require_guest_phone_verification', 'require_guest_profile_picture', 'is_location_exact', 'cancellation_policy', 'bed_type', 'host_has_profile_pic', 'host_response_time', 'room_type', 'host_identity_verified'] not in index\"",
     "output_type": "error",
     "traceback": [
      "\u001b[0;31m---------------------------------------------------------------------------\u001b[0m",
      "\u001b[0;31mKeyError\u001b[0m                                  Traceback (most recent call last)",
      "\u001b[0;32m<ipython-input-61-931a3a684e8e>\u001b[0m in \u001b[0;36m<module>\u001b[0;34m\u001b[0m\n\u001b[1;32m      8\u001b[0m \u001b[0mfilled_cleaned_listings_df\u001b[0m \u001b[0;34m=\u001b[0m \u001b[0mfilled_cleaned_listings_df\u001b[0m\u001b[0;34m.\u001b[0m\u001b[0mdrop\u001b[0m\u001b[0;34m(\u001b[0m\u001b[0mcolumns\u001b[0m\u001b[0;34m=\u001b[0m\u001b[0;34m[\u001b[0m\u001b[0;34m'cancellation_policy_super_strict_30'\u001b[0m\u001b[0;34m]\u001b[0m\u001b[0;34m)\u001b[0m\u001b[0;34m\u001b[0m\u001b[0;34m\u001b[0m\u001b[0m\n\u001b[1;32m      9\u001b[0m \u001b[0;31m# keep only the columns of interest\u001b[0m\u001b[0;34m\u001b[0m\u001b[0;34m\u001b[0m\u001b[0;34m\u001b[0m\u001b[0m\n\u001b[0;32m---> 10\u001b[0;31m \u001b[0mfilled_cleaned_listings_df\u001b[0m \u001b[0;34m=\u001b[0m \u001b[0mfilled_cleaned_listings_df\u001b[0m\u001b[0;34m[\u001b[0m\u001b[0;34m[\u001b[0m\u001b[0;34m'boston'\u001b[0m\u001b[0;34m,\u001b[0m \u001b[0;34m'price_float'\u001b[0m\u001b[0;34m]\u001b[0m \u001b[0;34m+\u001b[0m \u001b[0mlist\u001b[0m\u001b[0;34m(\u001b[0m\u001b[0mnumeric_columns_to_describe\u001b[0m\u001b[0;34m)\u001b[0m \u001b[0;34m+\u001b[0m \u001b[0mlist\u001b[0m\u001b[0;34m(\u001b[0m\u001b[0mcategorical_columns_to_describe\u001b[0m\u001b[0;34m)\u001b[0m\u001b[0;34m]\u001b[0m\u001b[0;34m\u001b[0m\u001b[0;34m\u001b[0m\u001b[0m\n\u001b[0m",
      "\u001b[0;32m/Library/Frameworks/Python.framework/Versions/3.6/lib/python3.6/site-packages/pandas/core/frame.py\u001b[0m in \u001b[0;36m__getitem__\u001b[0;34m(self, key)\u001b[0m\n\u001b[1;32m   2910\u001b[0m             \u001b[0;32mif\u001b[0m \u001b[0mis_iterator\u001b[0m\u001b[0;34m(\u001b[0m\u001b[0mkey\u001b[0m\u001b[0;34m)\u001b[0m\u001b[0;34m:\u001b[0m\u001b[0;34m\u001b[0m\u001b[0;34m\u001b[0m\u001b[0m\n\u001b[1;32m   2911\u001b[0m                 \u001b[0mkey\u001b[0m \u001b[0;34m=\u001b[0m \u001b[0mlist\u001b[0m\u001b[0;34m(\u001b[0m\u001b[0mkey\u001b[0m\u001b[0;34m)\u001b[0m\u001b[0;34m\u001b[0m\u001b[0;34m\u001b[0m\u001b[0m\n\u001b[0;32m-> 2912\u001b[0;31m             \u001b[0mindexer\u001b[0m \u001b[0;34m=\u001b[0m \u001b[0mself\u001b[0m\u001b[0;34m.\u001b[0m\u001b[0mloc\u001b[0m\u001b[0;34m.\u001b[0m\u001b[0m_get_listlike_indexer\u001b[0m\u001b[0;34m(\u001b[0m\u001b[0mkey\u001b[0m\u001b[0;34m,\u001b[0m \u001b[0maxis\u001b[0m\u001b[0;34m=\u001b[0m\u001b[0;36m1\u001b[0m\u001b[0;34m,\u001b[0m \u001b[0mraise_missing\u001b[0m\u001b[0;34m=\u001b[0m\u001b[0;32mTrue\u001b[0m\u001b[0;34m)\u001b[0m\u001b[0;34m[\u001b[0m\u001b[0;36m1\u001b[0m\u001b[0;34m]\u001b[0m\u001b[0;34m\u001b[0m\u001b[0;34m\u001b[0m\u001b[0m\n\u001b[0m\u001b[1;32m   2913\u001b[0m \u001b[0;34m\u001b[0m\u001b[0m\n\u001b[1;32m   2914\u001b[0m         \u001b[0;31m# take() does not accept boolean indexers\u001b[0m\u001b[0;34m\u001b[0m\u001b[0;34m\u001b[0m\u001b[0;34m\u001b[0m\u001b[0m\n",
      "\u001b[0;32m/Library/Frameworks/Python.framework/Versions/3.6/lib/python3.6/site-packages/pandas/core/indexing.py\u001b[0m in \u001b[0;36m_get_listlike_indexer\u001b[0;34m(self, key, axis, raise_missing)\u001b[0m\n\u001b[1;32m   1252\u001b[0m             \u001b[0mkeyarr\u001b[0m\u001b[0;34m,\u001b[0m \u001b[0mindexer\u001b[0m\u001b[0;34m,\u001b[0m \u001b[0mnew_indexer\u001b[0m \u001b[0;34m=\u001b[0m \u001b[0max\u001b[0m\u001b[0;34m.\u001b[0m\u001b[0m_reindex_non_unique\u001b[0m\u001b[0;34m(\u001b[0m\u001b[0mkeyarr\u001b[0m\u001b[0;34m)\u001b[0m\u001b[0;34m\u001b[0m\u001b[0;34m\u001b[0m\u001b[0m\n\u001b[1;32m   1253\u001b[0m \u001b[0;34m\u001b[0m\u001b[0m\n\u001b[0;32m-> 1254\u001b[0;31m         \u001b[0mself\u001b[0m\u001b[0;34m.\u001b[0m\u001b[0m_validate_read_indexer\u001b[0m\u001b[0;34m(\u001b[0m\u001b[0mkeyarr\u001b[0m\u001b[0;34m,\u001b[0m \u001b[0mindexer\u001b[0m\u001b[0;34m,\u001b[0m \u001b[0maxis\u001b[0m\u001b[0;34m,\u001b[0m \u001b[0mraise_missing\u001b[0m\u001b[0;34m=\u001b[0m\u001b[0mraise_missing\u001b[0m\u001b[0;34m)\u001b[0m\u001b[0;34m\u001b[0m\u001b[0;34m\u001b[0m\u001b[0m\n\u001b[0m\u001b[1;32m   1255\u001b[0m         \u001b[0;32mreturn\u001b[0m \u001b[0mkeyarr\u001b[0m\u001b[0;34m,\u001b[0m \u001b[0mindexer\u001b[0m\u001b[0;34m\u001b[0m\u001b[0;34m\u001b[0m\u001b[0m\n\u001b[1;32m   1256\u001b[0m \u001b[0;34m\u001b[0m\u001b[0m\n",
      "\u001b[0;32m/Library/Frameworks/Python.framework/Versions/3.6/lib/python3.6/site-packages/pandas/core/indexing.py\u001b[0m in \u001b[0;36m_validate_read_indexer\u001b[0;34m(self, key, indexer, axis, raise_missing)\u001b[0m\n\u001b[1;32m   1302\u001b[0m             \u001b[0;32mif\u001b[0m \u001b[0mraise_missing\u001b[0m\u001b[0;34m:\u001b[0m\u001b[0;34m\u001b[0m\u001b[0;34m\u001b[0m\u001b[0m\n\u001b[1;32m   1303\u001b[0m                 \u001b[0mnot_found\u001b[0m \u001b[0;34m=\u001b[0m \u001b[0mlist\u001b[0m\u001b[0;34m(\u001b[0m\u001b[0mset\u001b[0m\u001b[0;34m(\u001b[0m\u001b[0mkey\u001b[0m\u001b[0;34m)\u001b[0m \u001b[0;34m-\u001b[0m \u001b[0mset\u001b[0m\u001b[0;34m(\u001b[0m\u001b[0max\u001b[0m\u001b[0;34m)\u001b[0m\u001b[0;34m)\u001b[0m\u001b[0;34m\u001b[0m\u001b[0;34m\u001b[0m\u001b[0m\n\u001b[0;32m-> 1304\u001b[0;31m                 \u001b[0;32mraise\u001b[0m \u001b[0mKeyError\u001b[0m\u001b[0;34m(\u001b[0m\u001b[0;34mf\"{not_found} not in index\"\u001b[0m\u001b[0;34m)\u001b[0m\u001b[0;34m\u001b[0m\u001b[0;34m\u001b[0m\u001b[0m\n\u001b[0m\u001b[1;32m   1305\u001b[0m \u001b[0;34m\u001b[0m\u001b[0m\n\u001b[1;32m   1306\u001b[0m             \u001b[0;31m# we skip the warning on Categorical\u001b[0m\u001b[0;34m\u001b[0m\u001b[0;34m\u001b[0m\u001b[0;34m\u001b[0m\u001b[0m\n",
      "\u001b[0;31mKeyError\u001b[0m: \"['host_is_superhost', 'instant_bookable', 'require_guest_phone_verification', 'require_guest_profile_picture', 'is_location_exact', 'cancellation_policy', 'bed_type', 'host_has_profile_pic', 'host_response_time', 'room_type', 'host_identity_verified'] not in index\""
     ]
    }
   ],
   "source": [
    "# 4.3. create dummies for selected categorical variables\n",
    "for col in categorical_columns_to_describe:\n",
    "    # for each cat add dummy var, drop original column\n",
    "    filled_cleaned_listings_df = pd.concat([filled_cleaned_listings_df.drop(col, axis=1)\n",
    "                                        , pd.get_dummies(filled_cleaned_listings_df[col]\n",
    "                                                         , prefix=col, prefix_sep='_', drop_first=True)], axis=1)\n",
    "#drop super stric cancelation policy because it is only in boston\n",
    "filled_cleaned_listings_df = filled_cleaned_listings_df.drop(columns=['cancellation_policy_super_strict_30'])\n",
    "# keep only the columns of interest\n",
    "filled_cleaned_listings_df = filled_cleaned_listings_df[['boston', 'price_float'] + list(numeric_columns_to_describe) + list(categorical_columns_to_describe)]"
   ]
  },
  {
   "cell_type": "markdown",
   "metadata": {},
   "source": [
    "#### Step 5. Model data\n",
    "\n",
    "**1.** Run linear regression on listings data study the predictors of the prices in two cities\n",
    "\n",
    "**2.** Run linear regression on calendar data to see appartment price seasonality and time trend"
   ]
  },
  {
   "cell_type": "code",
   "execution_count": 68,
   "metadata": {},
   "outputs": [
    {
     "data": {
      "text/html": [
       "<div>\n",
       "<style scoped>\n",
       "    .dataframe tbody tr th:only-of-type {\n",
       "        vertical-align: middle;\n",
       "    }\n",
       "\n",
       "    .dataframe tbody tr th {\n",
       "        vertical-align: top;\n",
       "    }\n",
       "\n",
       "    .dataframe thead th {\n",
       "        text-align: right;\n",
       "    }\n",
       "</style>\n",
       "<table border=\"1\" class=\"dataframe\">\n",
       "  <thead>\n",
       "    <tr style=\"text-align: right;\">\n",
       "      <th></th>\n",
       "      <th>Coefficient</th>\n",
       "    </tr>\n",
       "  </thead>\n",
       "  <tbody>\n",
       "    <tr>\n",
       "      <th>boston</th>\n",
       "      <td>46.92</td>\n",
       "    </tr>\n",
       "  </tbody>\n",
       "</table>\n",
       "</div>"
      ],
      "text/plain": [
       "        Coefficient\n",
       "boston        46.92"
      ]
     },
     "execution_count": 68,
     "metadata": {},
     "output_type": "execute_result"
    }
   ],
   "source": [
    "# 5.1.1. Check what city is on average more expensive\n",
    "city_results = utils.run_linear_regression(filled_cleaned_listings_df, ['price_float'], ['boston'])\n",
    "city_results['coefficients'].head()\n",
    "#Boston is more expensive"
   ]
  },
  {
   "cell_type": "code",
   "execution_count": 69,
   "metadata": {
    "scrolled": true
   },
   "outputs": [
    {
     "name": "stdout",
     "output_type": "stream",
     "text": [
      "0.047836900268108606\n"
     ]
    }
   ],
   "source": [
    "print(city_results['r2_test'])\n",
    "# Boston seem to be a more expensive city but just having one regressor does not explain much of price volatility"
   ]
  },
  {
   "cell_type": "code",
   "execution_count": 70,
   "metadata": {},
   "outputs": [
    {
     "data": {
      "text/html": [
       "<div>\n",
       "<style scoped>\n",
       "    .dataframe tbody tr th:only-of-type {\n",
       "        vertical-align: middle;\n",
       "    }\n",
       "\n",
       "    .dataframe tbody tr th {\n",
       "        vertical-align: top;\n",
       "    }\n",
       "\n",
       "    .dataframe thead th {\n",
       "        text-align: right;\n",
       "    }\n",
       "</style>\n",
       "<table border=\"1\" class=\"dataframe\">\n",
       "  <thead>\n",
       "    <tr style=\"text-align: right;\">\n",
       "      <th></th>\n",
       "      <th>Coefficient</th>\n",
       "    </tr>\n",
       "  </thead>\n",
       "  <tbody>\n",
       "    <tr>\n",
       "      <th>boston</th>\n",
       "      <td>58.88</td>\n",
       "    </tr>\n",
       "    <tr>\n",
       "      <th>review_scores_location</th>\n",
       "      <td>25.09</td>\n",
       "    </tr>\n",
       "    <tr>\n",
       "      <th>bedrooms</th>\n",
       "      <td>21.99</td>\n",
       "    </tr>\n",
       "    <tr>\n",
       "      <th>accommodates</th>\n",
       "      <td>21.03</td>\n",
       "    </tr>\n",
       "    <tr>\n",
       "      <th>bathrooms</th>\n",
       "      <td>19.88</td>\n",
       "    </tr>\n",
       "    <tr>\n",
       "      <th>review_scores_cleanliness</th>\n",
       "      <td>8.83</td>\n",
       "    </tr>\n",
       "    <tr>\n",
       "      <th>guests_included</th>\n",
       "      <td>1.43</td>\n",
       "    </tr>\n",
       "    <tr>\n",
       "      <th>review_scores_rating</th>\n",
       "      <td>0.99</td>\n",
       "    </tr>\n",
       "    <tr>\n",
       "      <th>minimum_nights</th>\n",
       "      <td>0.15</td>\n",
       "    </tr>\n",
       "    <tr>\n",
       "      <th>number_of_reviews</th>\n",
       "      <td>-0.12</td>\n",
       "    </tr>\n",
       "    <tr>\n",
       "      <th>review_scores_accuracy</th>\n",
       "      <td>-0.36</td>\n",
       "    </tr>\n",
       "    <tr>\n",
       "      <th>review_scores_communication</th>\n",
       "      <td>-2.22</td>\n",
       "    </tr>\n",
       "    <tr>\n",
       "      <th>host_since_year</th>\n",
       "      <td>-2.30</td>\n",
       "    </tr>\n",
       "    <tr>\n",
       "      <th>reviews_per_month</th>\n",
       "      <td>-3.64</td>\n",
       "    </tr>\n",
       "    <tr>\n",
       "      <th>review_scores_checkin</th>\n",
       "      <td>-4.64</td>\n",
       "    </tr>\n",
       "    <tr>\n",
       "      <th>review_scores_value</th>\n",
       "      <td>-17.47</td>\n",
       "    </tr>\n",
       "  </tbody>\n",
       "</table>\n",
       "</div>"
      ],
      "text/plain": [
       "                             Coefficient\n",
       "boston                             58.88\n",
       "review_scores_location             25.09\n",
       "bedrooms                           21.99\n",
       "accommodates                       21.03\n",
       "bathrooms                          19.88\n",
       "review_scores_cleanliness           8.83\n",
       "guests_included                     1.43\n",
       "review_scores_rating                0.99\n",
       "minimum_nights                      0.15\n",
       "number_of_reviews                  -0.12\n",
       "review_scores_accuracy             -0.36\n",
       "review_scores_communication        -2.22\n",
       "host_since_year                    -2.30\n",
       "reviews_per_month                  -3.64\n",
       "review_scores_checkin              -4.64\n",
       "review_scores_value               -17.47"
      ]
     },
     "execution_count": 70,
     "metadata": {},
     "output_type": "execute_result"
    }
   ],
   "source": [
    "# 5.1.2. Check if reviews are stronger price predictors than bed and bathrooms\n",
    "numeric_results = utils.run_linear_regression(filled_cleaned_listings_df, ['price_float'], ['boston'] + numeric_columns_to_describe)\n",
    "numeric_results['coefficients'].head(len(numeric_columns_to_describe) + 1)\n",
    "# Boston remains a strong predictor of price even holding everything else constant\n",
    "# Bedrooms, accomodates and bathrooms are as stronger predictors than reviews but score of location matters a lot as well\n",
    "# Raiting does not matter\n",
    "# Value score is negaative as expected because if signals a good deal\n",
    "# Having a host with longer experience does not increase prices"
   ]
  },
  {
   "cell_type": "code",
   "execution_count": 65,
   "metadata": {},
   "outputs": [
    {
     "name": "stdout",
     "output_type": "stream",
     "text": [
      "0.5005846237898239\n"
     ]
    }
   ],
   "source": [
    "print(numeric_results['r2_test'])\n",
    "# Boston is a strong predictor of price, quality of location is also important as well as size of the appartment"
   ]
  },
  {
   "cell_type": "code",
   "execution_count": 71,
   "metadata": {},
   "outputs": [
    {
     "data": {
      "text/html": [
       "<div>\n",
       "<style scoped>\n",
       "    .dataframe tbody tr th:only-of-type {\n",
       "        vertical-align: middle;\n",
       "    }\n",
       "\n",
       "    .dataframe tbody tr th {\n",
       "        vertical-align: top;\n",
       "    }\n",
       "\n",
       "    .dataframe thead th {\n",
       "        text-align: right;\n",
       "    }\n",
       "</style>\n",
       "<table border=\"1\" class=\"dataframe\">\n",
       "  <thead>\n",
       "    <tr style=\"text-align: right;\">\n",
       "      <th></th>\n",
       "      <th>Coefficient</th>\n",
       "    </tr>\n",
       "  </thead>\n",
       "  <tbody>\n",
       "    <tr>\n",
       "      <th>boston</th>\n",
       "      <td>57.09</td>\n",
       "    </tr>\n",
       "    <tr>\n",
       "      <th>require_guest_phone_verification_t</th>\n",
       "      <td>49.01</td>\n",
       "    </tr>\n",
       "    <tr>\n",
       "      <th>bedrooms</th>\n",
       "      <td>29.90</td>\n",
       "    </tr>\n",
       "    <tr>\n",
       "      <th>bathrooms</th>\n",
       "      <td>25.84</td>\n",
       "    </tr>\n",
       "    <tr>\n",
       "      <th>bed_type_Couch</th>\n",
       "      <td>21.67</td>\n",
       "    </tr>\n",
       "    <tr>\n",
       "      <th>review_scores_location</th>\n",
       "      <td>16.68</td>\n",
       "    </tr>\n",
       "    <tr>\n",
       "      <th>bed_type_Real Bed</th>\n",
       "      <td>13.73</td>\n",
       "    </tr>\n",
       "    <tr>\n",
       "      <th>host_is_superhost_t</th>\n",
       "      <td>10.96</td>\n",
       "    </tr>\n",
       "    <tr>\n",
       "      <th>accommodates</th>\n",
       "      <td>10.06</td>\n",
       "    </tr>\n",
       "    <tr>\n",
       "      <th>bed_type_Pull-out Sofa</th>\n",
       "      <td>8.11</td>\n",
       "    </tr>\n",
       "    <tr>\n",
       "      <th>review_scores_cleanliness</th>\n",
       "      <td>2.94</td>\n",
       "    </tr>\n",
       "    <tr>\n",
       "      <th>bed_type_Futon</th>\n",
       "      <td>2.78</td>\n",
       "    </tr>\n",
       "    <tr>\n",
       "      <th>is_location_exact_t</th>\n",
       "      <td>2.53</td>\n",
       "    </tr>\n",
       "    <tr>\n",
       "      <th>guests_included</th>\n",
       "      <td>1.45</td>\n",
       "    </tr>\n",
       "    <tr>\n",
       "      <th>review_scores_rating</th>\n",
       "      <td>1.15</td>\n",
       "    </tr>\n",
       "    <tr>\n",
       "      <th>host_response_time_within a few hours</th>\n",
       "      <td>1.13</td>\n",
       "    </tr>\n",
       "    <tr>\n",
       "      <th>host_since_year</th>\n",
       "      <td>0.73</td>\n",
       "    </tr>\n",
       "    <tr>\n",
       "      <th>review_scores_accuracy</th>\n",
       "      <td>0.27</td>\n",
       "    </tr>\n",
       "    <tr>\n",
       "      <th>host_identity_verified_t</th>\n",
       "      <td>0.11</td>\n",
       "    </tr>\n",
       "    <tr>\n",
       "      <th>minimum_nights</th>\n",
       "      <td>0.09</td>\n",
       "    </tr>\n",
       "    <tr>\n",
       "      <th>number_of_reviews</th>\n",
       "      <td>-0.13</td>\n",
       "    </tr>\n",
       "    <tr>\n",
       "      <th>review_scores_communication</th>\n",
       "      <td>-1.14</td>\n",
       "    </tr>\n",
       "    <tr>\n",
       "      <th>instant_bookable_t</th>\n",
       "      <td>-1.63</td>\n",
       "    </tr>\n",
       "    <tr>\n",
       "      <th>cancellation_policy_strict</th>\n",
       "      <td>-1.95</td>\n",
       "    </tr>\n",
       "    <tr>\n",
       "      <th>reviews_per_month</th>\n",
       "      <td>-2.32</td>\n",
       "    </tr>\n",
       "    <tr>\n",
       "      <th>cancellation_policy_moderate</th>\n",
       "      <td>-3.48</td>\n",
       "    </tr>\n",
       "    <tr>\n",
       "      <th>review_scores_checkin</th>\n",
       "      <td>-3.51</td>\n",
       "    </tr>\n",
       "    <tr>\n",
       "      <th>host_response_time_within an hour</th>\n",
       "      <td>-5.88</td>\n",
       "    </tr>\n",
       "    <tr>\n",
       "      <th>host_has_profile_pic_t</th>\n",
       "      <td>-7.24</td>\n",
       "    </tr>\n",
       "    <tr>\n",
       "      <th>host_response_time_within a day</th>\n",
       "      <td>-11.26</td>\n",
       "    </tr>\n",
       "    <tr>\n",
       "      <th>review_scores_value</th>\n",
       "      <td>-13.02</td>\n",
       "    </tr>\n",
       "    <tr>\n",
       "      <th>require_guest_profile_picture_t</th>\n",
       "      <td>-29.00</td>\n",
       "    </tr>\n",
       "    <tr>\n",
       "      <th>room_type_Private room</th>\n",
       "      <td>-62.58</td>\n",
       "    </tr>\n",
       "    <tr>\n",
       "      <th>room_type_Shared room</th>\n",
       "      <td>-67.33</td>\n",
       "    </tr>\n",
       "  </tbody>\n",
       "</table>\n",
       "</div>"
      ],
      "text/plain": [
       "                                       Coefficient\n",
       "boston                                       57.09\n",
       "require_guest_phone_verification_t           49.01\n",
       "bedrooms                                     29.90\n",
       "bathrooms                                    25.84\n",
       "bed_type_Couch                               21.67\n",
       "review_scores_location                       16.68\n",
       "bed_type_Real Bed                            13.73\n",
       "host_is_superhost_t                          10.96\n",
       "accommodates                                 10.06\n",
       "bed_type_Pull-out Sofa                        8.11\n",
       "review_scores_cleanliness                     2.94\n",
       "bed_type_Futon                                2.78\n",
       "is_location_exact_t                           2.53\n",
       "guests_included                               1.45\n",
       "review_scores_rating                          1.15\n",
       "host_response_time_within a few hours         1.13\n",
       "host_since_year                               0.73\n",
       "review_scores_accuracy                        0.27\n",
       "host_identity_verified_t                      0.11\n",
       "minimum_nights                                0.09\n",
       "number_of_reviews                            -0.13\n",
       "review_scores_communication                  -1.14\n",
       "instant_bookable_t                           -1.63\n",
       "cancellation_policy_strict                   -1.95\n",
       "reviews_per_month                            -2.32\n",
       "cancellation_policy_moderate                 -3.48\n",
       "review_scores_checkin                        -3.51\n",
       "host_response_time_within an hour            -5.88\n",
       "host_has_profile_pic_t                       -7.24\n",
       "host_response_time_within a day             -11.26\n",
       "review_scores_value                         -13.02\n",
       "require_guest_profile_picture_t             -29.00\n",
       "room_type_Private room                      -62.58\n",
       "room_type_Shared room                       -67.33"
      ]
     },
     "execution_count": 71,
     "metadata": {},
     "output_type": "execute_result"
    }
   ],
   "source": [
    "# 5.1.3. Check if categorical values are stronger predictors than numeric predictors\n",
    "columns_of_interest = list(filled_cleaned_listings_df.columns)\n",
    "columns_of_interest.remove('price_float')\n",
    "total_results = utils.run_linear_regression(filled_cleaned_listings_df, ['price_float'], columns_of_interest)\n",
    "total_results['coefficients'].head(len(columns_of_interest)+1)\n",
    "# Phone verification is associated with more expensive accomodations\n",
    "# Couch is more expensive than a real bed\n",
    "# Host that replies in couple of hours earns more than host replyiong within an hour? \n",
    "# Number of reviews have negative effect on price"
   ]
  },
  {
   "cell_type": "code",
   "execution_count": 72,
   "metadata": {},
   "outputs": [
    {
     "name": "stdout",
     "output_type": "stream",
     "text": [
      "0.5678415968873329\n"
     ]
    }
   ],
   "source": [
    "print(total_results['r2_test'])"
   ]
  },
  {
   "cell_type": "code",
   "execution_count": null,
   "metadata": {
    "scrolled": true
   },
   "outputs": [],
   "source": [
    "# 22. Check missing values in calendar df\n",
    "calendar_df = calendar_df.drop(columns=['listing_id','date_day','date','available','price'])\n",
    "utils.check_missing_values(calendar_df, 0.5) \n",
    "calendar_df = calendar_df.dropna().reset_index(drop=True)"
   ]
  },
  {
   "cell_type": "code",
   "execution_count": null,
   "metadata": {
    "scrolled": true
   },
   "outputs": [],
   "source": [
    "# 23. Create city, year, city-year interaction dummies\n",
    "calendar_df['2017_year'] = np.where(calendar_df['date_year'] == '2017', 1, 0)\n",
    "calendar_df['2017_year_boston'] = calendar_df['2017_year'].multiply(calendar_df['boston'])\n",
    "utils.check_missing_values(calendar_df, 0.5) "
   ]
  },
  {
   "cell_type": "code",
   "execution_count": null,
   "metadata": {},
   "outputs": [],
   "source": [
    "# even after dropping missing it is a large dataset\n",
    "calendar_df.shape"
   ]
  },
  {
   "cell_type": "code",
   "execution_count": null,
   "metadata": {},
   "outputs": [],
   "source": [
    "# 24. Check if prices decreased in 2017\n",
    "columns_of_interest = ['2017_year', 'boston', '2017_year_boston']\n",
    "trends_results = utils.run_linear_regression(calendar_df, ['price_float'], columns_of_interest)\n",
    "trends_results['coefficients'].head(len(columns_of_interest)+1)\n",
    "# Boson is +75 in 2016\n",
    "# seattle prices decreased by 2 dollars in 2017\n",
    "# Boston prices decreased  by about 21 dollars in 2017"
   ]
  },
  {
   "cell_type": "code",
   "execution_count": null,
   "metadata": {},
   "outputs": [],
   "source": [
    "calendar_df.groupby(['boston','2017_year'])['date_month'].value_counts()"
   ]
  },
  {
   "cell_type": "code",
   "execution_count": null,
   "metadata": {
    "scrolled": true
   },
   "outputs": [],
   "source": [
    "# 25. create monthly dummies to check what is the best month to com\n",
    "monthly_calendar_df = pd.concat([calendar_df.drop('date_month', axis=1)\n",
    "                            , pd.get_dummies(calendar_df['date_month']\n",
    "                                             , prefix='month', prefix_sep='_', drop_first=True)], axis=1)\n",
    "monthly_calendar_df = monthly_calendar_df.drop(columns=['date_year'])\n",
    "columns_of_interest = [col for col in monthly_calendar_df.columns if 'month_' in col] "
   ]
  },
  {
   "cell_type": "code",
   "execution_count": null,
   "metadata": {},
   "outputs": [],
   "source": [
    "# 26. Check what month is cheapest for tourists\n",
    "monthly_results = utils.run_linear_regression(monthly_calendar_df, ['price_float']\n",
    "                                              , columns_of_interest + ['boston','2017_year','2017_year_boston'])\n",
    "monthly_results['coefficients'].head(len(columns_of_interest)+3)\n",
    "# The sign of 2017_year flips to positive \n",
    "# suggeting that seattle prices increased in 2017 in comparison to 2016 rather tahn dropped\n",
    "# the reason is that now we control for seasonality and previously we saw the effect of \n",
    "# having only relatively cheaper winter months for 2017 seattle dataset"
   ]
  },
  {
   "cell_type": "code",
   "execution_count": null,
   "metadata": {},
   "outputs": [],
   "source": [
    "# 27. Check what month is cheapest for tourists separately in Boston and Seattle\n",
    "monthly_columns = [col for col in monthly_calendar_df.columns if 'month_' in col]\n",
    "for col in monthly_columns:\n",
    "    monthly_calendar_df['boston_' + col] = monthly_calendar_df['boston']*monthly_calendar_df[col]"
   ]
  },
  {
   "cell_type": "code",
   "execution_count": null,
   "metadata": {},
   "outputs": [],
   "source": [
    "monthly_interaction_columns = [col for col in monthly_calendar_df.columns if 'month_' in col]\n",
    "monthly_results = utils.run_linear_regression(monthly_calendar_df, ['price_float']\n",
    "                                              , monthly_interaction_columns + ['boston'])\n",
    "monthly_results['coefficients'].head(len(monthly_interaction_columns)+3)"
   ]
  },
  {
   "cell_type": "code",
   "execution_count": null,
   "metadata": {},
   "outputs": [],
   "source": [
    "# 27. combine coefficients for Seattle and Boston to infere overall change of prices in Boston in comparison to January\n",
    "coefficients_df = monthly_results['coefficients'].sort_index()\n",
    "boston_coefficients_df = coefficients_df[coefficients_df.index.str.contains('boston') \n",
    "                                         & (coefficients_df.index != 'boston')].reset_index(drop=True)\n",
    "seattle_coefficients_df = coefficients_df[~coefficients_df.index.str.contains('boston')].reset_index(drop=True)"
   ]
  },
  {
   "cell_type": "code",
   "execution_count": null,
   "metadata": {},
   "outputs": [],
   "source": [
    "seasonality_df = boston_coefficients_df.merge(seattle_coefficients_df, left_index=True, right_index=True)\n",
    "seasonality_df.index = ['Feb','March','April','May','June','July','Aug','Sep','Oct','Nov','Dec']"
   ]
  },
  {
   "cell_type": "code",
   "execution_count": null,
   "metadata": {},
   "outputs": [],
   "source": [
    "seasonality_df.columns = ['Season_Impact_Boston', 'Season_Impact_Seattle']\n",
    "seasonality_df['Season_Impact_Boston'] = seasonality_df['Season_Impact_Boston'] + seasonality_df['Season_Impact_Seattle']"
   ]
  },
  {
   "cell_type": "code",
   "execution_count": null,
   "metadata": {},
   "outputs": [],
   "source": [
    "# Sort values for Boston\n",
    "seasonality_df[['Season_Impact_Boston']].sort_values('Season_Impact_Boston').head(11)"
   ]
  },
  {
   "cell_type": "code",
   "execution_count": null,
   "metadata": {},
   "outputs": [],
   "source": [
    "# Sort values for Seattle\n",
    "seasonality_df[['Season_Impact_Seattle']].sort_values('Season_Impact_Seattle').head(11)         "
   ]
  },
  {
   "cell_type": "code",
   "execution_count": null,
   "metadata": {},
   "outputs": [],
   "source": []
  }
 ],
 "metadata": {
  "kernelspec": {
   "display_name": "Python 3",
   "language": "python",
   "name": "python3"
  },
  "language_info": {
   "codemirror_mode": {
    "name": "ipython",
    "version": 3
   },
   "file_extension": ".py",
   "mimetype": "text/x-python",
   "name": "python",
   "nbconvert_exporter": "python",
   "pygments_lexer": "ipython3",
   "version": "3.6.8"
  }
 },
 "nbformat": 4,
 "nbformat_minor": 4
}
