{
 "cells": [
  {
   "cell_type": "code",
   "execution_count": 1,
   "metadata": {},
   "outputs": [
    {
     "name": "stdout",
     "output_type": "stream",
     "text": [
      "importing Jupyter notebook from analysis_utils.ipynb\n"
     ]
    }
   ],
   "source": [
    "import pandas as pd\n",
    "import import_ipynb\n",
    "import analysis_utils as utils\n",
    "import matplotlib.pyplot as plt\n",
    "import numpy as np\n",
    "from sklearn.linear_model import LinearRegression\n",
    "from sklearn.model_selection import train_test_split\n",
    "from sklearn.metrics import r2_score, mean_squared_error"
   ]
  },
  {
   "cell_type": "code",
   "execution_count": 2,
   "metadata": {},
   "outputs": [],
   "source": [
    "# Set pandas formating options\n",
    "pd.options.display.float_format = '{:.2f}'.format\n",
    "pd.options.display.width = 2000\n",
    "pd.options.display.max_columns = 10"
   ]
  },
  {
   "cell_type": "markdown",
   "metadata": {},
   "source": [
    "#### Step 1. Load and clean Airbnb data for Seattle and Boston\n"
   ]
  },
  {
   "cell_type": "code",
   "execution_count": 3,
   "metadata": {},
   "outputs": [],
   "source": [
    "# 1.1. load airbnb data using UDF\n",
    "data_type = ['calendar'\n",
    "             , 'listings'\n",
    "             , 'reviews']\n",
    "\n",
    "city_type = ['seattle'\n",
    "             , 'boston']\n",
    "\n",
    "city_dictionary = utils.load_csv(city_type, data_type, 'data')"
   ]
  },
  {
   "cell_type": "code",
   "execution_count": 4,
   "metadata": {
    "scrolled": true
   },
   "outputs": [],
   "source": [
    "# 1.2. create separate dataframes for each city and data set\n",
    "reviews_df = utils.concatenate_dataframes(city_dictionary, 'reviews')\n",
    "calendar_df = utils.concatenate_dataframes(city_dictionary, 'calendar')\n",
    "listings_df = utils.concatenate_dataframes(city_dictionary, 'listings')\n",
    "\n",
    "# Convert host_since_year to numetic value\n",
    "listings_df['host_since_year'] = pd.to_numeric(listings_df['host_since_year'], errors='coerce')"
   ]
  },
  {
   "cell_type": "markdown",
   "metadata": {},
   "source": [
    "#### Step 2. Assess size of the data and the amount of missing data\n",
    "**1.** Check listing data to use in price prediction excersize\n"
   ]
  },
  {
   "cell_type": "code",
   "execution_count": 5,
   "metadata": {},
   "outputs": [
    {
     "name": "stdout",
     "output_type": "stream",
     "text": [
      "(3585, 99)\n",
      "(3818, 99)\n"
     ]
    }
   ],
   "source": [
    "# 2.1.1.  check shape of the listings df\n",
    "print(listings_df[listings_df['boston'] == 1].shape)\n",
    "print(listings_df[listings_df['boston'] == 0].shape)\n",
    "# seattle has slighlty more observations"
   ]
  },
  {
   "cell_type": "code",
   "execution_count": 11,
   "metadata": {},
   "outputs": [
    {
     "name": "stdout",
     "output_type": "stream",
     "text": [
      "                           index  seattle  boston\n",
      "11                       license     1.00    1.00\n",
      "18              has_availability     0.00    1.00\n",
      "26            jurisdiction_names     0.00    1.00\n",
      "78  neighbourhood_group_cleansed     0.00    1.00\n",
      "39                   square_feet     0.97    0.98\n",
      "2                  monthly_price     0.60    0.75\n",
      "80           monthly_price_float     0.60    0.75\n",
      "28            weekly_price_float     0.47    0.75\n",
      "55                  weekly_price     0.47    0.75\n",
      "3               security_deposit     0.51    0.63\n",
      "12                         notes     0.42    0.55\n",
      "42         neighborhood_overview     0.27    0.39\n",
      "76                    host_about     0.22    0.37\n",
      "17                       transit     0.24    0.36\n",
      "13                  cleaning_fee     0.27    0.31\n",
      "34                         space     0.15    0.29\n",
      "19        review_scores_accuracy     0.17    0.23\n",
      "58        review_scores_location     0.17    0.23\n",
      "49           review_scores_value     0.17    0.23\n",
      "68         review_scores_checkin     0.17    0.23\n",
      "98     review_scores_cleanliness     0.17    0.23\n",
      "93   review_scores_communication     0.17    0.23\n",
      "79          review_scores_rating     0.17    0.23\n",
      "8              reviews_per_month     0.16    0.21\n",
      "87                   last_review     0.16    0.21\n",
      "88                  first_review     0.16    0.21\n",
      "9                 xl_picture_url     0.08    0.17\n",
      "46                    medium_url     0.08    0.17\n",
      "97                 thumbnail_url     0.08    0.17\n",
      "53                 neighbourhood     0.11    0.15\n",
      "33          host_acceptance_rate     0.20    0.13\n",
      "4             host_response_time     0.14    0.13\n",
      "82            host_response_rate     0.14    0.13\n",
      "69            host_neighbourhood     0.08    0.09\n",
      "45                       summary     0.05    0.04\n",
      "77                       zipcode     0.00    0.01\n",
      "41                     bathrooms     0.00    0.00\n",
      "62                        market     0.00    0.00\n",
      "63                 host_location     0.00    0.00\n",
      "29                      bedrooms     0.00    0.00\n",
      "83                          beds     0.00    0.00\n",
      "96                 property_type     0.00    0.00\n",
      "95                          city     0.00    0.00\n",
      "1         host_identity_verified     0.00    0.00\n",
      "25                host_since_day     0.00    0.00\n",
      "38                     host_name     0.00    0.00\n",
      "43              host_since_month     0.00    0.00\n",
      "52             host_is_superhost     0.00    0.00\n",
      "57     host_total_listings_count     0.00    0.00\n",
      "66                    host_since     0.00    0.00\n",
      "67           host_listings_count     0.00    0.00\n",
      "73              host_picture_url     0.00    0.00\n",
      "74            host_thumbnail_url     0.00    0.00\n",
      "85               host_since_year     0.00    0.00\n",
      "92          host_has_profile_pic     0.00    0.00\n",
      "0                   last_scraped     0.00    0.00\n",
      "5          calendar_last_scraped     0.00    0.00\n",
      "6                          price     0.00    0.00\n",
      "7                        host_id     0.00    0.00\n",
      "10                      latitude     0.00    0.00\n"
     ]
    }
   ],
   "source": [
    "# 2.1.2 check missing data in listing df\n",
    "# create a list of columns that have more than 50% of missing data to drop then later\n",
    "columns_with_missing_values = utils.check_missing_values(listings_df, 0.5)"
   ]
  },
  {
   "cell_type": "code",
   "execution_count": 7,
   "metadata": {},
   "outputs": [
    {
     "name": "stdout",
     "output_type": "stream",
     "text": [
      "                               index  seattle  boston\n",
      "16                jurisdiction_names     0.00    1.00\n",
      "29      neighbourhood_group_cleansed     0.00    1.00\n",
      "58                  has_availability     0.00    1.00\n",
      "10                     monthly_price     0.60    0.75\n",
      "38                      weekly_price     0.47    0.75\n",
      "12                  security_deposit     0.51    0.63\n",
      "41                             notes     0.42    0.55\n",
      "62             neighborhood_overview     0.27    0.39\n",
      "27                        host_about     0.22    0.37\n",
      "57                           transit     0.24    0.36\n",
      "43                      cleaning_fee     0.27    0.31\n",
      "45                             space     0.15    0.29\n",
      "42                       last_review     0.16    0.21\n",
      "44                      first_review     0.16    0.21\n",
      "6                         medium_url     0.08    0.17\n",
      "32                    xl_picture_url     0.08    0.17\n",
      "59                     thumbnail_url     0.08    0.17\n",
      "30                     neighbourhood     0.11    0.15\n",
      "37              host_acceptance_rate     0.20    0.13\n",
      "19                host_response_time     0.14    0.13\n",
      "34                host_response_rate     0.14    0.13\n",
      "7                 host_neighbourhood     0.08    0.09\n",
      "4                            summary     0.05    0.04\n",
      "28                           zipcode     0.00    0.01\n",
      "51                            market     0.00    0.00\n",
      "56                     host_location     0.00    0.00\n",
      "54                     property_type     0.00    0.00\n",
      "53                              city     0.00    0.00\n",
      "0                   host_since_month     0.00    0.00\n",
      "2             host_identity_verified     0.00    0.00\n",
      "15                    host_since_day     0.00    0.00\n",
      "20                  host_picture_url     0.00    0.00\n",
      "22                host_thumbnail_url     0.00    0.00\n",
      "25                 host_is_superhost     0.00    0.00\n",
      "50              host_has_profile_pic     0.00    0.00\n",
      "55                         host_name     0.00    0.00\n",
      "63                        host_since     0.00    0.00\n",
      "1                       last_scraped     0.00    0.00\n",
      "3                            country     0.00    0.00\n",
      "5                experiences_offered     0.00    0.00\n",
      "8                        description     0.00    0.00\n",
      "9                  is_location_exact     0.00    0.00\n",
      "11                            street     0.00    0.00\n",
      "13                      country_code     0.00    0.00\n",
      "14                       listing_url     0.00    0.00\n",
      "17                              name     0.00    0.00\n",
      "18                         room_type     0.00    0.00\n",
      "21             calendar_last_scraped     0.00    0.00\n",
      "23                             price     0.00    0.00\n",
      "24                         amenities     0.00    0.00\n",
      "26                             state     0.00    0.00\n",
      "31                          bed_type     0.00    0.00\n",
      "33                    smart_location     0.00    0.00\n",
      "35               cancellation_policy     0.00    0.00\n",
      "36                  instant_bookable     0.00    0.00\n",
      "39  require_guest_phone_verification     0.00    0.00\n",
      "40            neighbourhood_cleansed     0.00    0.00\n",
      "46                          host_url     0.00    0.00\n",
      "47                host_verifications     0.00    0.00\n",
      "48                      extra_people     0.00    0.00\n"
     ]
    },
    {
     "data": {
      "text/plain": [
       "['jurisdiction_names',\n",
       " 'neighbourhood_group_cleansed',\n",
       " 'has_availability',\n",
       " 'monthly_price',\n",
       " 'weekly_price',\n",
       " 'security_deposit',\n",
       " 'notes']"
      ]
     },
     "execution_count": 7,
     "metadata": {},
     "output_type": "execute_result"
    }
   ],
   "source": [
    "# 2.1.3. Check missing data in categorical series only\n",
    "string_columns = list(set(listings_df.select_dtypes(include=['object']).columns)) + ['boston']\n",
    "utils.check_missing_values(listings_df[string_columns], 0.5)"
   ]
  },
  {
   "cell_type": "code",
   "execution_count": 12,
   "metadata": {
    "scrolled": true
   },
   "outputs": [
    {
     "name": "stdout",
     "output_type": "stream",
     "text": [
      "                             index  seattle  boston\n",
      "20                         license     1.00    1.00\n",
      "32                     square_feet     0.97    0.98\n",
      "13             monthly_price_float     0.60    0.75\n",
      "7               weekly_price_float     0.47    0.75\n",
      "0           review_scores_accuracy     0.17    0.23\n",
      "21          review_scores_location     0.17    0.23\n",
      "6              review_scores_value     0.17    0.23\n",
      "3            review_scores_checkin     0.17    0.23\n",
      "34       review_scores_cleanliness     0.17    0.23\n",
      "27     review_scores_communication     0.17    0.23\n",
      "11            review_scores_rating     0.17    0.23\n",
      "10               reviews_per_month     0.16    0.21\n",
      "33                       bathrooms     0.00    0.00\n",
      "12                        bedrooms     0.00    0.00\n",
      "17                            beds     0.00    0.00\n",
      "2              host_listings_count     0.00    0.00\n",
      "18                 host_since_year     0.00    0.00\n",
      "19       host_total_listings_count     0.00    0.00\n",
      "1                  availability_30     0.00    0.00\n",
      "4   calculated_host_listings_count     0.00    0.00\n",
      "5                        longitude     0.00    0.00\n",
      "8                  availability_90     0.00    0.00\n",
      "9                          host_id     0.00    0.00\n",
      "14                        latitude     0.00    0.00\n",
      "15                  minimum_nights     0.00    0.00\n",
      "16                 guests_included     0.00    0.00\n",
      "22               number_of_reviews     0.00    0.00\n",
      "23                          boston     0.00    0.00\n",
      "24                 availability_60     0.00    0.00\n",
      "25                availability_365     0.00    0.00\n",
      "26                              id     0.00    0.00\n",
      "28                  maximum_nights     0.00    0.00\n",
      "29                     price_float     0.00    0.00\n",
      "30                    accommodates     0.00    0.00\n",
      "31                       scrape_id     0.00    0.00\n"
     ]
    },
    {
     "data": {
      "text/plain": [
       "['license', 'square_feet', 'monthly_price_float', 'weekly_price_float']"
      ]
     },
     "execution_count": 12,
     "metadata": {},
     "output_type": "execute_result"
    }
   ],
   "source": [
    "# 2.1.4. Check missing data in numerical series only\n",
    "numeric_columns = list(set(listings_df.select_dtypes(include=['int64','float64']).columns))\n",
    "utils.check_missing_values(listings_df[numeric_columns], 0.5)"
   ]
  },
  {
   "cell_type": "code",
   "execution_count": 13,
   "metadata": {
    "scrolled": true
   },
   "outputs": [
    {
     "name": "stdout",
     "output_type": "stream",
     "text": [
      "                           index  seattle  boston\n",
      "11                       license     1.00    1.00\n",
      "18              has_availability     0.00    1.00\n",
      "26            jurisdiction_names     0.00    1.00\n",
      "78  neighbourhood_group_cleansed     0.00    1.00\n",
      "39                   square_feet     0.97    0.98\n",
      "2                  monthly_price     0.60    0.75\n",
      "80           monthly_price_float     0.60    0.75\n",
      "28            weekly_price_float     0.47    0.75\n",
      "55                  weekly_price     0.47    0.75\n",
      "3               security_deposit     0.51    0.63\n",
      "12                         notes     0.42    0.55\n",
      "42         neighborhood_overview     0.27    0.39\n",
      "76                    host_about     0.22    0.37\n",
      "17                       transit     0.24    0.36\n",
      "13                  cleaning_fee     0.27    0.31\n",
      "34                         space     0.15    0.29\n",
      "19        review_scores_accuracy     0.17    0.23\n",
      "58        review_scores_location     0.17    0.23\n",
      "49           review_scores_value     0.17    0.23\n",
      "68         review_scores_checkin     0.17    0.23\n",
      "98     review_scores_cleanliness     0.17    0.23\n",
      "93   review_scores_communication     0.17    0.23\n",
      "79          review_scores_rating     0.17    0.23\n",
      "8              reviews_per_month     0.16    0.21\n",
      "87                   last_review     0.16    0.21\n",
      "88                  first_review     0.16    0.21\n",
      "9                 xl_picture_url     0.08    0.17\n",
      "46                    medium_url     0.08    0.17\n",
      "97                 thumbnail_url     0.08    0.17\n",
      "53                 neighbourhood     0.11    0.15\n",
      "33          host_acceptance_rate     0.20    0.13\n",
      "4             host_response_time     0.14    0.13\n",
      "82            host_response_rate     0.14    0.13\n",
      "69            host_neighbourhood     0.08    0.09\n",
      "45                       summary     0.05    0.04\n",
      "77                       zipcode     0.00    0.01\n",
      "41                     bathrooms     0.00    0.00\n",
      "62                        market     0.00    0.00\n",
      "63                 host_location     0.00    0.00\n",
      "29                      bedrooms     0.00    0.00\n",
      "83                          beds     0.00    0.00\n",
      "96                 property_type     0.00    0.00\n",
      "95                          city     0.00    0.00\n",
      "1         host_identity_verified     0.00    0.00\n",
      "25                host_since_day     0.00    0.00\n",
      "38                     host_name     0.00    0.00\n",
      "43              host_since_month     0.00    0.00\n",
      "52             host_is_superhost     0.00    0.00\n",
      "57     host_total_listings_count     0.00    0.00\n",
      "66                    host_since     0.00    0.00\n",
      "67           host_listings_count     0.00    0.00\n",
      "73              host_picture_url     0.00    0.00\n",
      "74            host_thumbnail_url     0.00    0.00\n",
      "85               host_since_year     0.00    0.00\n",
      "92          host_has_profile_pic     0.00    0.00\n",
      "0                   last_scraped     0.00    0.00\n",
      "5          calendar_last_scraped     0.00    0.00\n",
      "6                          price     0.00    0.00\n",
      "7                        host_id     0.00    0.00\n",
      "10                      latitude     0.00    0.00\n"
     ]
    },
    {
     "data": {
      "text/plain": [
       "['license',\n",
       " 'has_availability',\n",
       " 'jurisdiction_names',\n",
       " 'neighbourhood_group_cleansed',\n",
       " 'square_feet',\n",
       " 'monthly_price',\n",
       " 'monthly_price_float',\n",
       " 'weekly_price_float',\n",
       " 'weekly_price',\n",
       " 'security_deposit',\n",
       " 'notes']"
      ]
     },
     "execution_count": 13,
     "metadata": {},
     "output_type": "execute_result"
    }
   ],
   "source": [
    "# 2.1.5. check missing values after droping columns with more than 50 percent of missing values\n",
    "utils.check_missing_values(listings_df, 0.5)"
   ]
  },
  {
   "cell_type": "markdown",
   "metadata": {},
   "source": [
    "\n",
    "**2.** Check calendar data to use in study price seasonality and time trend"
   ]
  },
  {
   "cell_type": "code",
   "execution_count": 14,
   "metadata": {},
   "outputs": [
    {
     "name": "stdout",
     "output_type": "stream",
     "text": [
      "         index  seattle  boston\n",
      "2        price     0.33    0.51\n",
      "4  price_float     0.33    0.51\n",
      "0   listing_id     0.00    0.00\n",
      "1     date_day     0.00    0.00\n",
      "3    available     0.00    0.00\n",
      "5         date     0.00    0.00\n",
      "6    date_year     0.00    0.00\n",
      "7   date_month     0.00    0.00\n",
      "8       boston     0.00    0.00\n"
     ]
    },
    {
     "data": {
      "text/plain": [
       "['price', 'price_float']"
      ]
     },
     "execution_count": 14,
     "metadata": {},
     "output_type": "execute_result"
    }
   ],
   "source": [
    "# 2.2.1. Check missing data in calendar df\n",
    "utils.check_missing_values(calendar_df, 0.5) "
   ]
  },
  {
   "cell_type": "markdown",
   "metadata": {},
   "source": [
    "#### Step 3. Clean data: \n",
    "**1.** Remove irrelevant columns and columns where missing values exceed 50 percent in listing_df\n"
   ]
  },
  {
   "cell_type": "code",
   "execution_count": 15,
   "metadata": {},
   "outputs": [],
   "source": [
    "# 3.1.1. drop url and scrapping related columns\n",
    "listings_df = utils.drop_specified_columns('url', listings_df)\n",
    "listings_df = utils.drop_specified_columns('scrap', listings_df)"
   ]
  },
  {
   "cell_type": "code",
   "execution_count": 16,
   "metadata": {},
   "outputs": [],
   "source": [
    "# 3.1.2. drop non informative columns\n",
    "# exclude_colums is the list of columsn that contains information that is not useful in prediction of the price\n",
    "exclude_columns = ['id'\n",
    "                , 'host_id'\n",
    "                , 'host_listings_count'\n",
    "                , 'host_total_listings_count'\n",
    "                , 'neighborhood_overview'\n",
    "                , 'host_neighbourhood'\n",
    "                , 'host_about'\n",
    "                , 'transit'\n",
    "                , 'neighbourhood'\n",
    "                , 'latitude'\n",
    "                , 'longitude'\n",
    "                , 'last_review'\n",
    "                , 'first_review'\n",
    "                , 'summary'\n",
    "                , 'zipcode'\n",
    "                , 'host_location'\n",
    "                , 'state'\n",
    "                , 'country'\n",
    "                , 'market'\n",
    "                , 'space'\n",
    "                , 'cleaning_fee'\n",
    "                , 'host_acceptance_rate'\n",
    "                , 'host_response_rate']\n",
    "try:\n",
    "    listings_df = listings_df.drop(columns=exclude_columns)\n",
    "except KeyError:\n",
    "    print('Columns already deleted')"
   ]
  },
  {
   "cell_type": "code",
   "execution_count": 17,
   "metadata": {},
   "outputs": [],
   "source": [
    "# 3.1.3. drop columns that have more than 50% of data missing\n",
    "try:\n",
    "    listings_df = listings_df.drop(columns=columns_with_missing_values)\n",
    "except KeyError:\n",
    "    print('Columns already deleted')"
   ]
  },
  {
   "cell_type": "markdown",
   "metadata": {},
   "source": [
    "**2.** Replace missing values of numeric columns in listing_df with its mean\n",
    "\n"
   ]
  },
  {
   "cell_type": "code",
   "execution_count": 36,
   "metadata": {
    "scrolled": true
   },
   "outputs": [
    {
     "name": "stdout",
     "output_type": "stream",
     "text": [
      "                             index  seattle  boston\n",
      "0                reviews_per_month     0.00    0.00\n",
      "1                 availability_365     0.00    0.00\n",
      "2                     accommodates     0.00    0.00\n",
      "3           review_scores_accuracy     0.00    0.00\n",
      "4   calculated_host_listings_count     0.00    0.00\n",
      "5                         bedrooms     0.00    0.00\n",
      "6                   minimum_nights     0.00    0.00\n",
      "7                        bathrooms     0.00    0.00\n",
      "8                  availability_30     0.00    0.00\n",
      "9              review_scores_value     0.00    0.00\n",
      "10                 availability_90     0.00    0.00\n",
      "11          review_scores_location     0.00    0.00\n",
      "12                 availability_60     0.00    0.00\n",
      "13                  maximum_nights     0.00    0.00\n",
      "14                 guests_included     0.00    0.00\n",
      "15           review_scores_checkin     0.00    0.00\n",
      "16            review_scores_rating     0.00    0.00\n",
      "17                            beds     0.00    0.00\n",
      "18                 host_since_year     0.00    0.00\n",
      "19               number_of_reviews     0.00    0.00\n",
      "20                          boston     0.00    0.00\n",
      "21     review_scores_communication     0.00    0.00\n",
      "22                     price_float     0.00    0.00\n",
      "23       review_scores_cleanliness     0.00    0.00\n"
     ]
    },
    {
     "data": {
      "text/plain": [
       "[]"
      ]
     },
     "execution_count": 36,
     "metadata": {},
     "output_type": "execute_result"
    }
   ],
   "source": [
    "# 3.2.1. replace missing numeric values with mean values for each city\n",
    "numeric_columns = listings_df.select_dtypes(include=['float64','int64']).columns\n",
    "boston_listing_df = listings_df[listings_df['boston'] == 1].reset_index(drop=True)\n",
    "seattle_listing_df = listings_df[listings_df['boston'] == 0].reset_index(drop=True)\n",
    "\n",
    "def fillna_with_mean(numeric_series):\n",
    "    \"\"\"\n",
    "    Function to fill nans of numeric series with its mean\n",
    "    :param data: numeric series\n",
    "    :return: numeric series with nans replaced by its mean\n",
    "    \"\"\"\n",
    "    numeric_series = numeric_series.fillna(numeric_series.mean())\n",
    "    return numeric_series\n",
    "\n",
    "\n",
    "# fill numeric nans with means\n",
    "for col in numeric_columns:\n",
    "    boston_listing_df[col] = fillna_with_mean(boston_listing_df[col])\n",
    "    seattle_listing_df[col] = fillna_with_mean(seattle_listing_df[col])\n",
    "    \n",
    "filled_listings_df = pd.concat([boston_listing_df, seattle_listing_df]).reset_index(drop=True)\n",
    "\n",
    "# check that numeric columns have nans filled\n",
    "utils.check_missing_values(filled_listings_df.select_dtypes(include=['float64','int64']), 0.5)  "
   ]
  },
  {
   "cell_type": "code",
   "execution_count": 37,
   "metadata": {},
   "outputs": [
    {
     "name": "stdout",
     "output_type": "stream",
     "text": [
      "                               index  seattle  boston\n",
      "1                 host_response_time     0.14    0.13\n",
      "29                     property_type     0.00    0.00\n",
      "28                              city     0.00    0.00\n",
      "0             host_identity_verified     0.00    0.00\n",
      "6                     host_since_day     0.00    0.00\n",
      "11                         host_name     0.00    0.00\n",
      "13                  host_since_month     0.00    0.00\n",
      "16                 host_is_superhost     0.00    0.00\n",
      "20                        host_since     0.00    0.00\n",
      "27              host_has_profile_pic     0.00    0.00\n",
      "2                              price     0.00    0.00\n",
      "3      require_guest_profile_picture     0.00    0.00\n",
      "4                experiences_offered     0.00    0.00\n",
      "5                       country_code     0.00    0.00\n",
      "7                               name     0.00    0.00\n",
      "8                           bed_type     0.00    0.00\n",
      "9                cancellation_policy     0.00    0.00\n",
      "10                  calendar_updated     0.00    0.00\n",
      "12                  requires_license     0.00    0.00\n",
      "14                            street     0.00    0.00\n",
      "15                         amenities     0.00    0.00\n",
      "17                  instant_bookable     0.00    0.00\n",
      "18  require_guest_phone_verification     0.00    0.00\n",
      "19                      extra_people     0.00    0.00\n",
      "21                       description     0.00    0.00\n",
      "22                 is_location_exact     0.00    0.00\n",
      "23                         room_type     0.00    0.00\n",
      "24                    smart_location     0.00    0.00\n",
      "25            neighbourhood_cleansed     0.00    0.00\n",
      "26                host_verifications     0.00    0.00\n",
      "30                            boston     0.00    0.00\n"
     ]
    },
    {
     "data": {
      "text/plain": [
       "(6404, 54)"
      ]
     },
     "execution_count": 37,
     "metadata": {},
     "output_type": "execute_result"
    }
   ],
   "source": [
    "# 3.2.2. drop records where categorical variables are missing in listing_df\n",
    "\n",
    "# check what categorical variables have missing values\n",
    "utils.check_missing_values(filled_listings_df[list(filled_listings_df.select_dtypes(include=['object']).columns) + ['boston']], 0.5)  \n",
    "# The only column that has missing values is host_response_time\n",
    "# Only about 14% is missing from each city data\n",
    "# Since I am interested in the impact of this variable in the price and there are only 14% of missing data \n",
    "# I can drop the records with missing data without loosing a lot of variation in the data\n",
    "filled_cleaned_listings_df = filled_listings_df.dropna()\n",
    "filled_cleaned_listings_df.shape"
   ]
  },
  {
   "cell_type": "markdown",
   "metadata": {},
   "source": [
    "**3.** Drop irrelevant columns and records with missing values in calendar_df"
   ]
  },
  {
   "cell_type": "code",
   "execution_count": 33,
   "metadata": {},
   "outputs": [
    {
     "ename": "KeyError",
     "evalue": "\"['listing_id' 'date_day' 'date' 'available' 'price'] not found in axis\"",
     "output_type": "error",
     "traceback": [
      "\u001b[0;31m---------------------------------------------------------------------------\u001b[0m",
      "\u001b[0;31mKeyError\u001b[0m                                  Traceback (most recent call last)",
      "\u001b[0;32m<ipython-input-33-9c9b59b87dad>\u001b[0m in \u001b[0;36m<module>\u001b[0;34m\u001b[0m\n\u001b[1;32m      1\u001b[0m \u001b[0;31m# 3.3.1. drop irrelevant columns and rows with missing data in calendar_df\u001b[0m\u001b[0;34m\u001b[0m\u001b[0;34m\u001b[0m\u001b[0;34m\u001b[0m\u001b[0m\n\u001b[0;32m----> 2\u001b[0;31m \u001b[0mcalendar_df\u001b[0m \u001b[0;34m=\u001b[0m \u001b[0mcalendar_df\u001b[0m\u001b[0;34m.\u001b[0m\u001b[0mdrop\u001b[0m\u001b[0;34m(\u001b[0m\u001b[0mcolumns\u001b[0m\u001b[0;34m=\u001b[0m\u001b[0;34m[\u001b[0m\u001b[0;34m'listing_id'\u001b[0m\u001b[0;34m,\u001b[0m\u001b[0;34m'date_day'\u001b[0m\u001b[0;34m,\u001b[0m\u001b[0;34m'date'\u001b[0m\u001b[0;34m,\u001b[0m\u001b[0;34m'available'\u001b[0m\u001b[0;34m,\u001b[0m\u001b[0;34m'price'\u001b[0m\u001b[0;34m]\u001b[0m\u001b[0;34m)\u001b[0m\u001b[0;34m\u001b[0m\u001b[0;34m\u001b[0m\u001b[0m\n\u001b[0m\u001b[1;32m      3\u001b[0m \u001b[0mcalendar_df\u001b[0m \u001b[0;34m=\u001b[0m \u001b[0mcalendar_df\u001b[0m\u001b[0;34m.\u001b[0m\u001b[0mdropna\u001b[0m\u001b[0;34m(\u001b[0m\u001b[0;34m)\u001b[0m\u001b[0;34m.\u001b[0m\u001b[0mreset_index\u001b[0m\u001b[0;34m(\u001b[0m\u001b[0mdrop\u001b[0m\u001b[0;34m=\u001b[0m\u001b[0;32mTrue\u001b[0m\u001b[0;34m)\u001b[0m\u001b[0;34m\u001b[0m\u001b[0;34m\u001b[0m\u001b[0m\n\u001b[1;32m      4\u001b[0m \u001b[0;31m# even after dropping missing it is a large dataset\u001b[0m\u001b[0;34m\u001b[0m\u001b[0;34m\u001b[0m\u001b[0;34m\u001b[0m\u001b[0m\n\u001b[1;32m      5\u001b[0m \u001b[0mcalendar_df\u001b[0m\u001b[0;34m.\u001b[0m\u001b[0mshape\u001b[0m\u001b[0;34m\u001b[0m\u001b[0;34m\u001b[0m\u001b[0m\n",
      "\u001b[0;32m/Library/Frameworks/Python.framework/Versions/3.6/lib/python3.6/site-packages/pandas/core/frame.py\u001b[0m in \u001b[0;36mdrop\u001b[0;34m(self, labels, axis, index, columns, level, inplace, errors)\u001b[0m\n\u001b[1;32m   4172\u001b[0m             \u001b[0mlevel\u001b[0m\u001b[0;34m=\u001b[0m\u001b[0mlevel\u001b[0m\u001b[0;34m,\u001b[0m\u001b[0;34m\u001b[0m\u001b[0;34m\u001b[0m\u001b[0m\n\u001b[1;32m   4173\u001b[0m             \u001b[0minplace\u001b[0m\u001b[0;34m=\u001b[0m\u001b[0minplace\u001b[0m\u001b[0;34m,\u001b[0m\u001b[0;34m\u001b[0m\u001b[0;34m\u001b[0m\u001b[0m\n\u001b[0;32m-> 4174\u001b[0;31m             \u001b[0merrors\u001b[0m\u001b[0;34m=\u001b[0m\u001b[0merrors\u001b[0m\u001b[0;34m,\u001b[0m\u001b[0;34m\u001b[0m\u001b[0;34m\u001b[0m\u001b[0m\n\u001b[0m\u001b[1;32m   4175\u001b[0m         )\n\u001b[1;32m   4176\u001b[0m \u001b[0;34m\u001b[0m\u001b[0m\n",
      "\u001b[0;32m/Library/Frameworks/Python.framework/Versions/3.6/lib/python3.6/site-packages/pandas/core/generic.py\u001b[0m in \u001b[0;36mdrop\u001b[0;34m(self, labels, axis, index, columns, level, inplace, errors)\u001b[0m\n\u001b[1;32m   3887\u001b[0m         \u001b[0;32mfor\u001b[0m \u001b[0maxis\u001b[0m\u001b[0;34m,\u001b[0m \u001b[0mlabels\u001b[0m \u001b[0;32min\u001b[0m \u001b[0maxes\u001b[0m\u001b[0;34m.\u001b[0m\u001b[0mitems\u001b[0m\u001b[0;34m(\u001b[0m\u001b[0;34m)\u001b[0m\u001b[0;34m:\u001b[0m\u001b[0;34m\u001b[0m\u001b[0;34m\u001b[0m\u001b[0m\n\u001b[1;32m   3888\u001b[0m             \u001b[0;32mif\u001b[0m \u001b[0mlabels\u001b[0m \u001b[0;32mis\u001b[0m \u001b[0;32mnot\u001b[0m \u001b[0;32mNone\u001b[0m\u001b[0;34m:\u001b[0m\u001b[0;34m\u001b[0m\u001b[0;34m\u001b[0m\u001b[0m\n\u001b[0;32m-> 3889\u001b[0;31m                 \u001b[0mobj\u001b[0m \u001b[0;34m=\u001b[0m \u001b[0mobj\u001b[0m\u001b[0;34m.\u001b[0m\u001b[0m_drop_axis\u001b[0m\u001b[0;34m(\u001b[0m\u001b[0mlabels\u001b[0m\u001b[0;34m,\u001b[0m \u001b[0maxis\u001b[0m\u001b[0;34m,\u001b[0m \u001b[0mlevel\u001b[0m\u001b[0;34m=\u001b[0m\u001b[0mlevel\u001b[0m\u001b[0;34m,\u001b[0m \u001b[0merrors\u001b[0m\u001b[0;34m=\u001b[0m\u001b[0merrors\u001b[0m\u001b[0;34m)\u001b[0m\u001b[0;34m\u001b[0m\u001b[0;34m\u001b[0m\u001b[0m\n\u001b[0m\u001b[1;32m   3890\u001b[0m \u001b[0;34m\u001b[0m\u001b[0m\n\u001b[1;32m   3891\u001b[0m         \u001b[0;32mif\u001b[0m \u001b[0minplace\u001b[0m\u001b[0;34m:\u001b[0m\u001b[0;34m\u001b[0m\u001b[0;34m\u001b[0m\u001b[0m\n",
      "\u001b[0;32m/Library/Frameworks/Python.framework/Versions/3.6/lib/python3.6/site-packages/pandas/core/generic.py\u001b[0m in \u001b[0;36m_drop_axis\u001b[0;34m(self, labels, axis, level, errors)\u001b[0m\n\u001b[1;32m   3921\u001b[0m                 \u001b[0mnew_axis\u001b[0m \u001b[0;34m=\u001b[0m \u001b[0maxis\u001b[0m\u001b[0;34m.\u001b[0m\u001b[0mdrop\u001b[0m\u001b[0;34m(\u001b[0m\u001b[0mlabels\u001b[0m\u001b[0;34m,\u001b[0m \u001b[0mlevel\u001b[0m\u001b[0;34m=\u001b[0m\u001b[0mlevel\u001b[0m\u001b[0;34m,\u001b[0m \u001b[0merrors\u001b[0m\u001b[0;34m=\u001b[0m\u001b[0merrors\u001b[0m\u001b[0;34m)\u001b[0m\u001b[0;34m\u001b[0m\u001b[0;34m\u001b[0m\u001b[0m\n\u001b[1;32m   3922\u001b[0m             \u001b[0;32melse\u001b[0m\u001b[0;34m:\u001b[0m\u001b[0;34m\u001b[0m\u001b[0;34m\u001b[0m\u001b[0m\n\u001b[0;32m-> 3923\u001b[0;31m                 \u001b[0mnew_axis\u001b[0m \u001b[0;34m=\u001b[0m \u001b[0maxis\u001b[0m\u001b[0;34m.\u001b[0m\u001b[0mdrop\u001b[0m\u001b[0;34m(\u001b[0m\u001b[0mlabels\u001b[0m\u001b[0;34m,\u001b[0m \u001b[0merrors\u001b[0m\u001b[0;34m=\u001b[0m\u001b[0merrors\u001b[0m\u001b[0;34m)\u001b[0m\u001b[0;34m\u001b[0m\u001b[0;34m\u001b[0m\u001b[0m\n\u001b[0m\u001b[1;32m   3924\u001b[0m             \u001b[0mresult\u001b[0m \u001b[0;34m=\u001b[0m \u001b[0mself\u001b[0m\u001b[0;34m.\u001b[0m\u001b[0mreindex\u001b[0m\u001b[0;34m(\u001b[0m\u001b[0;34m**\u001b[0m\u001b[0;34m{\u001b[0m\u001b[0maxis_name\u001b[0m\u001b[0;34m:\u001b[0m \u001b[0mnew_axis\u001b[0m\u001b[0;34m}\u001b[0m\u001b[0;34m)\u001b[0m\u001b[0;34m\u001b[0m\u001b[0;34m\u001b[0m\u001b[0m\n\u001b[1;32m   3925\u001b[0m \u001b[0;34m\u001b[0m\u001b[0m\n",
      "\u001b[0;32m/Library/Frameworks/Python.framework/Versions/3.6/lib/python3.6/site-packages/pandas/core/indexes/base.py\u001b[0m in \u001b[0;36mdrop\u001b[0;34m(self, labels, errors)\u001b[0m\n\u001b[1;32m   5285\u001b[0m         \u001b[0;32mif\u001b[0m \u001b[0mmask\u001b[0m\u001b[0;34m.\u001b[0m\u001b[0many\u001b[0m\u001b[0;34m(\u001b[0m\u001b[0;34m)\u001b[0m\u001b[0;34m:\u001b[0m\u001b[0;34m\u001b[0m\u001b[0;34m\u001b[0m\u001b[0m\n\u001b[1;32m   5286\u001b[0m             \u001b[0;32mif\u001b[0m \u001b[0merrors\u001b[0m \u001b[0;34m!=\u001b[0m \u001b[0;34m\"ignore\"\u001b[0m\u001b[0;34m:\u001b[0m\u001b[0;34m\u001b[0m\u001b[0;34m\u001b[0m\u001b[0m\n\u001b[0;32m-> 5287\u001b[0;31m                 \u001b[0;32mraise\u001b[0m \u001b[0mKeyError\u001b[0m\u001b[0;34m(\u001b[0m\u001b[0;34mf\"{labels[mask]} not found in axis\"\u001b[0m\u001b[0;34m)\u001b[0m\u001b[0;34m\u001b[0m\u001b[0;34m\u001b[0m\u001b[0m\n\u001b[0m\u001b[1;32m   5288\u001b[0m             \u001b[0mindexer\u001b[0m \u001b[0;34m=\u001b[0m \u001b[0mindexer\u001b[0m\u001b[0;34m[\u001b[0m\u001b[0;34m~\u001b[0m\u001b[0mmask\u001b[0m\u001b[0;34m]\u001b[0m\u001b[0;34m\u001b[0m\u001b[0;34m\u001b[0m\u001b[0m\n\u001b[1;32m   5289\u001b[0m         \u001b[0;32mreturn\u001b[0m \u001b[0mself\u001b[0m\u001b[0;34m.\u001b[0m\u001b[0mdelete\u001b[0m\u001b[0;34m(\u001b[0m\u001b[0mindexer\u001b[0m\u001b[0;34m)\u001b[0m\u001b[0;34m\u001b[0m\u001b[0;34m\u001b[0m\u001b[0m\n",
      "\u001b[0;31mKeyError\u001b[0m: \"['listing_id' 'date_day' 'date' 'available' 'price'] not found in axis\""
     ]
    }
   ],
   "source": [
    "# 3.3.1. drop irrelevant columns and rows with missing data in calendar_df\n",
    "calendar_df = calendar_df.drop(columns=['listing_id','date_day','date','available','price'])\n",
    "calendar_df = calendar_df.dropna().reset_index(drop=True)\n",
    "# even after dropping missing it is a large dataset\n",
    "calendar_df.shape"
   ]
  },
  {
   "cell_type": "markdown",
   "metadata": {},
   "source": [
    "#### Step 4. Analyze and Visualize data\n",
    "**1.** Visualize differences in numeric listing_df data between two\n"
   ]
  },
  {
   "cell_type": "code",
   "execution_count": 21,
   "metadata": {},
   "outputs": [
    {
     "name": "stdout",
     "output_type": "stream",
     "text": [
      "\n",
      " Describe reviews_per_month\n",
      "   index  reviews_per_month_seattle  reviews_per_month-boston\n",
      "0  count                    3294.00                   3110.00\n",
      "1   mean                       2.20                      2.09\n",
      "2    std                       1.73                      1.97\n",
      "3    min                       0.03                      0.01\n",
      "4    25%                       0.92                      0.73\n",
      "5    50%                       2.04                      1.90\n",
      "6    75%                       2.93                      2.48\n",
      "7    max                      12.15                     19.15\n",
      "\n",
      " Describe availability_365\n",
      "   index  availability_365_seattle  availability_365-boston\n",
      "0  count                   3294.00                  3110.00\n",
      "1   mean                    250.67                   198.77\n",
      "2    std                    124.27                   136.25\n",
      "3    min                      0.00                     0.00\n",
      "4    25%                    138.25                    59.00\n",
      "5    50%                    317.00                   245.00\n",
      "6    75%                    359.00                   329.75\n",
      "7    max                    365.00                   365.00\n",
      "\n",
      " Describe accommodates\n",
      "   index  accommodates_seattle  accommodates-boston\n",
      "0  count               3294.00              3110.00\n",
      "1   mean                  3.39                 3.09\n",
      "2    std                  1.99                 1.82\n",
      "3    min                  1.00                 1.00\n",
      "4    25%                  2.00                 2.00\n",
      "5    50%                  3.00                 2.00\n",
      "6    75%                  4.00                 4.00\n",
      "7    max                 16.00                16.00\n",
      "\n",
      " Describe review_scores_accuracy\n",
      "   index  review_scores_accuracy_seattle  review_scores_accuracy-boston\n",
      "0  count                         3294.00                        3110.00\n",
      "1   mean                            9.64                           9.44\n",
      "2    std                            0.65                           0.81\n",
      "3    min                            2.00                           2.00\n",
      "4    25%                            9.64                           9.00\n",
      "5    50%                           10.00                           9.43\n",
      "6    75%                           10.00                          10.00\n",
      "7    max                           10.00                          10.00\n",
      "\n",
      " Describe calculated_host_listings_count\n",
      "   index  calculated_host_listings_count_seattle  calculated_host_listings_count-boston\n",
      "0  count                                 3294.00                                3110.00\n",
      "1   mean                                    3.24                                  14.49\n",
      "2    std                                    6.29                                  31.19\n",
      "3    min                                    1.00                                   1.00\n",
      "4    25%                                    1.00                                   1.00\n",
      "5    50%                                    1.00                                   2.00\n",
      "6    75%                                    2.00                                   7.00\n",
      "7    max                                   37.00                                 136.00\n",
      "\n",
      " Describe bedrooms\n",
      "   index  bedrooms_seattle  bedrooms-boston\n",
      "0  count           3294.00          3110.00\n",
      "1   mean              1.30             1.26\n",
      "2    std              0.87             0.76\n",
      "3    min              0.00             0.00\n",
      "4    25%              1.00             1.00\n",
      "5    50%              1.00             1.00\n",
      "6    75%              2.00             2.00\n",
      "7    max              7.00             5.00\n",
      "\n",
      " Describe minimum_nights\n",
      "   index  minimum_nights_seattle  minimum_nights-boston\n",
      "0  count                 3294.00                3110.00\n",
      "1   mean                    2.39                   3.15\n",
      "2    std                   17.53                   7.73\n",
      "3    min                    1.00                   1.00\n",
      "4    25%                    1.00                   1.00\n",
      "5    50%                    2.00                   2.00\n",
      "6    75%                    2.00                   3.00\n",
      "7    max                 1000.00                 273.00\n",
      "\n",
      " Describe bathrooms\n",
      "   index  bathrooms_seattle  bathrooms-boston\n",
      "0  count            3294.00           3110.00\n",
      "1   mean               1.26              1.23\n",
      "2    std               0.59              0.51\n",
      "3    min               0.00              0.00\n",
      "4    25%               1.00              1.00\n",
      "5    50%               1.00              1.00\n",
      "6    75%               1.00              1.00\n",
      "7    max               8.00              6.00\n",
      "\n",
      " Describe availability_30\n",
      "   index  availability_30_seattle  availability_30-boston\n",
      "0  count                  3294.00                 3110.00\n",
      "1   mean                    17.67                    9.60\n",
      "2    std                    11.64                   10.53\n",
      "3    min                     0.00                    0.00\n",
      "4    25%                     5.00                    0.00\n",
      "5    50%                    21.00                    5.00\n",
      "6    75%                    30.00                   17.00\n",
      "7    max                    30.00                   30.00\n",
      "\n",
      " Describe review_scores_value\n",
      "   index  review_scores_value_seattle  review_scores_value-boston\n",
      "0  count                      3294.00                     3110.00\n",
      "1   mean                         9.45                        9.17\n",
      "2    std                         0.69                        0.89\n",
      "3    min                         2.00                        2.00\n",
      "4    25%                         9.00                        9.00\n",
      "5    50%                         9.45                        9.17\n",
      "6    75%                        10.00                       10.00\n",
      "7    max                        10.00                       10.00\n",
      "\n",
      " Describe availability_90\n",
      "   index  availability_90_seattle  availability_90-boston\n",
      "0  count                  3294.00                 3110.00\n",
      "1   mean                    61.19                   42.99\n",
      "2    std                    31.84                   32.05\n",
      "3    min                     0.00                    0.00\n",
      "4    25%                    40.00                    8.00\n",
      "5    50%                    75.00                   44.00\n",
      "6    75%                    89.00                   72.00\n",
      "7    max                    90.00                   90.00\n",
      "\n",
      " Describe review_scores_location\n",
      "   index  review_scores_location_seattle  review_scores_location-boston\n",
      "0  count                         3294.00                        3110.00\n",
      "1   mean                            9.61                           9.41\n",
      "2    std                            0.58                           0.81\n",
      "3    min                            4.00                           2.00\n",
      "4    25%                            9.00                           9.00\n",
      "5    50%                           10.00                           9.41\n",
      "6    75%                           10.00                          10.00\n",
      "7    max                           10.00                          10.00\n",
      "\n",
      " Describe availability_60\n",
      "   index  availability_60_seattle  availability_60-boston\n",
      "0  count                  3294.00                 3110.00\n",
      "1   mean                    38.83                   24.32\n",
      "2    std                    22.00                   21.63\n",
      "3    min                     0.00                    0.00\n",
      "4    25%                    23.00                    2.00\n",
      "5    50%                    48.00                   20.50\n",
      "6    75%                    59.00                   43.75\n",
      "7    max                    60.00                   60.00\n",
      "\n",
      " Describe maximum_nights\n",
      "   index  maximum_nights_seattle  maximum_nights-boston\n",
      "0  count                 3294.00                3110.00\n",
      "1   mean                  749.84               32979.77\n",
      "2    std                  505.05             1793148.40\n",
      "3    min                    1.00                   1.00\n",
      "4    25%                   60.00                 365.00\n",
      "5    50%                 1125.00                1125.00\n",
      "6    75%                 1125.00                1125.00\n",
      "7    max                 1825.00            99999999.00\n",
      "\n",
      " Describe guests_included\n",
      "   index  guests_included_seattle  guests_included-boston\n",
      "0  count                  3294.00                 3110.00\n",
      "1   mean                     1.70                    1.46\n",
      "2    std                     1.33                    1.10\n",
      "3    min                     0.00                    0.00\n",
      "4    25%                     1.00                    1.00\n",
      "5    50%                     1.00                    1.00\n",
      "6    75%                     2.00                    2.00\n",
      "7    max                    15.00                   14.00\n",
      "\n",
      " Describe review_scores_checkin\n"
     ]
    },
    {
     "name": "stdout",
     "output_type": "stream",
     "text": [
      "   index  review_scores_checkin_seattle  review_scores_checkin-boston\n",
      "0  count                        3294.00                       3110.00\n",
      "1   mean                           9.78                          9.65\n",
      "2    std                           0.56                          0.68\n",
      "3    min                           2.00                          2.00\n",
      "4    25%                           9.79                          9.65\n",
      "5    50%                          10.00                         10.00\n",
      "6    75%                          10.00                         10.00\n",
      "7    max                          10.00                         10.00\n",
      "\n",
      " Describe review_scores_rating\n",
      "   index  review_scores_rating_seattle  review_scores_rating-boston\n",
      "0  count                       3294.00                      3110.00\n",
      "1   mean                         94.54                        92.02\n",
      "2    std                          6.08                         8.12\n",
      "3    min                         20.00                        20.00\n",
      "4    25%                         93.00                        90.00\n",
      "5    50%                         95.00                        93.00\n",
      "6    75%                         98.00                        97.00\n",
      "7    max                        100.00                       100.00\n",
      "\n",
      " Describe beds\n",
      "   index  beds_seattle  beds-boston\n",
      "0  count       3294.00      3110.00\n",
      "1   mean          1.75         1.63\n",
      "2    std          1.15         1.04\n",
      "3    min          1.00         0.00\n",
      "4    25%          1.00         1.00\n",
      "5    50%          1.00         1.00\n",
      "6    75%          2.00         2.00\n",
      "7    max         15.00        16.00\n",
      "\n",
      " Describe host_since_year\n",
      "   index  host_since_year_seattle  host_since_year-boston\n",
      "0  count                  3294.00                 3110.00\n",
      "1   mean                  2013.17                 2013.69\n",
      "2    std                     1.55                    1.76\n",
      "3    min                  2008.00                 2008.00\n",
      "4    25%                  2012.00                 2013.00\n",
      "5    50%                  2013.00                 2014.00\n",
      "6    75%                  2014.00                 2015.00\n",
      "7    max                  2015.00                 2016.00\n",
      "\n",
      " Describe number_of_reviews\n",
      "   index  number_of_reviews_seattle  number_of_reviews-boston\n",
      "0  count                    3294.00                   3110.00\n",
      "1   mean                      24.65                     21.59\n",
      "2    std                      39.58                     37.49\n",
      "3    min                       0.00                      0.00\n",
      "4    25%                       2.00                      1.00\n",
      "5    50%                      11.00                      7.00\n",
      "6    75%                      29.00                     24.00\n",
      "7    max                     474.00                    404.00\n",
      "\n",
      " Describe boston\n",
      "   index  boston_seattle  boston-boston\n",
      "0  count         3294.00        3110.00\n",
      "1   mean            0.00           1.00\n",
      "2    std            0.00           0.00\n",
      "3    min            0.00           1.00\n",
      "4    25%            0.00           1.00\n",
      "5    50%            0.00           1.00\n",
      "6    75%            0.00           1.00\n",
      "7    max            0.00           1.00\n",
      "\n",
      " Describe review_scores_communication\n",
      "   index  review_scores_communication_seattle  review_scores_communication-boston\n",
      "0  count                              3294.00                             3110.00\n",
      "1   mean                                 9.81                                9.65\n",
      "2    std                                 0.54                                0.65\n",
      "3    min                                 2.00                                4.00\n",
      "4    25%                                 9.81                                9.65\n",
      "5    50%                                10.00                               10.00\n",
      "6    75%                                10.00                               10.00\n",
      "7    max                                10.00                               10.00\n",
      "\n",
      " Describe price_float\n",
      "   index  price_float_seattle  price_float-boston\n",
      "0  count              3294.00             3110.00\n",
      "1   mean               124.62              171.25\n",
      "2    std                87.82              116.70\n",
      "3    min                22.00               10.00\n",
      "4    25%                72.00               85.00\n",
      "5    50%               100.00              150.00\n",
      "6    75%               150.00              220.00\n",
      "7    max               999.00             1345.00\n",
      "\n",
      " Describe review_scores_cleanliness\n",
      "   index  review_scores_cleanliness_seattle  review_scores_cleanliness-boston\n",
      "0  count                            3294.00                           3110.00\n",
      "1   mean                               9.57                              9.28\n",
      "2    std                               0.72                              1.00\n",
      "3    min                               4.00                              2.00\n",
      "4    25%                               9.00                              9.00\n",
      "5    50%                              10.00                              9.26\n",
      "6    75%                              10.00                             10.00\n",
      "7    max                              10.00                             10.00\n"
     ]
    }
   ],
   "source": [
    "# 4.1. describe all numeric columns in both cities\n",
    "utils.compare_all_float_columns(filled_cleaned_listings_df)\n",
    "#Boston has larger minimum_nights mean\n",
    "#Boston has lower review scores mean\n",
    "#Boston has higher mean price\n",
    "#Boston has less beds mean"
   ]
  },
  {
   "cell_type": "code",
   "execution_count": 22,
   "metadata": {
    "scrolled": false
   },
   "outputs": [
    {
     "name": "stdout",
     "output_type": "stream",
     "text": [
      "                             mean-seattle  mean-boston\n",
      "minimum_nights                       2.39         3.15\n",
      "bedrooms                             1.30         1.26\n",
      "bathrooms                            1.26         1.23\n",
      "guests_included                      1.70         1.46\n",
      "accommodates                         3.39         3.09\n",
      "reviews_per_month                    2.20         2.09\n",
      "review_scores_accuracy               9.64         9.44\n",
      "review_scores_value                  9.45         9.17\n",
      "review_scores_location               9.61         9.41\n",
      "review_scores_checkin                9.78         9.65\n",
      "number_of_reviews                   24.65        21.59\n",
      "review_scores_communication          9.81         9.65\n",
      "review_scores_cleanliness            9.57         9.28\n"
     ]
    },
    {
     "data": {
      "image/png": "[encoded data removed]",
      "text/plain": [
       "<Figure size 432x288 with 1 Axes>"
      ]
     },
     "metadata": {
      "needs_background": "light"
     },
     "output_type": "display_data"
    },
    {
     "name": "stdout",
     "output_type": "stream",
     "text": [
      "             mean-seattle  mean-boston\n",
      "price_float        124.62       171.25\n"
     ]
    },
    {
     "data": {
      "image/png": "[encoded data removed]",
      "text/plain": [
       "<Figure size 432x288 with 1 Axes>"
      ]
     },
     "metadata": {
      "needs_background": "light"
     },
     "output_type": "display_data"
    },
    {
     "name": "stdout",
     "output_type": "stream",
     "text": [
      "                      mean-seattle  mean-boston\n",
      "review_scores_rating         94.54        92.02\n"
     ]
    },
    {
     "data": {
      "image/png": "[encoded data removed]",
      "text/plain": [
       "<Figure size 432x288 with 1 Axes>"
      ]
     },
     "metadata": {
      "needs_background": "light"
     },
     "output_type": "display_data"
    }
   ],
   "source": [
    "# summarize price, reviews and property attributes in a single summary\n",
    "# create list of columns containing review string\n",
    "review_columns = [col for col in filled_cleaned_listings_df.columns if 'review' in col] \n",
    "\n",
    "# create list of additional columns of interest\n",
    "specific_columns = ['minimum_nights'\n",
    "                   , 'bedrooms'\n",
    "                   , 'bathrooms'\n",
    "                   , 'guests_included'\n",
    "                   , 'accommodates']\n",
    "\n",
    "# create a combine list of numeric columns of interest\n",
    "numeric_columns_to_describe = specific_columns + review_columns\n",
    "\n",
    "# review_scores_rating has different magnitude so should be plotted seprately\n",
    "numeric_columns_to_describe.remove('review_scores_rating')\n",
    "\n",
    "# compare selected numeric columns\n",
    "utils.compare_specified_float_columns(filled_cleaned_listings_df, numeric_columns_to_describe, 'mean')\n",
    "\n",
    "# compare price\n",
    "utils.compare_specified_float_columns(filled_cleaned_listings_df, ['price_float'], 'mean')\n",
    "\n",
    "# compare review score\n",
    "utils.compare_specified_float_columns(filled_cleaned_listings_df, ['review_scores_rating'], 'mean')\n",
    "\n",
    "# create list of numeric columns to use in analysis\n",
    "numeric_columns_to_describe = numeric_columns_to_describe + ['host_since_year', 'review_scores_rating']\n",
    "# Price mean is higher in Boston but raitings mean is higher in Seattle"
   ]
  },
  {
   "cell_type": "markdown",
   "metadata": {},
   "source": [
    "**2.** Visualize difference in prices depending on categorical data\n"
   ]
  },
  {
   "cell_type": "code",
   "execution_count": 27,
   "metadata": {},
   "outputs": [
    {
     "name": "stdout",
     "output_type": "stream",
     "text": [
      "{'room_type', 'bed_type', 'host_response_time', 'cancellation_policy', 'instant_bookable', 'host_identity_verified', 'host_has_profile_pic', 'require_guest_phone_verification', 'require_guest_profile_picture', 'host_is_superhost', 'is_location_exact'}\n"
     ]
    }
   ],
   "source": [
    "# 4.2. describe relationship between price and categorical values between two cities\n",
    "\n",
    "# create list of string columns that have up to 6 different values in oder to make categorical predictors\n",
    "values_freq = {}\n",
    "for col in filled_cleaned_listings_df.select_dtypes(include=['object']):\n",
    "    values_freq[col] = len(filled_cleaned_listings_df[col].drop_duplicates())\n",
    "values_freq = {k: v for k, v in sorted(values_freq.items(), key=lambda item: item[1], reverse=False)}\n",
    "\n",
    "# judjing by the amount of the distinct values in the categorical columns it makes sense to use only those with\n",
    "# less of 6 distinct values as columns with more distinct values would create \n",
    "# a large amount of dimentions while not adding much to explanatory power\n",
    "values_freq = {k: v for k, v in filter(lambda item: 1 < item[1] < 6, values_freq.items())}\n",
    "categorical_columns_to_describe = set(values_freq.keys())\n",
    "print(categorical_columns_to_describe)"
   ]
  },
  {
   "cell_type": "code",
   "execution_count": 24,
   "metadata": {
    "scrolled": true
   },
   "outputs": [
    {
     "data": {
      "image/png": "[encoded data removed]",
      "text/plain": [
       "<Figure size 432x288 with 1 Axes>"
      ]
     },
     "metadata": {
      "needs_background": "light"
     },
     "output_type": "display_data"
    },
    {
     "data": {
      "image/png": "[encoded data removed]",
      "text/plain": [
       "<Figure size 432x288 with 1 Axes>"
      ]
     },
     "metadata": {
      "needs_background": "light"
     },
     "output_type": "display_data"
    },
    {
     "data": {
      "image/png": "[encoded data removed]",
      "text/plain": [
       "<Figure size 432x288 with 1 Axes>"
      ]
     },
     "metadata": {
      "needs_background": "light"
     },
     "output_type": "display_data"
    },
    {
     "data": {
      "image/png": "[encoded data removed]",
      "text/plain": [
       "<Figure size 432x288 with 1 Axes>"
      ]
     },
     "metadata": {
      "needs_background": "light"
     },
     "output_type": "display_data"
    },
    {
     "data": {
      "image/png": "[encoded data removed]",
      "text/plain": [
       "<Figure size 432x288 with 1 Axes>"
      ]
     },
     "metadata": {
      "needs_background": "light"
     },
     "output_type": "display_data"
    },
    {
     "data": {
      "image/png": "[encoded data removed]",
      "text/plain": [
       "<Figure size 432x288 with 1 Axes>"
      ]
     },
     "metadata": {
      "needs_background": "light"
     },
     "output_type": "display_data"
    },
    {
     "data": {
      "image/png": "[encoded data removed]",
      "text/plain": [
       "<Figure size 432x288 with 1 Axes>"
      ]
     },
     "metadata": {
      "needs_background": "light"
     },
     "output_type": "display_data"
    },
    {
     "data": {
      "image/png": "[encoded data removed]",
      "text/plain": [
       "<Figure size 432x288 with 1 Axes>"
      ]
     },
     "metadata": {
      "needs_background": "light"
     },
     "output_type": "display_data"
    },
    {
     "data": {
      "image/png": "[encoded data removed]",
      "text/plain": [
       "<Figure size 432x288 with 1 Axes>"
      ]
     },
     "metadata": {
      "needs_background": "light"
     },
     "output_type": "display_data"
    },
    {
     "data": {
      "image/png": "[encoded data removed]",
      "text/plain": [
       "<Figure size 432x288 with 1 Axes>"
      ]
     },
     "metadata": {
      "needs_background": "light"
     },
     "output_type": "display_data"
    },
    {
     "data": {
      "image/png": "[encoded data removed]",
      "text/plain": [
       "<Figure size 432x288 with 1 Axes>"
      ]
     },
     "metadata": {
      "needs_background": "light"
     },
     "output_type": "display_data"
    }
   ],
   "source": [
    "# compare numeric data across 2 cities grouping on each categorical column of interest\n",
    "for col in categorical_columns_to_describe:\n",
    "    utils.compare_grouby_results(filled_cleaned_listings_df, [col], ['price_float'], 'mean')\n",
    "#Boston has a premium for fast responses but not for the fastest\n",
    "#Boston has super stric policy -> the stricter the policy the more expensive\n",
    "#Super host has little effect\n",
    "#Airbeds in seattle seem to be more appreciated than couches"
   ]
  },
  {
   "cell_type": "code",
   "execution_count": 28,
   "metadata": {},
   "outputs": [
    {
     "name": "stdout",
     "output_type": "stream",
     "text": [
      "{'room_type', 'bed_type', 'host_response_time', 'cancellation_policy', 'instant_bookable', 'host_identity_verified', 'host_has_profile_pic', 'require_guest_phone_verification', 'require_guest_profile_picture', 'host_is_superhost', 'is_location_exact'}\n"
     ]
    }
   ],
   "source": [
    "print(categorical_columns_to_describe)"
   ]
  },
  {
   "cell_type": "markdown",
   "metadata": {},
   "source": [
    "**3.** Create dummies for selected categorical data in listing_df\n"
   ]
  },
  {
   "cell_type": "code",
   "execution_count": 38,
   "metadata": {},
   "outputs": [],
   "source": [
    "# 4.3. create dummies for selected categorical variables\n",
    "# keep only the columns of interest\n",
    "filled_cleaned_listings_df = filled_cleaned_listings_df[['boston', 'price_float'] + list(numeric_columns_to_describe) + list(categorical_columns_to_describe)]\n",
    "\n",
    "for col in categorical_columns_to_describe:\n",
    "    # for each cat add dummy var, drop original column\n",
    "    filled_cleaned_listings_df = pd.concat([filled_cleaned_listings_df.drop(col, axis=1)\n",
    "                                        , pd.get_dummies(filled_cleaned_listings_df[col]\n",
    "                                                         , prefix=col, prefix_sep='_', drop_first=True)], axis=1)\n"
   ]
  },
  {
   "cell_type": "markdown",
   "metadata": {},
   "source": [
    "**4.** Create dummies in calendar_df"
   ]
  },
  {
   "cell_type": "code",
   "execution_count": 39,
   "metadata": {},
   "outputs": [],
   "source": [
    "# 23. Create city, year, city-year interaction dummies in calendar_df\n",
    "calendar_df['2017_year'] = np.where(calendar_df['date_year'] == '2017', 1, 0)\n",
    "calendar_df['2017_year_boston'] = calendar_df['2017_year'].multiply(calendar_df['boston'])"
   ]
  },
  {
   "cell_type": "code",
   "execution_count": 48,
   "metadata": {},
   "outputs": [
    {
     "data": {
      "text/plain": [
       "boston  2017_year  date_month\n",
       "0       0          12            87061\n",
       "                   03            83938\n",
       "                   10            82438\n",
       "                   11            81780\n",
       "                   05            79971\n",
       "                   09            77246\n",
       "                   06            77244\n",
       "                   08            76347\n",
       "                   04            76037\n",
       "                   07            74222\n",
       "                   02            73321\n",
       "                   01            59239\n",
       "        1          01             5698\n",
       "1       0          12            60997\n",
       "                   11            58888\n",
       "                   10            46345\n",
       "                   09            24401\n",
       "        1          01            63181\n",
       "                   02            56810\n",
       "                   08            55561\n",
       "                   03            55181\n",
       "                   07            54963\n",
       "                   05            53600\n",
       "                   06            52731\n",
       "                   04            51382\n",
       "                   09             8997\n",
       "Name: date_month, dtype: int64"
      ]
     },
     "execution_count": 48,
     "metadata": {},
     "output_type": "execute_result"
    }
   ],
   "source": [
    "#Most of Seattle data is coming from 2016 while most of Boston data is from 2017\n",
    "calendar_df.groupby(['boston','2017_year'])['date_month'].value_counts()"
   ]
  },
  {
   "cell_type": "markdown",
   "metadata": {},
   "source": [
    "#### Step 5. Model data\n",
    "\n",
    "**1.** Run linear regression on listings data study the predictors of the prices in two cities"
   ]
  },
  {
   "cell_type": "code",
   "execution_count": 40,
   "metadata": {},
   "outputs": [
    {
     "data": {
      "text/html": [
       "<div>\n",
       "<style scoped>\n",
       "    .dataframe tbody tr th:only-of-type {\n",
       "        vertical-align: middle;\n",
       "    }\n",
       "\n",
       "    .dataframe tbody tr th {\n",
       "        vertical-align: top;\n",
       "    }\n",
       "\n",
       "    .dataframe thead th {\n",
       "        text-align: right;\n",
       "    }\n",
       "</style>\n",
       "<table border=\"1\" class=\"dataframe\">\n",
       "  <thead>\n",
       "    <tr style=\"text-align: right;\">\n",
       "      <th></th>\n",
       "      <th>Coefficient</th>\n",
       "    </tr>\n",
       "  </thead>\n",
       "  <tbody>\n",
       "    <tr>\n",
       "      <th>boston</th>\n",
       "      <td>46.81</td>\n",
       "    </tr>\n",
       "  </tbody>\n",
       "</table>\n",
       "</div>"
      ],
      "text/plain": [
       "        Coefficient\n",
       "boston        46.81"
      ]
     },
     "execution_count": 40,
     "metadata": {},
     "output_type": "execute_result"
    }
   ],
   "source": [
    "# 5.1.1. Check what city is on average more expensive\n",
    "city_results = utils.run_linear_regression(filled_cleaned_listings_df, ['price_float'], ['boston'])\n",
    "city_results['coefficients'].head()\n",
    "#Boston is more expensive"
   ]
  },
  {
   "cell_type": "code",
   "execution_count": 41,
   "metadata": {
    "scrolled": true
   },
   "outputs": [
    {
     "name": "stdout",
     "output_type": "stream",
     "text": [
      "0.05002210382935135\n"
     ]
    }
   ],
   "source": [
    "print(city_results['r2_test'])\n",
    "# Boston seem to be a more expensive city but just having one regressor does not explain much of price volatility"
   ]
  },
  {
   "cell_type": "code",
   "execution_count": 42,
   "metadata": {},
   "outputs": [
    {
     "data": {
      "text/html": [
       "<div>\n",
       "<style scoped>\n",
       "    .dataframe tbody tr th:only-of-type {\n",
       "        vertical-align: middle;\n",
       "    }\n",
       "\n",
       "    .dataframe tbody tr th {\n",
       "        vertical-align: top;\n",
       "    }\n",
       "\n",
       "    .dataframe thead th {\n",
       "        text-align: right;\n",
       "    }\n",
       "</style>\n",
       "<table border=\"1\" class=\"dataframe\">\n",
       "  <thead>\n",
       "    <tr style=\"text-align: right;\">\n",
       "      <th></th>\n",
       "      <th>Coefficient</th>\n",
       "    </tr>\n",
       "  </thead>\n",
       "  <tbody>\n",
       "    <tr>\n",
       "      <th>boston</th>\n",
       "      <td>59.12</td>\n",
       "    </tr>\n",
       "    <tr>\n",
       "      <th>review_scores_location</th>\n",
       "      <td>24.57</td>\n",
       "    </tr>\n",
       "    <tr>\n",
       "      <th>bedrooms</th>\n",
       "      <td>22.41</td>\n",
       "    </tr>\n",
       "    <tr>\n",
       "      <th>bathrooms</th>\n",
       "      <td>21.59</td>\n",
       "    </tr>\n",
       "    <tr>\n",
       "      <th>accommodates</th>\n",
       "      <td>19.83</td>\n",
       "    </tr>\n",
       "    <tr>\n",
       "      <th>review_scores_cleanliness</th>\n",
       "      <td>10.13</td>\n",
       "    </tr>\n",
       "    <tr>\n",
       "      <th>guests_included</th>\n",
       "      <td>2.53</td>\n",
       "    </tr>\n",
       "    <tr>\n",
       "      <th>review_scores_rating</th>\n",
       "      <td>0.82</td>\n",
       "    </tr>\n",
       "    <tr>\n",
       "      <th>review_scores_accuracy</th>\n",
       "      <td>0.68</td>\n",
       "    </tr>\n",
       "    <tr>\n",
       "      <th>minimum_nights</th>\n",
       "      <td>0.15</td>\n",
       "    </tr>\n",
       "    <tr>\n",
       "      <th>number_of_reviews</th>\n",
       "      <td>-0.09</td>\n",
       "    </tr>\n",
       "    <tr>\n",
       "      <th>host_since_year</th>\n",
       "      <td>-1.30</td>\n",
       "    </tr>\n",
       "    <tr>\n",
       "      <th>review_scores_communication</th>\n",
       "      <td>-1.97</td>\n",
       "    </tr>\n",
       "    <tr>\n",
       "      <th>review_scores_checkin</th>\n",
       "      <td>-3.90</td>\n",
       "    </tr>\n",
       "    <tr>\n",
       "      <th>reviews_per_month</th>\n",
       "      <td>-4.62</td>\n",
       "    </tr>\n",
       "    <tr>\n",
       "      <th>review_scores_value</th>\n",
       "      <td>-18.34</td>\n",
       "    </tr>\n",
       "  </tbody>\n",
       "</table>\n",
       "</div>"
      ],
      "text/plain": [
       "                             Coefficient\n",
       "boston                             59.12\n",
       "review_scores_location             24.57\n",
       "bedrooms                           22.41\n",
       "bathrooms                          21.59\n",
       "accommodates                       19.83\n",
       "review_scores_cleanliness          10.13\n",
       "guests_included                     2.53\n",
       "review_scores_rating                0.82\n",
       "review_scores_accuracy              0.68\n",
       "minimum_nights                      0.15\n",
       "number_of_reviews                  -0.09\n",
       "host_since_year                    -1.30\n",
       "review_scores_communication        -1.97\n",
       "review_scores_checkin              -3.90\n",
       "reviews_per_month                  -4.62\n",
       "review_scores_value               -18.34"
      ]
     },
     "execution_count": 42,
     "metadata": {},
     "output_type": "execute_result"
    }
   ],
   "source": [
    "# 5.1.2. Check if reviews are stronger price predictors than bed and bathrooms\n",
    "numeric_results = utils.run_linear_regression(filled_cleaned_listings_df, ['price_float'], ['boston'] + numeric_columns_to_describe)\n",
    "numeric_results['coefficients'].head(len(numeric_columns_to_describe) + 1)\n",
    "# Boston remains a strong predictor of price even holding everything else constant\n",
    "# Bedrooms, accomodates and bathrooms are as stronger predictors than reviews but score of location matters a lot as well\n",
    "# Raiting does not matter\n",
    "# Value score is negaative as expected because if signals a good deal\n",
    "# Having a host with longer experience does not increase prices"
   ]
  },
  {
   "cell_type": "code",
   "execution_count": 43,
   "metadata": {},
   "outputs": [
    {
     "name": "stdout",
     "output_type": "stream",
     "text": [
      "0.5064806505620368\n"
     ]
    }
   ],
   "source": [
    "print(numeric_results['r2_test'])\n",
    "# Boston is a strong predictor of price, quality of location is also important as well as size of the appartment"
   ]
  },
  {
   "cell_type": "code",
   "execution_count": 44,
   "metadata": {},
   "outputs": [
    {
     "data": {
      "text/html": [
       "<div>\n",
       "<style scoped>\n",
       "    .dataframe tbody tr th:only-of-type {\n",
       "        vertical-align: middle;\n",
       "    }\n",
       "\n",
       "    .dataframe tbody tr th {\n",
       "        vertical-align: top;\n",
       "    }\n",
       "\n",
       "    .dataframe thead th {\n",
       "        text-align: right;\n",
       "    }\n",
       "</style>\n",
       "<table border=\"1\" class=\"dataframe\">\n",
       "  <thead>\n",
       "    <tr style=\"text-align: right;\">\n",
       "      <th></th>\n",
       "      <th>Coefficient</th>\n",
       "    </tr>\n",
       "  </thead>\n",
       "  <tbody>\n",
       "    <tr>\n",
       "      <th>cancellation_policy_super_strict_30</th>\n",
       "      <td>130.30</td>\n",
       "    </tr>\n",
       "    <tr>\n",
       "      <th>boston</th>\n",
       "      <td>55.45</td>\n",
       "    </tr>\n",
       "    <tr>\n",
       "      <th>bedrooms</th>\n",
       "      <td>29.04</td>\n",
       "    </tr>\n",
       "    <tr>\n",
       "      <th>bathrooms</th>\n",
       "      <td>28.82</td>\n",
       "    </tr>\n",
       "    <tr>\n",
       "      <th>bed_type_Couch</th>\n",
       "      <td>21.14</td>\n",
       "    </tr>\n",
       "    <tr>\n",
       "      <th>review_scores_location</th>\n",
       "      <td>15.97</td>\n",
       "    </tr>\n",
       "    <tr>\n",
       "      <th>require_guest_phone_verification_t</th>\n",
       "      <td>12.81</td>\n",
       "    </tr>\n",
       "    <tr>\n",
       "      <th>host_is_superhost_t</th>\n",
       "      <td>12.02</td>\n",
       "    </tr>\n",
       "    <tr>\n",
       "      <th>bed_type_Real Bed</th>\n",
       "      <td>10.80</td>\n",
       "    </tr>\n",
       "    <tr>\n",
       "      <th>accommodates</th>\n",
       "      <td>9.11</td>\n",
       "    </tr>\n",
       "    <tr>\n",
       "      <th>review_scores_cleanliness</th>\n",
       "      <td>4.46</td>\n",
       "    </tr>\n",
       "    <tr>\n",
       "      <th>require_guest_profile_picture_t</th>\n",
       "      <td>3.03</td>\n",
       "    </tr>\n",
       "    <tr>\n",
       "      <th>host_since_year</th>\n",
       "      <td>2.94</td>\n",
       "    </tr>\n",
       "    <tr>\n",
       "      <th>guests_included</th>\n",
       "      <td>2.86</td>\n",
       "    </tr>\n",
       "    <tr>\n",
       "      <th>cancellation_policy_strict</th>\n",
       "      <td>2.54</td>\n",
       "    </tr>\n",
       "    <tr>\n",
       "      <th>is_location_exact_t</th>\n",
       "      <td>2.39</td>\n",
       "    </tr>\n",
       "    <tr>\n",
       "      <th>review_scores_rating</th>\n",
       "      <td>0.92</td>\n",
       "    </tr>\n",
       "    <tr>\n",
       "      <th>cancellation_policy_moderate</th>\n",
       "      <td>0.60</td>\n",
       "    </tr>\n",
       "    <tr>\n",
       "      <th>review_scores_accuracy</th>\n",
       "      <td>0.57</td>\n",
       "    </tr>\n",
       "    <tr>\n",
       "      <th>minimum_nights</th>\n",
       "      <td>0.08</td>\n",
       "    </tr>\n",
       "    <tr>\n",
       "      <th>review_scores_communication</th>\n",
       "      <td>-0.00</td>\n",
       "    </tr>\n",
       "    <tr>\n",
       "      <th>number_of_reviews</th>\n",
       "      <td>-0.05</td>\n",
       "    </tr>\n",
       "    <tr>\n",
       "      <th>host_identity_verified_t</th>\n",
       "      <td>-0.38</td>\n",
       "    </tr>\n",
       "    <tr>\n",
       "      <th>bed_type_Futon</th>\n",
       "      <td>-0.53</td>\n",
       "    </tr>\n",
       "    <tr>\n",
       "      <th>bed_type_Pull-out Sofa</th>\n",
       "      <td>-1.06</td>\n",
       "    </tr>\n",
       "    <tr>\n",
       "      <th>review_scores_checkin</th>\n",
       "      <td>-2.78</td>\n",
       "    </tr>\n",
       "    <tr>\n",
       "      <th>instant_bookable_t</th>\n",
       "      <td>-3.14</td>\n",
       "    </tr>\n",
       "    <tr>\n",
       "      <th>reviews_per_month</th>\n",
       "      <td>-3.47</td>\n",
       "    </tr>\n",
       "    <tr>\n",
       "      <th>host_has_profile_pic_t</th>\n",
       "      <td>-10.09</td>\n",
       "    </tr>\n",
       "    <tr>\n",
       "      <th>review_scores_value</th>\n",
       "      <td>-13.79</td>\n",
       "    </tr>\n",
       "    <tr>\n",
       "      <th>host_response_time_within a few hours</th>\n",
       "      <td>-18.45</td>\n",
       "    </tr>\n",
       "    <tr>\n",
       "      <th>host_response_time_within an hour</th>\n",
       "      <td>-26.15</td>\n",
       "    </tr>\n",
       "    <tr>\n",
       "      <th>host_response_time_within a day</th>\n",
       "      <td>-26.72</td>\n",
       "    </tr>\n",
       "    <tr>\n",
       "      <th>room_type_Private room</th>\n",
       "      <td>-62.38</td>\n",
       "    </tr>\n",
       "    <tr>\n",
       "      <th>room_type_Shared room</th>\n",
       "      <td>-64.56</td>\n",
       "    </tr>\n",
       "  </tbody>\n",
       "</table>\n",
       "</div>"
      ],
      "text/plain": [
       "                                       Coefficient\n",
       "cancellation_policy_super_strict_30         130.30\n",
       "boston                                       55.45\n",
       "bedrooms                                     29.04\n",
       "bathrooms                                    28.82\n",
       "bed_type_Couch                               21.14\n",
       "review_scores_location                       15.97\n",
       "require_guest_phone_verification_t           12.81\n",
       "host_is_superhost_t                          12.02\n",
       "bed_type_Real Bed                            10.80\n",
       "accommodates                                  9.11\n",
       "review_scores_cleanliness                     4.46\n",
       "require_guest_profile_picture_t               3.03\n",
       "host_since_year                               2.94\n",
       "guests_included                               2.86\n",
       "cancellation_policy_strict                    2.54\n",
       "is_location_exact_t                           2.39\n",
       "review_scores_rating                          0.92\n",
       "cancellation_policy_moderate                  0.60\n",
       "review_scores_accuracy                        0.57\n",
       "minimum_nights                                0.08\n",
       "review_scores_communication                  -0.00\n",
       "number_of_reviews                            -0.05\n",
       "host_identity_verified_t                     -0.38\n",
       "bed_type_Futon                               -0.53\n",
       "bed_type_Pull-out Sofa                       -1.06\n",
       "review_scores_checkin                        -2.78\n",
       "instant_bookable_t                           -3.14\n",
       "reviews_per_month                            -3.47\n",
       "host_has_profile_pic_t                      -10.09\n",
       "review_scores_value                         -13.79\n",
       "host_response_time_within a few hours       -18.45\n",
       "host_response_time_within an hour           -26.15\n",
       "host_response_time_within a day             -26.72\n",
       "room_type_Private room                      -62.38\n",
       "room_type_Shared room                       -64.56"
      ]
     },
     "execution_count": 44,
     "metadata": {},
     "output_type": "execute_result"
    }
   ],
   "source": [
    "# 5.1.3. Check if categorical values are stronger predictors than numeric predictors\n",
    "columns_of_interest = list(filled_cleaned_listings_df.columns)\n",
    "columns_of_interest.remove('price_float')\n",
    "total_results = utils.run_linear_regression(filled_cleaned_listings_df, ['price_float'], columns_of_interest)\n",
    "total_results['coefficients'].head(len(columns_of_interest)+1)\n",
    "# Phone verification is associated with more expensive accomodations\n",
    "# Couch is more expensive than a real bed\n",
    "# Host that replies in couple of hours earns more than host replyiong within an hour? \n",
    "# Number of reviews have negative effect on price"
   ]
  },
  {
   "cell_type": "code",
   "execution_count": 45,
   "metadata": {},
   "outputs": [
    {
     "name": "stdout",
     "output_type": "stream",
     "text": [
      "0.5698920359761256\n"
     ]
    }
   ],
   "source": [
    "print(total_results['r2_test'])"
   ]
  },
  {
   "cell_type": "markdown",
   "metadata": {},
   "source": [
    "**2.** Run linear regression on calendar data to see appartment price seasonality and time trend"
   ]
  },
  {
   "cell_type": "code",
   "execution_count": 46,
   "metadata": {},
   "outputs": [
    {
     "data": {
      "text/html": [
       "<div>\n",
       "<style scoped>\n",
       "    .dataframe tbody tr th:only-of-type {\n",
       "        vertical-align: middle;\n",
       "    }\n",
       "\n",
       "    .dataframe tbody tr th {\n",
       "        vertical-align: top;\n",
       "    }\n",
       "\n",
       "    .dataframe thead th {\n",
       "        text-align: right;\n",
       "    }\n",
       "</style>\n",
       "<table border=\"1\" class=\"dataframe\">\n",
       "  <thead>\n",
       "    <tr style=\"text-align: right;\">\n",
       "      <th></th>\n",
       "      <th>Coefficient</th>\n",
       "    </tr>\n",
       "  </thead>\n",
       "  <tbody>\n",
       "    <tr>\n",
       "      <th>boston</th>\n",
       "      <td>75.32</td>\n",
       "    </tr>\n",
       "    <tr>\n",
       "      <th>2017_year</th>\n",
       "      <td>-1.94</td>\n",
       "    </tr>\n",
       "    <tr>\n",
       "      <th>2017_year_boston</th>\n",
       "      <td>-19.14</td>\n",
       "    </tr>\n",
       "  </tbody>\n",
       "</table>\n",
       "</div>"
      ],
      "text/plain": [
       "                  Coefficient\n",
       "boston                  75.32\n",
       "2017_year               -1.94\n",
       "2017_year_boston       -19.14"
      ]
     },
     "execution_count": 46,
     "metadata": {},
     "output_type": "execute_result"
    }
   ],
   "source": [
    "# 5.2.1. Check if prices decreased in 2017\n",
    "columns_of_interest = ['2017_year', 'boston', '2017_year_boston']\n",
    "trends_results = utils.run_linear_regression(calendar_df, ['price_float'], columns_of_interest)\n",
    "trends_results['coefficients'].head(len(columns_of_interest)+1)\n",
    "# Boson is +75 in 2016\n",
    "# seattle prices decreased by 2 dollars in 2017\n",
    "# Boston prices decreased  by about 21 dollars in 2017"
   ]
  },
  {
   "cell_type": "code",
   "execution_count": 49,
   "metadata": {
    "scrolled": true
   },
   "outputs": [],
   "source": [
    "# 5.2.2. create monthly dummies to check what is the best month to com\n",
    "monthly_calendar_df = pd.concat([calendar_df.drop('date_month', axis=1)\n",
    "                            , pd.get_dummies(calendar_df['date_month']\n",
    "                                             , prefix='month', prefix_sep='_', drop_first=True)], axis=1)\n",
    "monthly_calendar_df = monthly_calendar_df.drop(columns=['date_year'])\n",
    "columns_of_interest = [col for col in monthly_calendar_df.columns if 'month_' in col] "
   ]
  },
  {
   "cell_type": "code",
   "execution_count": 50,
   "metadata": {},
   "outputs": [
    {
     "data": {
      "text/html": [
       "<div>\n",
       "<style scoped>\n",
       "    .dataframe tbody tr th:only-of-type {\n",
       "        vertical-align: middle;\n",
       "    }\n",
       "\n",
       "    .dataframe tbody tr th {\n",
       "        vertical-align: top;\n",
       "    }\n",
       "\n",
       "    .dataframe thead th {\n",
       "        text-align: right;\n",
       "    }\n",
       "</style>\n",
       "<table border=\"1\" class=\"dataframe\">\n",
       "  <thead>\n",
       "    <tr style=\"text-align: right;\">\n",
       "      <th></th>\n",
       "      <th>Coefficient</th>\n",
       "    </tr>\n",
       "  </thead>\n",
       "  <tbody>\n",
       "    <tr>\n",
       "      <th>boston</th>\n",
       "      <td>77.70</td>\n",
       "    </tr>\n",
       "    <tr>\n",
       "      <th>month_07</th>\n",
       "      <td>25.09</td>\n",
       "    </tr>\n",
       "    <tr>\n",
       "      <th>month_09</th>\n",
       "      <td>25.06</td>\n",
       "    </tr>\n",
       "    <tr>\n",
       "      <th>month_08</th>\n",
       "      <td>24.48</td>\n",
       "    </tr>\n",
       "    <tr>\n",
       "      <th>month_06</th>\n",
       "      <td>20.15</td>\n",
       "    </tr>\n",
       "    <tr>\n",
       "      <th>month_10</th>\n",
       "      <td>18.48</td>\n",
       "    </tr>\n",
       "    <tr>\n",
       "      <th>month_05</th>\n",
       "      <td>14.72</td>\n",
       "    </tr>\n",
       "    <tr>\n",
       "      <th>month_04</th>\n",
       "      <td>13.19</td>\n",
       "    </tr>\n",
       "    <tr>\n",
       "      <th>2017_year</th>\n",
       "      <td>10.95</td>\n",
       "    </tr>\n",
       "    <tr>\n",
       "      <th>month_11</th>\n",
       "      <td>6.23</td>\n",
       "    </tr>\n",
       "    <tr>\n",
       "      <th>month_03</th>\n",
       "      <td>3.29</td>\n",
       "    </tr>\n",
       "    <tr>\n",
       "      <th>month_12</th>\n",
       "      <td>2.80</td>\n",
       "    </tr>\n",
       "    <tr>\n",
       "      <th>month_02</th>\n",
       "      <td>0.26</td>\n",
       "    </tr>\n",
       "    <tr>\n",
       "      <th>2017_year_boston</th>\n",
       "      <td>-34.09</td>\n",
       "    </tr>\n",
       "  </tbody>\n",
       "</table>\n",
       "</div>"
      ],
      "text/plain": [
       "                  Coefficient\n",
       "boston                  77.70\n",
       "month_07                25.09\n",
       "month_09                25.06\n",
       "month_08                24.48\n",
       "month_06                20.15\n",
       "month_10                18.48\n",
       "month_05                14.72\n",
       "month_04                13.19\n",
       "2017_year               10.95\n",
       "month_11                 6.23\n",
       "month_03                 3.29\n",
       "month_12                 2.80\n",
       "month_02                 0.26\n",
       "2017_year_boston       -34.09"
      ]
     },
     "execution_count": 50,
     "metadata": {},
     "output_type": "execute_result"
    }
   ],
   "source": [
    "# 5.2.3. Check what month is cheapest for tourists\n",
    "monthly_results = utils.run_linear_regression(monthly_calendar_df, ['price_float']\n",
    "                                              , columns_of_interest + ['boston','2017_year','2017_year_boston'])\n",
    "monthly_results['coefficients'].head(len(columns_of_interest)+3)\n",
    "# The sign of 2017_year flips to positive \n",
    "# suggeting that seattle prices increased in 2017 in comparison to 2016 rather tahn dropped\n",
    "# the reason is that now we control for seasonality and previously we saw the effect of \n",
    "# having only relatively cheaper winter months for 2017 seattle dataset"
   ]
  },
  {
   "cell_type": "code",
   "execution_count": 51,
   "metadata": {},
   "outputs": [],
   "source": [
    "# 5.2.4. Check what month is cheapest for tourists separately in Boston and Seattle\n",
    "# list of month dummy columns\n",
    "monthly_columns = [col for col in monthly_calendar_df.columns if 'month_' in col]\n",
    "# create interactions between boston dummy and month dummies\n",
    "for col in monthly_columns:\n",
    "    monthly_calendar_df['boston_' + col] = monthly_calendar_df['boston']*monthly_calendar_df[col]"
   ]
  },
  {
   "cell_type": "code",
   "execution_count": 52,
   "metadata": {},
   "outputs": [
    {
     "data": {
      "text/html": [
       "<div>\n",
       "<style scoped>\n",
       "    .dataframe tbody tr th:only-of-type {\n",
       "        vertical-align: middle;\n",
       "    }\n",
       "\n",
       "    .dataframe tbody tr th {\n",
       "        vertical-align: top;\n",
       "    }\n",
       "\n",
       "    .dataframe thead th {\n",
       "        text-align: right;\n",
       "    }\n",
       "</style>\n",
       "<table border=\"1\" class=\"dataframe\">\n",
       "  <thead>\n",
       "    <tr style=\"text-align: right;\">\n",
       "      <th></th>\n",
       "      <th>Coefficient</th>\n",
       "    </tr>\n",
       "  </thead>\n",
       "  <tbody>\n",
       "    <tr>\n",
       "      <th>boston</th>\n",
       "      <td>59.83</td>\n",
       "    </tr>\n",
       "    <tr>\n",
       "      <th>boston_month_10</th>\n",
       "      <td>36.93</td>\n",
       "    </tr>\n",
       "    <tr>\n",
       "      <th>boston_month_09</th>\n",
       "      <td>33.95</td>\n",
       "    </tr>\n",
       "    <tr>\n",
       "      <th>month_07</th>\n",
       "      <td>28.94</td>\n",
       "    </tr>\n",
       "    <tr>\n",
       "      <th>month_08</th>\n",
       "      <td>27.47</td>\n",
       "    </tr>\n",
       "    <tr>\n",
       "      <th>month_06</th>\n",
       "      <td>24.75</td>\n",
       "    </tr>\n",
       "    <tr>\n",
       "      <th>month_09</th>\n",
       "      <td>20.46</td>\n",
       "    </tr>\n",
       "    <tr>\n",
       "      <th>month_05</th>\n",
       "      <td>16.65</td>\n",
       "    </tr>\n",
       "    <tr>\n",
       "      <th>month_12</th>\n",
       "      <td>14.20</td>\n",
       "    </tr>\n",
       "    <tr>\n",
       "      <th>month_10</th>\n",
       "      <td>13.73</td>\n",
       "    </tr>\n",
       "    <tr>\n",
       "      <th>month_11</th>\n",
       "      <td>13.03</td>\n",
       "    </tr>\n",
       "    <tr>\n",
       "      <th>month_04</th>\n",
       "      <td>11.96</td>\n",
       "    </tr>\n",
       "    <tr>\n",
       "      <th>boston_month_11</th>\n",
       "      <td>6.65</td>\n",
       "    </tr>\n",
       "    <tr>\n",
       "      <th>month_03</th>\n",
       "      <td>5.82</td>\n",
       "    </tr>\n",
       "    <tr>\n",
       "      <th>boston_month_04</th>\n",
       "      <td>3.00</td>\n",
       "    </tr>\n",
       "    <tr>\n",
       "      <th>month_02</th>\n",
       "      <td>1.54</td>\n",
       "    </tr>\n",
       "    <tr>\n",
       "      <th>boston_month_02</th>\n",
       "      <td>-3.35</td>\n",
       "    </tr>\n",
       "    <tr>\n",
       "      <th>boston_month_12</th>\n",
       "      <td>-4.64</td>\n",
       "    </tr>\n",
       "    <tr>\n",
       "      <th>boston_month_05</th>\n",
       "      <td>-4.81</td>\n",
       "    </tr>\n",
       "    <tr>\n",
       "      <th>boston_month_03</th>\n",
       "      <td>-6.32</td>\n",
       "    </tr>\n",
       "    <tr>\n",
       "      <th>boston_month_08</th>\n",
       "      <td>-7.37</td>\n",
       "    </tr>\n",
       "    <tr>\n",
       "      <th>boston_month_07</th>\n",
       "      <td>-9.34</td>\n",
       "    </tr>\n",
       "    <tr>\n",
       "      <th>boston_month_06</th>\n",
       "      <td>-11.42</td>\n",
       "    </tr>\n",
       "  </tbody>\n",
       "</table>\n",
       "</div>"
      ],
      "text/plain": [
       "                 Coefficient\n",
       "boston                 59.83\n",
       "boston_month_10        36.93\n",
       "boston_month_09        33.95\n",
       "month_07               28.94\n",
       "month_08               27.47\n",
       "month_06               24.75\n",
       "month_09               20.46\n",
       "month_05               16.65\n",
       "month_12               14.20\n",
       "month_10               13.73\n",
       "month_11               13.03\n",
       "month_04               11.96\n",
       "boston_month_11         6.65\n",
       "month_03                5.82\n",
       "boston_month_04         3.00\n",
       "month_02                1.54\n",
       "boston_month_02        -3.35\n",
       "boston_month_12        -4.64\n",
       "boston_month_05        -4.81\n",
       "boston_month_03        -6.32\n",
       "boston_month_08        -7.37\n",
       "boston_month_07        -9.34\n",
       "boston_month_06       -11.42"
      ]
     },
     "execution_count": 52,
     "metadata": {},
     "output_type": "execute_result"
    }
   ],
   "source": [
    "# list of interaction columns\n",
    "monthly_interaction_columns = [col for col in monthly_calendar_df.columns if 'month_' in col]\n",
    "# run linear regression\n",
    "monthly_results = utils.run_linear_regression(monthly_calendar_df, ['price_float']\n",
    "                                              , monthly_interaction_columns + ['boston'])\n",
    "# regression coeficients\n",
    "monthly_results['coefficients'].head(len(monthly_interaction_columns)+3)"
   ]
  },
  {
   "cell_type": "code",
   "execution_count": 53,
   "metadata": {},
   "outputs": [],
   "source": [
    "# 5.2.5. combine coefficients for Seattle and Boston to infere overall change of prices in Boston in comparison to January\n",
    "# sort coefificients_df to have boston and seattle coefficients distinctly\n",
    "coefficients_df = monthly_results['coefficients'].sort_index()\n",
    "# select only boston coefficients, reset index so boston-month will match seattle-month on index\n",
    "boston_coefficients_df = coefficients_df[coefficients_df.index.str.contains('boston') \n",
    "                                         & (coefficients_df.index != 'boston')].reset_index(drop=True)\n",
    "# select only seattle coefficients, reset index so boston-month will match seattle-month on index\n",
    "seattle_coefficients_df = coefficients_df[~coefficients_df.index.str.contains('boston')].reset_index(drop=True)"
   ]
  },
  {
   "cell_type": "code",
   "execution_count": 54,
   "metadata": {},
   "outputs": [],
   "source": [
    "# merge seatle and boston data\n",
    "seasonality_df = boston_coefficients_df.merge(seattle_coefficients_df, left_index=True, right_index=True)\n",
    "# rename index somit is more user friendly names\n",
    "seasonality_df.index = ['Feb','March','April','May','June','July','Aug','Sep','Oct','Nov','Dec']"
   ]
  },
  {
   "cell_type": "code",
   "execution_count": 55,
   "metadata": {},
   "outputs": [],
   "source": [
    "# rename columns\n",
    "seasonality_df.columns = ['Season_Impact_Boston', 'Season_Impact_Seattle']\n",
    "# the comparison base for interaction dummies is January in Seattle, \n",
    "# other coefficients is the difference from January in Seattle\n",
    "# so coefficient on Boston is the difference in price between Boston and Seattle in January\n",
    "# difference between Seattle Jan and August is coefficient on month_8\n",
    "# difference between Boston Jan and August is sum of coefficients on month_8 and boston_month_08\n",
    "# so to compare seasonality I need to compute total seasonality impact in Boston\n",
    "seasonality_df['Season_Impact_Boston'] = seasonality_df['Season_Impact_Boston'] + seasonality_df['Season_Impact_Seattle']"
   ]
  },
  {
   "cell_type": "code",
   "execution_count": 56,
   "metadata": {},
   "outputs": [
    {
     "data": {
      "text/html": [
       "<div>\n",
       "<style scoped>\n",
       "    .dataframe tbody tr th:only-of-type {\n",
       "        vertical-align: middle;\n",
       "    }\n",
       "\n",
       "    .dataframe tbody tr th {\n",
       "        vertical-align: top;\n",
       "    }\n",
       "\n",
       "    .dataframe thead th {\n",
       "        text-align: right;\n",
       "    }\n",
       "</style>\n",
       "<table border=\"1\" class=\"dataframe\">\n",
       "  <thead>\n",
       "    <tr style=\"text-align: right;\">\n",
       "      <th></th>\n",
       "      <th>Season_Impact_Boston</th>\n",
       "    </tr>\n",
       "  </thead>\n",
       "  <tbody>\n",
       "    <tr>\n",
       "      <th>Feb</th>\n",
       "      <td>-1.82</td>\n",
       "    </tr>\n",
       "    <tr>\n",
       "      <th>March</th>\n",
       "      <td>-0.50</td>\n",
       "    </tr>\n",
       "    <tr>\n",
       "      <th>Dec</th>\n",
       "      <td>9.55</td>\n",
       "    </tr>\n",
       "    <tr>\n",
       "      <th>May</th>\n",
       "      <td>11.84</td>\n",
       "    </tr>\n",
       "    <tr>\n",
       "      <th>June</th>\n",
       "      <td>13.33</td>\n",
       "    </tr>\n",
       "    <tr>\n",
       "      <th>April</th>\n",
       "      <td>14.97</td>\n",
       "    </tr>\n",
       "    <tr>\n",
       "      <th>July</th>\n",
       "      <td>19.60</td>\n",
       "    </tr>\n",
       "    <tr>\n",
       "      <th>Nov</th>\n",
       "      <td>19.68</td>\n",
       "    </tr>\n",
       "    <tr>\n",
       "      <th>Aug</th>\n",
       "      <td>20.11</td>\n",
       "    </tr>\n",
       "    <tr>\n",
       "      <th>Oct</th>\n",
       "      <td>50.67</td>\n",
       "    </tr>\n",
       "    <tr>\n",
       "      <th>Sep</th>\n",
       "      <td>54.42</td>\n",
       "    </tr>\n",
       "  </tbody>\n",
       "</table>\n",
       "</div>"
      ],
      "text/plain": [
       "       Season_Impact_Boston\n",
       "Feb                   -1.82\n",
       "March                 -0.50\n",
       "Dec                    9.55\n",
       "May                   11.84\n",
       "June                  13.33\n",
       "April                 14.97\n",
       "July                  19.60\n",
       "Nov                   19.68\n",
       "Aug                   20.11\n",
       "Oct                   50.67\n",
       "Sep                   54.42"
      ]
     },
     "execution_count": 56,
     "metadata": {},
     "output_type": "execute_result"
    }
   ],
   "source": [
    "# Sort values for Boston\n",
    "seasonality_df[['Season_Impact_Boston']].sort_values('Season_Impact_Boston').head(11)"
   ]
  },
  {
   "cell_type": "code",
   "execution_count": 57,
   "metadata": {},
   "outputs": [
    {
     "data": {
      "text/html": [
       "<div>\n",
       "<style scoped>\n",
       "    .dataframe tbody tr th:only-of-type {\n",
       "        vertical-align: middle;\n",
       "    }\n",
       "\n",
       "    .dataframe tbody tr th {\n",
       "        vertical-align: top;\n",
       "    }\n",
       "\n",
       "    .dataframe thead th {\n",
       "        text-align: right;\n",
       "    }\n",
       "</style>\n",
       "<table border=\"1\" class=\"dataframe\">\n",
       "  <thead>\n",
       "    <tr style=\"text-align: right;\">\n",
       "      <th></th>\n",
       "      <th>Season_Impact_Seattle</th>\n",
       "    </tr>\n",
       "  </thead>\n",
       "  <tbody>\n",
       "    <tr>\n",
       "      <th>Feb</th>\n",
       "      <td>1.54</td>\n",
       "    </tr>\n",
       "    <tr>\n",
       "      <th>March</th>\n",
       "      <td>5.82</td>\n",
       "    </tr>\n",
       "    <tr>\n",
       "      <th>April</th>\n",
       "      <td>11.96</td>\n",
       "    </tr>\n",
       "    <tr>\n",
       "      <th>Nov</th>\n",
       "      <td>13.03</td>\n",
       "    </tr>\n",
       "    <tr>\n",
       "      <th>Oct</th>\n",
       "      <td>13.73</td>\n",
       "    </tr>\n",
       "    <tr>\n",
       "      <th>Dec</th>\n",
       "      <td>14.20</td>\n",
       "    </tr>\n",
       "    <tr>\n",
       "      <th>May</th>\n",
       "      <td>16.65</td>\n",
       "    </tr>\n",
       "    <tr>\n",
       "      <th>Sep</th>\n",
       "      <td>20.46</td>\n",
       "    </tr>\n",
       "    <tr>\n",
       "      <th>June</th>\n",
       "      <td>24.75</td>\n",
       "    </tr>\n",
       "    <tr>\n",
       "      <th>Aug</th>\n",
       "      <td>27.47</td>\n",
       "    </tr>\n",
       "    <tr>\n",
       "      <th>July</th>\n",
       "      <td>28.94</td>\n",
       "    </tr>\n",
       "  </tbody>\n",
       "</table>\n",
       "</div>"
      ],
      "text/plain": [
       "       Season_Impact_Seattle\n",
       "Feb                     1.54\n",
       "March                   5.82\n",
       "April                  11.96\n",
       "Nov                    13.03\n",
       "Oct                    13.73\n",
       "Dec                    14.20\n",
       "May                    16.65\n",
       "Sep                    20.46\n",
       "June                   24.75\n",
       "Aug                    27.47\n",
       "July                   28.94"
      ]
     },
     "execution_count": 57,
     "metadata": {},
     "output_type": "execute_result"
    }
   ],
   "source": [
    "# Sort values for Seattle\n",
    "seasonality_df[['Season_Impact_Seattle']].sort_values('Season_Impact_Seattle').head(11)         "
   ]
  },
  {
   "cell_type": "code",
   "execution_count": null,
   "metadata": {},
   "outputs": [],
   "source": []
  }
 ],
 "metadata": {
  "kernelspec": {
   "display_name": "Python 3",
   "language": "python",
   "name": "python3"
  },
  "language_info": {
   "codemirror_mode": {
    "name": "ipython",
    "version": 3
   },
   "file_extension": ".py",
   "mimetype": "text/x-python",
   "name": "python",
   "nbconvert_exporter": "python",
   "pygments_lexer": "ipython3",
   "version": "3.6.8"
  }
 },
 "nbformat": 4,
 "nbformat_minor": 4
}
