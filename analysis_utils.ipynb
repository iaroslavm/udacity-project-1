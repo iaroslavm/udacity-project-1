{
 "cells": [
  {
   "cell_type": "code",
   "execution_count": 2,
   "metadata": {},
   "outputs": [],
   "source": [
    "import pandas as pd\n",
    "import numpy as np\n",
    "from sklearn.linear_model import LinearRegression\n",
    "from sklearn.model_selection import train_test_split\n",
    "from sklearn.metrics import r2_score, mean_squared_error\n",
    "import matplotlib.pyplot as plt"
   ]
  },
  {
   "cell_type": "code",
   "execution_count": 3,
   "metadata": {},
   "outputs": [],
   "source": [
    "def convert_price_to_float(data, data_dictionary):\n",
    "    \"\"\"\n",
    "    Function to convert string price columns into float price columns\n",
    "    :param data: type of data set\n",
    "    :param data_dictionary: dictionary with airbnb dataframes\n",
    "    :return: dictionary containing updated dataframes with float price columns\n",
    "    \"\"\"\n",
    "    string_columns = data_dictionary[data].select_dtypes(include=['object']).columns\n",
    "    price_columns = [col for col in string_columns if 'price' in col]\n",
    "    if len(price_columns) > 0:\n",
    "        for price in price_columns:\n",
    "            data_dictionary[data][price + '_float'] = data_dictionary[data][price]\\\n",
    "                .str\\\n",
    "                .replace('$', '')\\\n",
    "                .str\\\n",
    "                .replace(',', '')\\\n",
    "                .astype(float)\n",
    "    return data_dictionary"
   ]
  },
  {
   "cell_type": "code",
   "execution_count": 4,
   "metadata": {},
   "outputs": [],
   "source": [
    "def split_date(data, data_dictionary):\n",
    "    \"\"\"\n",
    "    Function to split date column into separate year, month, day columns\n",
    "    :param data: type of data set\n",
    "    :param data_dictionary: dictionary with airbnb dataframes\n",
    "    :return: dictionary containing updated dataframes with new date columns\n",
    "    \"\"\"\n",
    "    if 'date' in data_dictionary[data].select_dtypes(include=['object']).columns:\n",
    "        data_dictionary[data][['year','month','day']] = data_dictionary[data]['date']\\\n",
    "            .str.split('-', 3, expand=True)\n",
    "    return data_dictionary"
   ]
  },
  {
   "cell_type": "code",
   "execution_count": 6,
   "metadata": {},
   "outputs": [],
   "source": [
    "def load_csv(cities, data_sets, source_directory):\n",
    "    \"\"\"\n",
    "    Function to load three types of csv data sets for Boston and Seattle\n",
    "    :param city_type: list of city names\n",
    "    :param data_type: list of data sets\n",
    "    :param source_directory: location of the csv data sets\n",
    "    :return: \n",
    "    \"\"\"\n",
    "    city_dictionary = {}\n",
    "    for city in cities:\n",
    "        data_dictionary = {}\n",
    "        for data in data_sets:\n",
    "            file_path = source_directory + '/' + data + '-' + city + '.csv'\n",
    "            # 1. read csv into dataframe\n",
    "            data_dictionary[data] = pd.read_csv(file_path)\n",
    "            # 2. convert string price columns into float columns\n",
    "            data_dictionary = convert_price_to_float(data, data_dictionary)\n",
    "            # 3. split date column into separate year, month, day column\n",
    "            data_dictionary = split_date(data, data_dictionary)\n",
    "        city_dictionary[city] = data_dictionary\n",
    "    return city_dictionary"
   ]
  },
  {
   "cell_type": "code",
   "execution_count": 7,
   "metadata": {},
   "outputs": [],
   "source": [
    "# 1. load files\n",
    "data_type = ['calendar'\n",
    "             , 'listings'\n",
    "             , 'reviews']\n",
    "\n",
    "city_type = ['seattle'\n",
    "             , 'boston']\n",
    "city_dictionary = load_csv(city_type, data_type, 'data')"
   ]
  },
  {
   "cell_type": "code",
   "execution_count": null,
   "metadata": {},
   "outputs": [],
   "source": [
    "print(city_dictionary)"
   ]
  }
 ],
 "metadata": {
  "kernelspec": {
   "display_name": "Python 3",
   "language": "python",
   "name": "python3"
  },
  "language_info": {
   "codemirror_mode": {
    "name": "ipython",
    "version": 3
   },
   "file_extension": ".py",
   "mimetype": "text/x-python",
   "name": "python",
   "nbconvert_exporter": "python",
   "pygments_lexer": "ipython3",
   "version": "3.6.8"
  }
 },
 "nbformat": 4,
 "nbformat_minor": 4
}
